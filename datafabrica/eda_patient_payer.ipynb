{
 "cells": [
  {
   "cell_type": "code",
   "execution_count": 36,
   "id": "e38b2a8e",
   "metadata": {},
   "outputs": [
    {
     "data": {
      "text/html": [
       "<div>\n",
       "<style scoped>\n",
       "    .dataframe tbody tr th:only-of-type {\n",
       "        vertical-align: middle;\n",
       "    }\n",
       "\n",
       "    .dataframe tbody tr th {\n",
       "        vertical-align: top;\n",
       "    }\n",
       "\n",
       "    .dataframe thead th {\n",
       "        text-align: right;\n",
       "    }\n",
       "</style>\n",
       "<table border=\"1\" class=\"dataframe\">\n",
       "  <thead>\n",
       "    <tr style=\"text-align: right;\">\n",
       "      <th></th>\n",
       "      <th>patient_id</th>\n",
       "      <th>gender</th>\n",
       "      <th>date_of_birth</th>\n",
       "      <th>insurance_id</th>\n",
       "      <th>insurance_provider</th>\n",
       "      <th>policy_effective_date</th>\n",
       "      <th>policy_expiration_date</th>\n",
       "      <th>service_date</th>\n",
       "      <th>total_billed_amount</th>\n",
       "      <th>insurance_covered_amount</th>\n",
       "      <th>patient_responsibility_amount</th>\n",
       "      <th>payment_status</th>\n",
       "      <th>diagnosis</th>\n",
       "      <th>diagnosis_code</th>\n",
       "      <th>procedure</th>\n",
       "      <th>facility_name</th>\n",
       "      <th>facility_location</th>\n",
       "      <th>cpt_code</th>\n",
       "      <th>patient_name</th>\n",
       "    </tr>\n",
       "  </thead>\n",
       "  <tbody>\n",
       "    <tr>\n",
       "      <th>0</th>\n",
       "      <td>HOSP123-001</td>\n",
       "      <td>Female</td>\n",
       "      <td>1950-01-01 00:00:00</td>\n",
       "      <td>80162604</td>\n",
       "      <td>Anthem Inc.</td>\n",
       "      <td>2010-01-31 00:00:00</td>\n",
       "      <td>2023-07-31 00:00:00</td>\n",
       "      <td>2010-01-01</td>\n",
       "      <td>757.759982</td>\n",
       "      <td>714.003245</td>\n",
       "      <td>43.756737</td>\n",
       "      <td>Pending</td>\n",
       "      <td>Traumatic hemothorax, initial encounter</td>\n",
       "      <td>S27.0XXA</td>\n",
       "      <td>Chest tube insertion and drainage</td>\n",
       "      <td>UCSF Medical Center</td>\n",
       "      <td>San Francisco, CA</td>\n",
       "      <td>32551</td>\n",
       "      <td>Lindsey Riley</td>\n",
       "    </tr>\n",
       "    <tr>\n",
       "      <th>1</th>\n",
       "      <td>HOSP123-002</td>\n",
       "      <td>Male</td>\n",
       "      <td>1950-01-02 00:00:00</td>\n",
       "      <td>45212670</td>\n",
       "      <td>Aetna</td>\n",
       "      <td>2010-02-28 00:00:00</td>\n",
       "      <td>2023-08-31 00:00:00</td>\n",
       "      <td>2010-01-02</td>\n",
       "      <td>2292.188786</td>\n",
       "      <td>559.909592</td>\n",
       "      <td>1732.279194</td>\n",
       "      <td>Denied</td>\n",
       "      <td>Traumatic hemothorax, initial encounter</td>\n",
       "      <td>S27.0XXA</td>\n",
       "      <td>Chest tube insertion and drainage</td>\n",
       "      <td>Brigham and Women's Faulkner Hospital</td>\n",
       "      <td>Boston, MA</td>\n",
       "      <td>32551</td>\n",
       "      <td>Adam Stephens</td>\n",
       "    </tr>\n",
       "    <tr>\n",
       "      <th>2</th>\n",
       "      <td>HOSP123-003</td>\n",
       "      <td>Male</td>\n",
       "      <td>1950-01-03 00:00:00</td>\n",
       "      <td>41189430</td>\n",
       "      <td>Humana</td>\n",
       "      <td>2010-03-31 00:00:00</td>\n",
       "      <td>2023-09-30 00:00:00</td>\n",
       "      <td>2010-01-03</td>\n",
       "      <td>11749.486768</td>\n",
       "      <td>392.097329</td>\n",
       "      <td>11357.389439</td>\n",
       "      <td>Pending</td>\n",
       "      <td>Fracture of the shaft of the left femur, initi...</td>\n",
       "      <td>S72.202A</td>\n",
       "      <td>Surgical fixation with intramedullary nail</td>\n",
       "      <td>Houston Methodist Hospital</td>\n",
       "      <td>Houston, TX</td>\n",
       "      <td>27766</td>\n",
       "      <td>Whitney Park</td>\n",
       "    </tr>\n",
       "    <tr>\n",
       "      <th>3</th>\n",
       "      <td>HOSP123-004</td>\n",
       "      <td>Male</td>\n",
       "      <td>1950-01-04 00:00:00</td>\n",
       "      <td>24302072</td>\n",
       "      <td>Cigna</td>\n",
       "      <td>2010-04-30 00:00:00</td>\n",
       "      <td>2023-10-31 00:00:00</td>\n",
       "      <td>2010-01-04</td>\n",
       "      <td>1422.590673</td>\n",
       "      <td>412.556462</td>\n",
       "      <td>1010.034211</td>\n",
       "      <td>Pending</td>\n",
       "      <td>Fracture of the shaft of the right tibia, init...</td>\n",
       "      <td>S92.401A</td>\n",
       "      <td>Closed reduction and immobilization with cast</td>\n",
       "      <td>Stanford Health Care</td>\n",
       "      <td>Stanford, CA</td>\n",
       "      <td>29065</td>\n",
       "      <td>Brendan Terry</td>\n",
       "    </tr>\n",
       "    <tr>\n",
       "      <th>4</th>\n",
       "      <td>HOSP123-005</td>\n",
       "      <td>Female</td>\n",
       "      <td>1950-01-05 00:00:00</td>\n",
       "      <td>85050348</td>\n",
       "      <td>Humana</td>\n",
       "      <td>2010-05-31 00:00:00</td>\n",
       "      <td>2023-11-30 00:00:00</td>\n",
       "      <td>2010-01-05</td>\n",
       "      <td>517.780358</td>\n",
       "      <td>517.780358</td>\n",
       "      <td>0.000000</td>\n",
       "      <td>Pending</td>\n",
       "      <td>Colles' fracture of the left radius, initial e...</td>\n",
       "      <td>S52.502A</td>\n",
       "      <td>Closed reduction and immobilization with cast</td>\n",
       "      <td>University of Chicago Medical Center</td>\n",
       "      <td>Chicago, IL</td>\n",
       "      <td>29065</td>\n",
       "      <td>Zoe Waller</td>\n",
       "    </tr>\n",
       "  </tbody>\n",
       "</table>\n",
       "</div>"
      ],
      "text/plain": [
       "    patient_id  gender        date_of_birth  insurance_id insurance_provider  \\\n",
       "0  HOSP123-001  Female  1950-01-01 00:00:00      80162604        Anthem Inc.   \n",
       "1  HOSP123-002    Male  1950-01-02 00:00:00      45212670              Aetna   \n",
       "2  HOSP123-003    Male  1950-01-03 00:00:00      41189430             Humana   \n",
       "3  HOSP123-004    Male  1950-01-04 00:00:00      24302072              Cigna   \n",
       "4  HOSP123-005  Female  1950-01-05 00:00:00      85050348             Humana   \n",
       "\n",
       "  policy_effective_date policy_expiration_date service_date  \\\n",
       "0   2010-01-31 00:00:00    2023-07-31 00:00:00   2010-01-01   \n",
       "1   2010-02-28 00:00:00    2023-08-31 00:00:00   2010-01-02   \n",
       "2   2010-03-31 00:00:00    2023-09-30 00:00:00   2010-01-03   \n",
       "3   2010-04-30 00:00:00    2023-10-31 00:00:00   2010-01-04   \n",
       "4   2010-05-31 00:00:00    2023-11-30 00:00:00   2010-01-05   \n",
       "\n",
       "   total_billed_amount  insurance_covered_amount  \\\n",
       "0           757.759982                714.003245   \n",
       "1          2292.188786                559.909592   \n",
       "2         11749.486768                392.097329   \n",
       "3          1422.590673                412.556462   \n",
       "4           517.780358                517.780358   \n",
       "\n",
       "   patient_responsibility_amount payment_status  \\\n",
       "0                      43.756737        Pending   \n",
       "1                    1732.279194         Denied   \n",
       "2                   11357.389439        Pending   \n",
       "3                    1010.034211        Pending   \n",
       "4                       0.000000        Pending   \n",
       "\n",
       "                                           diagnosis diagnosis_code  \\\n",
       "0            Traumatic hemothorax, initial encounter       S27.0XXA   \n",
       "1            Traumatic hemothorax, initial encounter       S27.0XXA   \n",
       "2  Fracture of the shaft of the left femur, initi...       S72.202A   \n",
       "3  Fracture of the shaft of the right tibia, init...       S92.401A   \n",
       "4  Colles' fracture of the left radius, initial e...       S52.502A   \n",
       "\n",
       "                                       procedure  \\\n",
       "0              Chest tube insertion and drainage   \n",
       "1              Chest tube insertion and drainage   \n",
       "2     Surgical fixation with intramedullary nail   \n",
       "3  Closed reduction and immobilization with cast   \n",
       "4  Closed reduction and immobilization with cast   \n",
       "\n",
       "                           facility_name  facility_location  cpt_code  \\\n",
       "0                    UCSF Medical Center  San Francisco, CA     32551   \n",
       "1  Brigham and Women's Faulkner Hospital         Boston, MA     32551   \n",
       "2             Houston Methodist Hospital        Houston, TX     27766   \n",
       "3                   Stanford Health Care       Stanford, CA     29065   \n",
       "4   University of Chicago Medical Center        Chicago, IL     29065   \n",
       "\n",
       "    patient_name  \n",
       "0  Lindsey Riley  \n",
       "1  Adam Stephens  \n",
       "2   Whitney Park  \n",
       "3  Brendan Terry  \n",
       "4     Zoe Waller  "
      ]
     },
     "execution_count": 36,
     "metadata": {},
     "output_type": "execute_result"
    }
   ],
   "source": [
    "import pandas as pd \n",
    "df = pd.read_csv(\"synthetic_patient_payer_data.csv\")\n",
    "df.head()"
   ]
  },
  {
   "cell_type": "code",
   "execution_count": 2,
   "id": "ab80a2fe",
   "metadata": {},
   "outputs": [
    {
     "data": {
      "text/html": [
       "<div>\n",
       "<style scoped>\n",
       "    .dataframe tbody tr th:only-of-type {\n",
       "        vertical-align: middle;\n",
       "    }\n",
       "\n",
       "    .dataframe tbody tr th {\n",
       "        vertical-align: top;\n",
       "    }\n",
       "\n",
       "    .dataframe thead th {\n",
       "        text-align: right;\n",
       "    }\n",
       "</style>\n",
       "<table border=\"1\" class=\"dataframe\">\n",
       "  <thead>\n",
       "    <tr style=\"text-align: right;\">\n",
       "      <th></th>\n",
       "      <th>patient_id</th>\n",
       "      <th>gender</th>\n",
       "      <th>date_of_birth</th>\n",
       "      <th>insurance_id</th>\n",
       "      <th>insurance_provider</th>\n",
       "      <th>policy_effective_date</th>\n",
       "      <th>policy_expiration_date</th>\n",
       "      <th>service_date</th>\n",
       "      <th>total_billed_amount</th>\n",
       "      <th>insurance_covered_amount</th>\n",
       "      <th>patient_responsibility_amount</th>\n",
       "      <th>payment_status</th>\n",
       "      <th>diagnosis</th>\n",
       "      <th>diagnosis_code</th>\n",
       "      <th>procedure</th>\n",
       "      <th>facility_name</th>\n",
       "      <th>facility_location</th>\n",
       "      <th>cpt_code</th>\n",
       "      <th>patient_name</th>\n",
       "    </tr>\n",
       "  </thead>\n",
       "  <tbody>\n",
       "    <tr>\n",
       "      <th>0</th>\n",
       "      <td>HOSP123-001</td>\n",
       "      <td>Female</td>\n",
       "      <td>1950-01-01 00:00:00</td>\n",
       "      <td>80162604</td>\n",
       "      <td>Anthem Inc.</td>\n",
       "      <td>2010-01-31 00:00:00</td>\n",
       "      <td>2023-07-31 00:00:00</td>\n",
       "      <td>2010-01-01</td>\n",
       "      <td>757.759982</td>\n",
       "      <td>714.003245</td>\n",
       "      <td>43.756737</td>\n",
       "      <td>Pending</td>\n",
       "      <td>Traumatic hemothorax, initial encounter</td>\n",
       "      <td>S27.0XXA</td>\n",
       "      <td>Chest tube insertion and drainage</td>\n",
       "      <td>UCSF Medical Center</td>\n",
       "      <td>San Francisco, CA</td>\n",
       "      <td>32551</td>\n",
       "      <td>Lindsey Riley</td>\n",
       "    </tr>\n",
       "    <tr>\n",
       "      <th>1</th>\n",
       "      <td>HOSP123-002</td>\n",
       "      <td>Male</td>\n",
       "      <td>1950-01-02 00:00:00</td>\n",
       "      <td>45212670</td>\n",
       "      <td>Aetna</td>\n",
       "      <td>2010-02-28 00:00:00</td>\n",
       "      <td>2023-08-31 00:00:00</td>\n",
       "      <td>2010-01-02</td>\n",
       "      <td>2292.188786</td>\n",
       "      <td>559.909592</td>\n",
       "      <td>1732.279194</td>\n",
       "      <td>Denied</td>\n",
       "      <td>Traumatic hemothorax, initial encounter</td>\n",
       "      <td>S27.0XXA</td>\n",
       "      <td>Chest tube insertion and drainage</td>\n",
       "      <td>Brigham and Women's Faulkner Hospital</td>\n",
       "      <td>Boston, MA</td>\n",
       "      <td>32551</td>\n",
       "      <td>Adam Stephens</td>\n",
       "    </tr>\n",
       "    <tr>\n",
       "      <th>2</th>\n",
       "      <td>HOSP123-003</td>\n",
       "      <td>Male</td>\n",
       "      <td>1950-01-03 00:00:00</td>\n",
       "      <td>41189430</td>\n",
       "      <td>Humana</td>\n",
       "      <td>2010-03-31 00:00:00</td>\n",
       "      <td>2023-09-30 00:00:00</td>\n",
       "      <td>2010-01-03</td>\n",
       "      <td>11749.486768</td>\n",
       "      <td>392.097329</td>\n",
       "      <td>11357.389439</td>\n",
       "      <td>Pending</td>\n",
       "      <td>Fracture of the shaft of the left femur, initi...</td>\n",
       "      <td>S72.202A</td>\n",
       "      <td>Surgical fixation with intramedullary nail</td>\n",
       "      <td>Houston Methodist Hospital</td>\n",
       "      <td>Houston, TX</td>\n",
       "      <td>27766</td>\n",
       "      <td>Whitney Park</td>\n",
       "    </tr>\n",
       "    <tr>\n",
       "      <th>3</th>\n",
       "      <td>HOSP123-004</td>\n",
       "      <td>Male</td>\n",
       "      <td>1950-01-04 00:00:00</td>\n",
       "      <td>24302072</td>\n",
       "      <td>Cigna</td>\n",
       "      <td>2010-04-30 00:00:00</td>\n",
       "      <td>2023-10-31 00:00:00</td>\n",
       "      <td>2010-01-04</td>\n",
       "      <td>1422.590673</td>\n",
       "      <td>412.556462</td>\n",
       "      <td>1010.034211</td>\n",
       "      <td>Pending</td>\n",
       "      <td>Fracture of the shaft of the right tibia, init...</td>\n",
       "      <td>S92.401A</td>\n",
       "      <td>Closed reduction and immobilization with cast</td>\n",
       "      <td>Stanford Health Care</td>\n",
       "      <td>Stanford, CA</td>\n",
       "      <td>29065</td>\n",
       "      <td>Brendan Terry</td>\n",
       "    </tr>\n",
       "    <tr>\n",
       "      <th>4</th>\n",
       "      <td>HOSP123-005</td>\n",
       "      <td>Female</td>\n",
       "      <td>1950-01-05 00:00:00</td>\n",
       "      <td>85050348</td>\n",
       "      <td>Humana</td>\n",
       "      <td>2010-05-31 00:00:00</td>\n",
       "      <td>2023-11-30 00:00:00</td>\n",
       "      <td>2010-01-05</td>\n",
       "      <td>517.780358</td>\n",
       "      <td>517.780358</td>\n",
       "      <td>0.000000</td>\n",
       "      <td>Pending</td>\n",
       "      <td>Colles' fracture of the left radius, initial e...</td>\n",
       "      <td>S52.502A</td>\n",
       "      <td>Closed reduction and immobilization with cast</td>\n",
       "      <td>University of Chicago Medical Center</td>\n",
       "      <td>Chicago, IL</td>\n",
       "      <td>29065</td>\n",
       "      <td>Zoe Waller</td>\n",
       "    </tr>\n",
       "  </tbody>\n",
       "</table>\n",
       "</div>"
      ],
      "text/plain": [
       "    patient_id  gender        date_of_birth  insurance_id insurance_provider  \\\n",
       "0  HOSP123-001  Female  1950-01-01 00:00:00      80162604        Anthem Inc.   \n",
       "1  HOSP123-002    Male  1950-01-02 00:00:00      45212670              Aetna   \n",
       "2  HOSP123-003    Male  1950-01-03 00:00:00      41189430             Humana   \n",
       "3  HOSP123-004    Male  1950-01-04 00:00:00      24302072              Cigna   \n",
       "4  HOSP123-005  Female  1950-01-05 00:00:00      85050348             Humana   \n",
       "\n",
       "  policy_effective_date policy_expiration_date service_date  \\\n",
       "0   2010-01-31 00:00:00    2023-07-31 00:00:00   2010-01-01   \n",
       "1   2010-02-28 00:00:00    2023-08-31 00:00:00   2010-01-02   \n",
       "2   2010-03-31 00:00:00    2023-09-30 00:00:00   2010-01-03   \n",
       "3   2010-04-30 00:00:00    2023-10-31 00:00:00   2010-01-04   \n",
       "4   2010-05-31 00:00:00    2023-11-30 00:00:00   2010-01-05   \n",
       "\n",
       "   total_billed_amount  insurance_covered_amount  \\\n",
       "0           757.759982                714.003245   \n",
       "1          2292.188786                559.909592   \n",
       "2         11749.486768                392.097329   \n",
       "3          1422.590673                412.556462   \n",
       "4           517.780358                517.780358   \n",
       "\n",
       "   patient_responsibility_amount payment_status  \\\n",
       "0                      43.756737        Pending   \n",
       "1                    1732.279194         Denied   \n",
       "2                   11357.389439        Pending   \n",
       "3                    1010.034211        Pending   \n",
       "4                       0.000000        Pending   \n",
       "\n",
       "                                           diagnosis diagnosis_code  \\\n",
       "0            Traumatic hemothorax, initial encounter       S27.0XXA   \n",
       "1            Traumatic hemothorax, initial encounter       S27.0XXA   \n",
       "2  Fracture of the shaft of the left femur, initi...       S72.202A   \n",
       "3  Fracture of the shaft of the right tibia, init...       S92.401A   \n",
       "4  Colles' fracture of the left radius, initial e...       S52.502A   \n",
       "\n",
       "                                       procedure  \\\n",
       "0              Chest tube insertion and drainage   \n",
       "1              Chest tube insertion and drainage   \n",
       "2     Surgical fixation with intramedullary nail   \n",
       "3  Closed reduction and immobilization with cast   \n",
       "4  Closed reduction and immobilization with cast   \n",
       "\n",
       "                           facility_name  facility_location  cpt_code  \\\n",
       "0                    UCSF Medical Center  San Francisco, CA     32551   \n",
       "1  Brigham and Women's Faulkner Hospital         Boston, MA     32551   \n",
       "2             Houston Methodist Hospital        Houston, TX     27766   \n",
       "3                   Stanford Health Care       Stanford, CA     29065   \n",
       "4   University of Chicago Medical Center        Chicago, IL     29065   \n",
       "\n",
       "    patient_name  \n",
       "0  Lindsey Riley  \n",
       "1  Adam Stephens  \n",
       "2   Whitney Park  \n",
       "3  Brendan Terry  \n",
       "4     Zoe Waller  "
      ]
     },
     "execution_count": 2,
     "metadata": {},
     "output_type": "execute_result"
    }
   ],
   "source": [
    "df.head()"
   ]
  },
  {
   "cell_type": "code",
   "execution_count": 3,
   "id": "6a78dcb1",
   "metadata": {},
   "outputs": [
    {
     "name": "stdout",
     "output_type": "stream",
     "text": [
      "Index(['patient_id', 'gender', 'date_of_birth', 'insurance_id',\n",
      "       'insurance_provider', 'policy_effective_date', 'policy_expiration_date',\n",
      "       'service_date', 'total_billed_amount', 'insurance_covered_amount',\n",
      "       'patient_responsibility_amount', 'payment_status', 'diagnosis',\n",
      "       'diagnosis_code', 'procedure', 'facility_name', 'facility_location',\n",
      "       'cpt_code', 'patient_name'],\n",
      "      dtype='object')\n"
     ]
    }
   ],
   "source": [
    "print(df.columns)"
   ]
  },
  {
   "cell_type": "code",
   "execution_count": 37,
   "id": "2502995c",
   "metadata": {},
   "outputs": [
    {
     "data": {
      "text/plain": [
       "{'patient_id': 'Unique identifier for each patient',\n",
       " 'gender': 'Gender of the patient (e.g., Male, Female, Other)',\n",
       " 'date_of_birth': 'Date of birth of the patient',\n",
       " 'insurance_id': 'Unique identifier for patient insurance',\n",
       " 'insurance_provider': 'Name of the insurance provider',\n",
       " 'policy_effective_date': 'Start date of the insurance policy',\n",
       " 'policy_expiration_date': 'End date of the insurance policy',\n",
       " 'service_date': 'Date when the medical service was provided',\n",
       " 'total_billed_amount': 'Total amount billed for the medical service',\n",
       " 'insurance_covered_amount': 'Amount covered by insurance for the service',\n",
       " 'patient_responsibility_amount': 'Amount the patient is responsible for paying',\n",
       " 'payment_status': 'Status of the payment (e.g., Paid, Unpaid)',\n",
       " 'diagnosis': 'Medical diagnosis for the patient',\n",
       " 'diagnosis_code': 'Diagnostic code for the medical diagnosis',\n",
       " 'procedure': 'Medical procedure performed on the patient',\n",
       " 'facility_name': 'Name of the medical facility where the service was provided',\n",
       " 'facility_location': 'Location of the medical facility',\n",
       " 'cpt_code': 'Current Procedural Terminology (CPT) code for the procedure',\n",
       " 'patient_name': 'Full name of the patient'}"
      ]
     },
     "execution_count": 37,
     "metadata": {},
     "output_type": "execute_result"
    }
   ],
   "source": []
  },
  {
   "cell_type": "code",
   "execution_count": 4,
   "id": "5323a3ea",
   "metadata": {},
   "outputs": [
    {
     "name": "stdout",
     "output_type": "stream",
     "text": [
      "405\n"
     ]
    }
   ],
   "source": [
    "print(len(df))"
   ]
  },
  {
   "cell_type": "code",
   "execution_count": 5,
   "id": "1dada24f",
   "metadata": {},
   "outputs": [
    {
     "name": "stdout",
     "output_type": "stream",
     "text": [
      "Counter({'Female': 225, 'Male': 180})\n"
     ]
    }
   ],
   "source": [
    "from collections import Counter\n",
    "print(Counter(df['gender']))\n"
   ]
  },
  {
   "cell_type": "code",
   "execution_count": 6,
   "id": "65ced19f",
   "metadata": {},
   "outputs": [
    {
     "name": "stdout",
     "output_type": "stream",
     "text": [
      "Counter({'Cigna': 102, 'Aetna': 88, 'Anthem Inc.': 77, 'UnitedHealth Group': 77, 'Humana': 61})\n"
     ]
    }
   ],
   "source": [
    "print(Counter(df['insurance_provider']))"
   ]
  },
  {
   "cell_type": "code",
   "execution_count": 7,
   "id": "e04843c8",
   "metadata": {},
   "outputs": [
    {
     "name": "stdout",
     "output_type": "stream",
     "text": [
      "Counter({'Oregon Health & Science University Hospital': 18, 'Cleveland Clinic': 14, 'University of Alabama at Birmingham Hospital': 14, 'UCSF Medical Center': 12, 'Cedars-Sinai Medical Center': 12, \"Cincinnati Children's Hospital Medical Center\": 12, 'Dartmouth-Hitchcock Medical Center': 12, 'Yale New Haven Hospital': 12, 'Johns Hopkins Hospital': 11, 'Emory University Hospital': 11, 'University of Wisconsin Hospital and Clinics': 11, \"St. Jude Children's Research Hospital\": 10, 'Massachusetts General Hospital': 10, 'NewYork-Presbyterian Hospital': 10, 'Stanford Health Care': 9, 'Penn State Health Milton S. Hershey Medical Center': 9, 'Vanderbilt University Medical Center': 9, 'Keck Hospital of USC': 9, \"Brigham and Women's Faulkner Hospital\": 8, 'NorthShore University HealthSystem - Evanston Hospital': 8, 'Indiana University Health Methodist Hospital': 8, 'Ohio State University Wexner Medical Center': 8, 'UT Southwestern Medical Center': 8, 'MD Anderson Cancer Center': 8, 'Houston Methodist Hospital': 7, 'University of Chicago Medical Center': 7, 'UPMC Presbyterian Shadyside': 7, 'Case Western Reserve University Hospitals': 7, 'Barnes-Jewish Hospital': 7, 'University of Colorado Hospital': 7, 'NYU Langone Health': 7, 'UC San Diego Health': 7, 'Hospital of the University of Pennsylvania': 7, 'Cedars-Sinai Marina del Rey Hospital': 6, 'Northwestern Memorial Hospital': 6, 'Thomas Jefferson University Hospitals': 6, 'Mount Sinai Hospital': 6, 'University of Washington Medical Center': 6, 'Mayo Clinic Phoenix': 6, 'Mayo Clinic': 6, 'University of Maryland Medical Center': 5, \"Baylor St. Luke's Medical Center\": 5, 'Memorial Sloan Kettering Cancer Center': 5, 'University of Iowa Hospitals & Clinics': 5, 'University of Utah Hospital': 5, 'Geisinger Medical Center': 5, \"Brigham and Women's Hospital\": 4, 'Wake Forest Baptist Medical Center': 4, 'Duke University Hospital': 3, 'Rush University Medical Center': 3, 'University of Michigan Hospitals-Michigan Medicine': 3})\n"
     ]
    }
   ],
   "source": [
    "print(Counter(df['facility_name']))"
   ]
  },
  {
   "cell_type": "code",
   "execution_count": 8,
   "id": "61e22224",
   "metadata": {},
   "outputs": [
    {
     "name": "stdout",
     "output_type": "stream",
     "text": [
      "Counter({'New York, NY': 28, 'Boston, MA': 22, 'Los Angeles, CA': 21, 'Houston, TX': 20, 'Portland, OR': 18, 'Chicago, IL': 16, 'Baltimore, MD': 16, 'Cleveland, OH': 16, 'Birmingham, AL': 14, 'Philadelphia, PA': 13, 'San Francisco, CA': 12, 'Cincinnati, OH': 12, 'Lebanon, NH': 12, 'New Haven, CT': 12, 'Atlanta, GA': 11, 'Madison, WI': 11, 'Memphis, TN': 10, 'Stanford, CA': 9, 'Hershey, PA': 9, 'Nashville, TN': 9, 'Evanston, IL': 8, 'Indianapolis, IN': 8, 'Columbus, OH': 8, 'Dallas, TX': 8, 'Pittsburgh, PA': 7, 'St. Louis, MO': 7, 'Aurora, CO': 7, 'San Diego, CA': 7, 'Marina del Rey, CA': 6, 'Seattle, WA': 6, 'Phoenix, AZ': 6, 'Rochester, MN': 6, 'Iowa City, IA': 5, 'Salt Lake City, UT': 5, 'Danville, PA': 5, 'Cleveland, Ohio': 5, 'Winston-Salem, NC': 4, 'Durham, NC': 3, 'Ann Arbor, MI': 3})\n"
     ]
    }
   ],
   "source": [
    "print(Counter(df['facility_location']))"
   ]
  },
  {
   "cell_type": "code",
   "execution_count": 38,
   "id": "fb87a1dc",
   "metadata": {},
   "outputs": [
    {
     "data": {
      "application/vnd.plotly.v1+json": {
       "config": {
        "plotlyServerURL": "https://plot.ly"
       },
       "data": [
        {
         "alignmentgroup": "True",
         "bingroup": "x",
         "hovertemplate": "variable=total_billed_amount<br>value=%{x}<br>count=%{y}<extra></extra>",
         "legendgroup": "total_billed_amount",
         "marker": {
          "color": "#636efa",
          "pattern": {
           "shape": ""
          }
         },
         "name": "total_billed_amount",
         "nbinsx": 100,
         "offsetgroup": "total_billed_amount",
         "orientation": "v",
         "showlegend": true,
         "type": "histogram",
         "x": [
          757.7599821263483,
          2292.188785950007,
          11749.486767736618,
          1422.590673448308,
          517.7803578300552,
          1913.031613508636,
          95.86434763506328,
          1063.1642818832254,
          617.9496987355029,
          148.5732842866069,
          5893.494799758545,
          327.2039856212361,
          847.727181485389,
          2411.447473637458,
          594.7488652472153,
          91.30781711511108,
          1784.5257646299683,
          346.70051598591346,
          7485.428918639822,
          2486.6716680478053,
          2104.486746459451,
          350.78828267102426,
          1386.3256364261997,
          8317.133883317632,
          634.3095224324088,
          527.7176438529035,
          10.792567272246002,
          1127.2498106242228,
          2159.689163240148,
          219.2960460587502,
          297.5287754776728,
          583.0731802496323,
          55.309983020664426,
          69.70462203662912,
          445.0210908078888,
          234.41307089177187,
          421.8426223395699,
          499.3167982633367,
          6310.765931201059,
          3957.503427041527,
          112.98785611682938,
          2468.4249925095232,
          61.92288843216158,
          596.6054854909727,
          135.1671729334056,
          363.9327349939314,
          1316.257343216051,
          450.35797783980615,
          1694.7988500696222,
          1203.8072486670517,
          3899.635505022375,
          650.7428434381045,
          1660.4067626989713,
          307.35909124219086,
          336.7699757558154,
          413.54932669615977,
          429.2532291606872,
          81.13054661394698,
          619.4929713661121,
          75.68586272909592,
          2578.0037652888827,
          47.095457790615455,
          491.3838903217778,
          261.1318580247595,
          126.77071140420556,
          1539.3069032232042,
          1187.2582246395427,
          118.6071079966753,
          897.4384201320938,
          1595.098116270466,
          1476.131228748386,
          71.89967675487343,
          1071.3709235994786,
          1191.8777962991016,
          2201.9624656940614,
          597.4089479904587,
          510.8254072070851,
          5148.982492139723,
          1621.515614465795,
          704.9077254335949,
          317.1304413977089,
          2019.8142421222365,
          501.1053581964821,
          72.2380727137904,
          500.1984316247204,
          2322.437482061882,
          489.0145508827018,
          10.557156200506297,
          836.8744220966781,
          14480.229272906969,
          1772.734896210619,
          852.780286714882,
          3046.358125513604,
          1744.2916604293582,
          579.1603480101091,
          783.3674237229612,
          1259.2217242609363,
          2031.6724762957967,
          44.18183459124688,
          1484.7325399648023,
          487.71176945947104,
          985.1631376891554,
          1426.8372726331534,
          662.1800914525628,
          130.141255866506,
          427.1346844405906,
          59.20027358871446,
          1085.4240957437855,
          4403.043578871353,
          1613.0300847193023,
          397.7586975534068,
          765.917702931666,
          284.28539128747286,
          665.5173327018538,
          280.09611211125593,
          1292.0664602796426,
          232.32760246228804,
          5063.273742457758,
          988.9780501300849,
          52.645866843097664,
          7.909542105069834,
          16891.426612140407,
          190.78224677073223,
          294.49102444118967,
          178.434398381956,
          3398.1140890217293,
          956.6081464870005,
          590.2536718372065,
          702.4388641797992,
          301.06250152580526,
          844.2699871605457,
          442.6606401839568,
          169.22898013350076,
          971.4061170705723,
          374.9840802651079,
          1546.98342151758,
          436.1334760086363,
          597.8554971120826,
          1562.145033011871,
          488.3382450236559,
          5239.288162481303,
          1598.2219002558425,
          1847.60088279522,
          4414.604684114897,
          396.39922665206814,
          755.5096580793537,
          1101.6363071051107,
          1028.1823052878735,
          4362.143139332941,
          265.4019221157839,
          268.94539785646725,
          3130.862737072825,
          1640.6012592874213,
          173.34785685351238,
          731.2905547125113,
          1328.1850413585546,
          346.4627892076058,
          466.1393840459133,
          744.1043199680921,
          521.3166200816858,
          1364.9866340278943,
          4.343459335585287,
          466.544283119109,
          326.09319027863404,
          830.549223613322,
          1491.5360482549115,
          58.60768208651783,
          129.71934199433133,
          999.4621030963292,
          1292.4361910114048,
          775.7149811463075,
          7428.121187639916,
          580.7363711409139,
          109.90529570634376,
          1074.2391220475304,
          811.5548538992898,
          781.3346208441693,
          676.0132504180237,
          3756.3001635008377,
          103.56126342474435,
          56.21423567486156,
          126.077722307372,
          216.62699844019272,
          787.7788655095425,
          839.4506800643934,
          203.4061997933058,
          561.3682671574512,
          548.1338014564146,
          497.1507299474912,
          1670.290238778193,
          529.4253840499474,
          1392.876159218636,
          137.57848430289877,
          646.1131761671315,
          1828.1222447489324,
          148.23860356086698,
          517.4838007988741,
          830.3193209464104,
          155.0400405541951,
          1384.4040624754211,
          60.93274495977814,
          4049.389009691768,
          523.2761049065036,
          324.2055482804149,
          92.7525097331287,
          463.2578367974489,
          981.879028820762,
          73.74415634421699,
          286.79378732662616,
          1931.9309075136684,
          938.2050829039156,
          176.3761706667009,
          132.36675316319992,
          2837.618516084816,
          263.8462360942346,
          149.9496188988495,
          107282.66978335404,
          290.3561246793029,
          99.67148010293415,
          511.9749156968292,
          466.0793176125881,
          3360.859187184972,
          108.04198237904828,
          70.9470262562423,
          72.4830602523977,
          2833.76992492153,
          490.83747165950825,
          122.854999268887,
          790.047801101994,
          658.1399127256013,
          168.4130364738246,
          814.1063747563792,
          329.538162351617,
          209.52528589115795,
          602.0575084533925,
          269.28490470437544,
          192.47180562876085,
          2427.2820660751813,
          127.5946369884761,
          256.37282572653083,
          392.47542586584905,
          248.39789075966817,
          180.7593115858482,
          1463.4972610385305,
          315.0885763569239,
          89.04361483252241,
          665.1914148510257,
          100.3286529813495,
          352.4995143070697,
          2457.3810298559497,
          368.45435682672286,
          896.6788517577985,
          610.4715684825127,
          111.18768286647618,
          947.2668086030648,
          2132.5363081123637,
          72.67831176033468,
          1368.283190423626,
          1088.8381387382033,
          2255.6602594677674,
          81.84256213882766,
          286.09698723946093,
          1104.310207338901,
          16.288027478639524,
          1272.074445361928,
          2154.089059160784,
          497.47850744031575,
          466.0547260072973,
          253.92820332250943,
          3.692509789360367,
          156.52427664204924,
          6862.4092869031965,
          2263.334688849546,
          240.32448773423664,
          5042.601492808739,
          366.4467008515507,
          276.3325162639944,
          124.87340109800104,
          2782.704316635114,
          8520.881117566229,
          313.0486445216178,
          1140.0381440784358,
          323.1470870257558,
          82.60663190793028,
          401.9988812693316,
          688.6962308305158,
          98.1609352193924,
          1780.8223913594293,
          576.7209772711159,
          205.2885034878341,
          787.3003259770683,
          1599.7471021392307,
          313.318943619858,
          1132.270267441214,
          455.6738321521324,
          5065.630731295427,
          1462.3154059265264,
          350.9201632395491,
          13.08933770494327,
          974.38706058613,
          167.88262613482476,
          97.16614488622106,
          3508.7894657517954,
          93051.7441429988,
          244.14070498165955,
          281.3492478205202,
          136.1778342382522,
          504.951192769832,
          2245.7141143696567,
          1132.3875108297586,
          2030.7235836763589,
          199.07514725223447,
          1255.3936063376234,
          3143.534119391994,
          257.32774010373447,
          1090.5013688211732,
          413.76844288377725,
          267.60818567420904,
          5545.560320760841,
          340.59059804608046,
          85.04415912811882,
          396.01997159951134,
          488.00407232705714,
          1360.7057577888695,
          4210.100745926743,
          1771.2289737077313,
          3482.914460169536,
          535.4438156148092,
          1205.964986013371,
          290.18226561848974,
          53.29750781913648,
          363.3560732121827,
          1118.295763182717,
          249.51999933977064,
          2193.119757210642,
          1583.4286862003592,
          164.09736950691732,
          317.4111774000816,
          1838.1096004027884,
          215.49208606419757,
          318.39024368176496,
          333.2462576357577,
          1652.6534995893387,
          27.690865193610904,
          56.69216232022653,
          751.5233975715248,
          408.50270565145394,
          897.7928454983056,
          240.2757493750851,
          2940.948988019971,
          1406.6856144019446,
          51.81631848459876,
          1539.7346975479345,
          5541.577691135125,
          3883.549502691929,
          1278.649846893606,
          98.66619412328087,
          745.7496311373804,
          260.59499385463084,
          5603.529028216193,
          1198.1035733066076,
          834.9075814611531,
          1107.3644860544537,
          471.9827411926096,
          373.4376398082704,
          3639.9512650186575,
          318.8064395807576,
          31.08475376285222,
          414.04103743798953,
          1580.6179469358635,
          945.3720755559212,
          4926.609594326021,
          83.63790440461699,
          2982.9542802795645,
          368.0213942523038,
          533.5477053928298,
          456.66609683461553,
          92.44516671308833,
          219.66406364610444,
          1311.0477486420727,
          17.032104930453503,
          107.75940718809608,
          18.69211038883203,
          2147.4971844394704,
          853.0230731404844,
          140.8279834078432,
          1449.9682078930643,
          5288.323381368123,
          3598.350369298678,
          3219.132428039496,
          5.719735395267841,
          777.7650744090533,
          229.33157000267343,
          718.5815706939267,
          301.25843521006226,
          125.66300629200164,
          482.7005622558888,
          572.4095894141074,
          9561.823932610136,
          31.820768777417385,
          60000,
          850,
          1200,
          10000,
          8500
         ],
         "xaxis": "x",
         "yaxis": "y"
        }
       ],
       "layout": {
        "barmode": "relative",
        "legend": {
         "title": {
          "text": "variable"
         },
         "tracegroupgap": 0
        },
        "template": {
         "data": {
          "bar": [
           {
            "error_x": {
             "color": "#2a3f5f"
            },
            "error_y": {
             "color": "#2a3f5f"
            },
            "marker": {
             "line": {
              "color": "#E5ECF6",
              "width": 0.5
             },
             "pattern": {
              "fillmode": "overlay",
              "size": 10,
              "solidity": 0.2
             }
            },
            "type": "bar"
           }
          ],
          "barpolar": [
           {
            "marker": {
             "line": {
              "color": "#E5ECF6",
              "width": 0.5
             },
             "pattern": {
              "fillmode": "overlay",
              "size": 10,
              "solidity": 0.2
             }
            },
            "type": "barpolar"
           }
          ],
          "carpet": [
           {
            "aaxis": {
             "endlinecolor": "#2a3f5f",
             "gridcolor": "white",
             "linecolor": "white",
             "minorgridcolor": "white",
             "startlinecolor": "#2a3f5f"
            },
            "baxis": {
             "endlinecolor": "#2a3f5f",
             "gridcolor": "white",
             "linecolor": "white",
             "minorgridcolor": "white",
             "startlinecolor": "#2a3f5f"
            },
            "type": "carpet"
           }
          ],
          "choropleth": [
           {
            "colorbar": {
             "outlinewidth": 0,
             "ticks": ""
            },
            "type": "choropleth"
           }
          ],
          "contour": [
           {
            "colorbar": {
             "outlinewidth": 0,
             "ticks": ""
            },
            "colorscale": [
             [
              0,
              "#0d0887"
             ],
             [
              0.1111111111111111,
              "#46039f"
             ],
             [
              0.2222222222222222,
              "#7201a8"
             ],
             [
              0.3333333333333333,
              "#9c179e"
             ],
             [
              0.4444444444444444,
              "#bd3786"
             ],
             [
              0.5555555555555556,
              "#d8576b"
             ],
             [
              0.6666666666666666,
              "#ed7953"
             ],
             [
              0.7777777777777778,
              "#fb9f3a"
             ],
             [
              0.8888888888888888,
              "#fdca26"
             ],
             [
              1,
              "#f0f921"
             ]
            ],
            "type": "contour"
           }
          ],
          "contourcarpet": [
           {
            "colorbar": {
             "outlinewidth": 0,
             "ticks": ""
            },
            "type": "contourcarpet"
           }
          ],
          "heatmap": [
           {
            "colorbar": {
             "outlinewidth": 0,
             "ticks": ""
            },
            "colorscale": [
             [
              0,
              "#0d0887"
             ],
             [
              0.1111111111111111,
              "#46039f"
             ],
             [
              0.2222222222222222,
              "#7201a8"
             ],
             [
              0.3333333333333333,
              "#9c179e"
             ],
             [
              0.4444444444444444,
              "#bd3786"
             ],
             [
              0.5555555555555556,
              "#d8576b"
             ],
             [
              0.6666666666666666,
              "#ed7953"
             ],
             [
              0.7777777777777778,
              "#fb9f3a"
             ],
             [
              0.8888888888888888,
              "#fdca26"
             ],
             [
              1,
              "#f0f921"
             ]
            ],
            "type": "heatmap"
           }
          ],
          "heatmapgl": [
           {
            "colorbar": {
             "outlinewidth": 0,
             "ticks": ""
            },
            "colorscale": [
             [
              0,
              "#0d0887"
             ],
             [
              0.1111111111111111,
              "#46039f"
             ],
             [
              0.2222222222222222,
              "#7201a8"
             ],
             [
              0.3333333333333333,
              "#9c179e"
             ],
             [
              0.4444444444444444,
              "#bd3786"
             ],
             [
              0.5555555555555556,
              "#d8576b"
             ],
             [
              0.6666666666666666,
              "#ed7953"
             ],
             [
              0.7777777777777778,
              "#fb9f3a"
             ],
             [
              0.8888888888888888,
              "#fdca26"
             ],
             [
              1,
              "#f0f921"
             ]
            ],
            "type": "heatmapgl"
           }
          ],
          "histogram": [
           {
            "marker": {
             "pattern": {
              "fillmode": "overlay",
              "size": 10,
              "solidity": 0.2
             }
            },
            "type": "histogram"
           }
          ],
          "histogram2d": [
           {
            "colorbar": {
             "outlinewidth": 0,
             "ticks": ""
            },
            "colorscale": [
             [
              0,
              "#0d0887"
             ],
             [
              0.1111111111111111,
              "#46039f"
             ],
             [
              0.2222222222222222,
              "#7201a8"
             ],
             [
              0.3333333333333333,
              "#9c179e"
             ],
             [
              0.4444444444444444,
              "#bd3786"
             ],
             [
              0.5555555555555556,
              "#d8576b"
             ],
             [
              0.6666666666666666,
              "#ed7953"
             ],
             [
              0.7777777777777778,
              "#fb9f3a"
             ],
             [
              0.8888888888888888,
              "#fdca26"
             ],
             [
              1,
              "#f0f921"
             ]
            ],
            "type": "histogram2d"
           }
          ],
          "histogram2dcontour": [
           {
            "colorbar": {
             "outlinewidth": 0,
             "ticks": ""
            },
            "colorscale": [
             [
              0,
              "#0d0887"
             ],
             [
              0.1111111111111111,
              "#46039f"
             ],
             [
              0.2222222222222222,
              "#7201a8"
             ],
             [
              0.3333333333333333,
              "#9c179e"
             ],
             [
              0.4444444444444444,
              "#bd3786"
             ],
             [
              0.5555555555555556,
              "#d8576b"
             ],
             [
              0.6666666666666666,
              "#ed7953"
             ],
             [
              0.7777777777777778,
              "#fb9f3a"
             ],
             [
              0.8888888888888888,
              "#fdca26"
             ],
             [
              1,
              "#f0f921"
             ]
            ],
            "type": "histogram2dcontour"
           }
          ],
          "mesh3d": [
           {
            "colorbar": {
             "outlinewidth": 0,
             "ticks": ""
            },
            "type": "mesh3d"
           }
          ],
          "parcoords": [
           {
            "line": {
             "colorbar": {
              "outlinewidth": 0,
              "ticks": ""
             }
            },
            "type": "parcoords"
           }
          ],
          "pie": [
           {
            "automargin": true,
            "type": "pie"
           }
          ],
          "scatter": [
           {
            "fillpattern": {
             "fillmode": "overlay",
             "size": 10,
             "solidity": 0.2
            },
            "type": "scatter"
           }
          ],
          "scatter3d": [
           {
            "line": {
             "colorbar": {
              "outlinewidth": 0,
              "ticks": ""
             }
            },
            "marker": {
             "colorbar": {
              "outlinewidth": 0,
              "ticks": ""
             }
            },
            "type": "scatter3d"
           }
          ],
          "scattercarpet": [
           {
            "marker": {
             "colorbar": {
              "outlinewidth": 0,
              "ticks": ""
             }
            },
            "type": "scattercarpet"
           }
          ],
          "scattergeo": [
           {
            "marker": {
             "colorbar": {
              "outlinewidth": 0,
              "ticks": ""
             }
            },
            "type": "scattergeo"
           }
          ],
          "scattergl": [
           {
            "marker": {
             "colorbar": {
              "outlinewidth": 0,
              "ticks": ""
             }
            },
            "type": "scattergl"
           }
          ],
          "scattermapbox": [
           {
            "marker": {
             "colorbar": {
              "outlinewidth": 0,
              "ticks": ""
             }
            },
            "type": "scattermapbox"
           }
          ],
          "scatterpolar": [
           {
            "marker": {
             "colorbar": {
              "outlinewidth": 0,
              "ticks": ""
             }
            },
            "type": "scatterpolar"
           }
          ],
          "scatterpolargl": [
           {
            "marker": {
             "colorbar": {
              "outlinewidth": 0,
              "ticks": ""
             }
            },
            "type": "scatterpolargl"
           }
          ],
          "scatterternary": [
           {
            "marker": {
             "colorbar": {
              "outlinewidth": 0,
              "ticks": ""
             }
            },
            "type": "scatterternary"
           }
          ],
          "surface": [
           {
            "colorbar": {
             "outlinewidth": 0,
             "ticks": ""
            },
            "colorscale": [
             [
              0,
              "#0d0887"
             ],
             [
              0.1111111111111111,
              "#46039f"
             ],
             [
              0.2222222222222222,
              "#7201a8"
             ],
             [
              0.3333333333333333,
              "#9c179e"
             ],
             [
              0.4444444444444444,
              "#bd3786"
             ],
             [
              0.5555555555555556,
              "#d8576b"
             ],
             [
              0.6666666666666666,
              "#ed7953"
             ],
             [
              0.7777777777777778,
              "#fb9f3a"
             ],
             [
              0.8888888888888888,
              "#fdca26"
             ],
             [
              1,
              "#f0f921"
             ]
            ],
            "type": "surface"
           }
          ],
          "table": [
           {
            "cells": {
             "fill": {
              "color": "#EBF0F8"
             },
             "line": {
              "color": "white"
             }
            },
            "header": {
             "fill": {
              "color": "#C8D4E3"
             },
             "line": {
              "color": "white"
             }
            },
            "type": "table"
           }
          ]
         },
         "layout": {
          "annotationdefaults": {
           "arrowcolor": "#2a3f5f",
           "arrowhead": 0,
           "arrowwidth": 1
          },
          "autotypenumbers": "strict",
          "coloraxis": {
           "colorbar": {
            "outlinewidth": 0,
            "ticks": ""
           }
          },
          "colorscale": {
           "diverging": [
            [
             0,
             "#8e0152"
            ],
            [
             0.1,
             "#c51b7d"
            ],
            [
             0.2,
             "#de77ae"
            ],
            [
             0.3,
             "#f1b6da"
            ],
            [
             0.4,
             "#fde0ef"
            ],
            [
             0.5,
             "#f7f7f7"
            ],
            [
             0.6,
             "#e6f5d0"
            ],
            [
             0.7,
             "#b8e186"
            ],
            [
             0.8,
             "#7fbc41"
            ],
            [
             0.9,
             "#4d9221"
            ],
            [
             1,
             "#276419"
            ]
           ],
           "sequential": [
            [
             0,
             "#0d0887"
            ],
            [
             0.1111111111111111,
             "#46039f"
            ],
            [
             0.2222222222222222,
             "#7201a8"
            ],
            [
             0.3333333333333333,
             "#9c179e"
            ],
            [
             0.4444444444444444,
             "#bd3786"
            ],
            [
             0.5555555555555556,
             "#d8576b"
            ],
            [
             0.6666666666666666,
             "#ed7953"
            ],
            [
             0.7777777777777778,
             "#fb9f3a"
            ],
            [
             0.8888888888888888,
             "#fdca26"
            ],
            [
             1,
             "#f0f921"
            ]
           ],
           "sequentialminus": [
            [
             0,
             "#0d0887"
            ],
            [
             0.1111111111111111,
             "#46039f"
            ],
            [
             0.2222222222222222,
             "#7201a8"
            ],
            [
             0.3333333333333333,
             "#9c179e"
            ],
            [
             0.4444444444444444,
             "#bd3786"
            ],
            [
             0.5555555555555556,
             "#d8576b"
            ],
            [
             0.6666666666666666,
             "#ed7953"
            ],
            [
             0.7777777777777778,
             "#fb9f3a"
            ],
            [
             0.8888888888888888,
             "#fdca26"
            ],
            [
             1,
             "#f0f921"
            ]
           ]
          },
          "colorway": [
           "#636efa",
           "#EF553B",
           "#00cc96",
           "#ab63fa",
           "#FFA15A",
           "#19d3f3",
           "#FF6692",
           "#B6E880",
           "#FF97FF",
           "#FECB52"
          ],
          "font": {
           "color": "#2a3f5f"
          },
          "geo": {
           "bgcolor": "white",
           "lakecolor": "white",
           "landcolor": "#E5ECF6",
           "showlakes": true,
           "showland": true,
           "subunitcolor": "white"
          },
          "hoverlabel": {
           "align": "left"
          },
          "hovermode": "closest",
          "mapbox": {
           "style": "light"
          },
          "paper_bgcolor": "white",
          "plot_bgcolor": "#E5ECF6",
          "polar": {
           "angularaxis": {
            "gridcolor": "white",
            "linecolor": "white",
            "ticks": ""
           },
           "bgcolor": "#E5ECF6",
           "radialaxis": {
            "gridcolor": "white",
            "linecolor": "white",
            "ticks": ""
           }
          },
          "scene": {
           "xaxis": {
            "backgroundcolor": "#E5ECF6",
            "gridcolor": "white",
            "gridwidth": 2,
            "linecolor": "white",
            "showbackground": true,
            "ticks": "",
            "zerolinecolor": "white"
           },
           "yaxis": {
            "backgroundcolor": "#E5ECF6",
            "gridcolor": "white",
            "gridwidth": 2,
            "linecolor": "white",
            "showbackground": true,
            "ticks": "",
            "zerolinecolor": "white"
           },
           "zaxis": {
            "backgroundcolor": "#E5ECF6",
            "gridcolor": "white",
            "gridwidth": 2,
            "linecolor": "white",
            "showbackground": true,
            "ticks": "",
            "zerolinecolor": "white"
           }
          },
          "shapedefaults": {
           "line": {
            "color": "#2a3f5f"
           }
          },
          "ternary": {
           "aaxis": {
            "gridcolor": "white",
            "linecolor": "white",
            "ticks": ""
           },
           "baxis": {
            "gridcolor": "white",
            "linecolor": "white",
            "ticks": ""
           },
           "bgcolor": "#E5ECF6",
           "caxis": {
            "gridcolor": "white",
            "linecolor": "white",
            "ticks": ""
           }
          },
          "title": {
           "x": 0.05
          },
          "xaxis": {
           "automargin": true,
           "gridcolor": "white",
           "linecolor": "white",
           "ticks": "",
           "title": {
            "standoff": 15
           },
           "zerolinecolor": "white",
           "zerolinewidth": 2
          },
          "yaxis": {
           "automargin": true,
           "gridcolor": "white",
           "linecolor": "white",
           "ticks": "",
           "title": {
            "standoff": 15
           },
           "zerolinecolor": "white",
           "zerolinewidth": 2
          }
         }
        },
        "title": {
         "text": "Histogram of total_billed_amount"
        },
        "xaxis": {
         "anchor": "y",
         "domain": [
          0,
          1
         ],
         "title": {
          "text": "value"
         }
        },
        "yaxis": {
         "anchor": "x",
         "domain": [
          0,
          1
         ],
         "title": {
          "text": "count"
         }
        }
       }
      },
      "text/html": [
       "<div>                            <div id=\"61c77dd3-558d-4a22-bf56-cfe9c6118bd2\" class=\"plotly-graph-div\" style=\"height:525px; width:100%;\"></div>            <script type=\"text/javascript\">                require([\"plotly\"], function(Plotly) {                    window.PLOTLYENV=window.PLOTLYENV || {};                                    if (document.getElementById(\"61c77dd3-558d-4a22-bf56-cfe9c6118bd2\")) {                    Plotly.newPlot(                        \"61c77dd3-558d-4a22-bf56-cfe9c6118bd2\",                        [{\"alignmentgroup\":\"True\",\"bingroup\":\"x\",\"hovertemplate\":\"variable=total_billed_amount<br>value=%{x}<br>count=%{y}<extra></extra>\",\"legendgroup\":\"total_billed_amount\",\"marker\":{\"color\":\"#636efa\",\"pattern\":{\"shape\":\"\"}},\"name\":\"total_billed_amount\",\"nbinsx\":100,\"offsetgroup\":\"total_billed_amount\",\"orientation\":\"v\",\"showlegend\":true,\"x\":[757.7599821263483,2292.188785950007,11749.486767736618,1422.590673448308,517.7803578300552,1913.031613508636,95.86434763506328,1063.1642818832254,617.9496987355029,148.5732842866069,5893.494799758545,327.2039856212361,847.727181485389,2411.447473637458,594.7488652472153,91.30781711511108,1784.5257646299683,346.70051598591346,7485.428918639822,2486.6716680478053,2104.486746459451,350.78828267102426,1386.3256364261997,8317.133883317632,634.3095224324088,527.7176438529035,10.792567272246002,1127.2498106242228,2159.689163240148,219.2960460587502,297.5287754776728,583.0731802496323,55.309983020664426,69.70462203662912,445.0210908078888,234.41307089177187,421.8426223395699,499.3167982633367,6310.765931201059,3957.503427041527,112.98785611682938,2468.4249925095232,61.92288843216158,596.6054854909727,135.1671729334056,363.9327349939314,1316.257343216051,450.35797783980615,1694.7988500696222,1203.8072486670517,3899.635505022375,650.7428434381045,1660.4067626989713,307.35909124219086,336.7699757558154,413.54932669615977,429.2532291606872,81.13054661394698,619.4929713661121,75.68586272909592,2578.0037652888827,47.095457790615455,491.3838903217778,261.1318580247595,126.77071140420556,1539.3069032232042,1187.2582246395427,118.6071079966753,897.4384201320938,1595.098116270466,1476.131228748386,71.89967675487343,1071.3709235994786,1191.8777962991016,2201.9624656940614,597.4089479904587,510.8254072070851,5148.982492139723,1621.515614465795,704.9077254335949,317.1304413977089,2019.8142421222365,501.1053581964821,72.2380727137904,500.1984316247204,2322.437482061882,489.0145508827018,10.557156200506297,836.8744220966781,14480.229272906969,1772.734896210619,852.780286714882,3046.358125513604,1744.2916604293582,579.1603480101091,783.3674237229612,1259.2217242609363,2031.6724762957967,44.18183459124688,1484.7325399648023,487.71176945947104,985.1631376891554,1426.8372726331534,662.1800914525628,130.141255866506,427.1346844405906,59.20027358871446,1085.4240957437855,4403.043578871353,1613.0300847193023,397.7586975534068,765.917702931666,284.28539128747286,665.5173327018538,280.09611211125593,1292.0664602796426,232.32760246228804,5063.273742457758,988.9780501300849,52.645866843097664,7.909542105069834,16891.426612140407,190.78224677073223,294.49102444118967,178.434398381956,3398.1140890217293,956.6081464870005,590.2536718372065,702.4388641797992,301.06250152580526,844.2699871605457,442.6606401839568,169.22898013350076,971.4061170705723,374.9840802651079,1546.98342151758,436.1334760086363,597.8554971120826,1562.145033011871,488.3382450236559,5239.288162481303,1598.2219002558425,1847.60088279522,4414.604684114897,396.39922665206814,755.5096580793537,1101.6363071051107,1028.1823052878735,4362.143139332941,265.4019221157839,268.94539785646725,3130.862737072825,1640.6012592874213,173.34785685351238,731.2905547125113,1328.1850413585546,346.4627892076058,466.1393840459133,744.1043199680921,521.3166200816858,1364.9866340278943,4.343459335585287,466.544283119109,326.09319027863404,830.549223613322,1491.5360482549115,58.60768208651783,129.71934199433133,999.4621030963292,1292.4361910114048,775.7149811463075,7428.121187639916,580.7363711409139,109.90529570634376,1074.2391220475304,811.5548538992898,781.3346208441693,676.0132504180237,3756.3001635008377,103.56126342474435,56.21423567486156,126.077722307372,216.62699844019272,787.7788655095425,839.4506800643934,203.4061997933058,561.3682671574512,548.1338014564146,497.1507299474912,1670.290238778193,529.4253840499474,1392.876159218636,137.57848430289877,646.1131761671315,1828.1222447489324,148.23860356086698,517.4838007988741,830.3193209464104,155.0400405541951,1384.4040624754211,60.93274495977814,4049.389009691768,523.2761049065036,324.2055482804149,92.7525097331287,463.2578367974489,981.879028820762,73.74415634421699,286.79378732662616,1931.9309075136684,938.2050829039156,176.3761706667009,132.36675316319992,2837.618516084816,263.8462360942346,149.9496188988495,107282.66978335404,290.3561246793029,99.67148010293415,511.9749156968292,466.0793176125881,3360.859187184972,108.04198237904828,70.9470262562423,72.4830602523977,2833.76992492153,490.83747165950825,122.854999268887,790.047801101994,658.1399127256013,168.4130364738246,814.1063747563792,329.538162351617,209.52528589115795,602.0575084533925,269.28490470437544,192.47180562876085,2427.2820660751813,127.5946369884761,256.37282572653083,392.47542586584905,248.39789075966817,180.7593115858482,1463.4972610385305,315.0885763569239,89.04361483252241,665.1914148510257,100.3286529813495,352.4995143070697,2457.3810298559497,368.45435682672286,896.6788517577985,610.4715684825127,111.18768286647618,947.2668086030648,2132.5363081123637,72.67831176033468,1368.283190423626,1088.8381387382033,2255.6602594677674,81.84256213882766,286.09698723946093,1104.310207338901,16.288027478639524,1272.074445361928,2154.089059160784,497.47850744031575,466.0547260072973,253.92820332250943,3.692509789360367,156.52427664204924,6862.4092869031965,2263.334688849546,240.32448773423664,5042.601492808739,366.4467008515507,276.3325162639944,124.87340109800104,2782.704316635114,8520.881117566229,313.0486445216178,1140.0381440784358,323.1470870257558,82.60663190793028,401.9988812693316,688.6962308305158,98.1609352193924,1780.8223913594293,576.7209772711159,205.2885034878341,787.3003259770683,1599.7471021392307,313.318943619858,1132.270267441214,455.6738321521324,5065.630731295427,1462.3154059265264,350.9201632395491,13.08933770494327,974.38706058613,167.88262613482476,97.16614488622106,3508.7894657517954,93051.7441429988,244.14070498165955,281.3492478205202,136.1778342382522,504.951192769832,2245.7141143696567,1132.3875108297586,2030.7235836763589,199.07514725223447,1255.3936063376234,3143.534119391994,257.32774010373447,1090.5013688211732,413.76844288377725,267.60818567420904,5545.560320760841,340.59059804608046,85.04415912811882,396.01997159951134,488.00407232705714,1360.7057577888695,4210.100745926743,1771.2289737077313,3482.914460169536,535.4438156148092,1205.964986013371,290.18226561848974,53.29750781913648,363.3560732121827,1118.295763182717,249.51999933977064,2193.119757210642,1583.4286862003592,164.09736950691732,317.4111774000816,1838.1096004027884,215.49208606419757,318.39024368176496,333.2462576357577,1652.6534995893387,27.690865193610904,56.69216232022653,751.5233975715248,408.50270565145394,897.7928454983056,240.2757493750851,2940.948988019971,1406.6856144019446,51.81631848459876,1539.7346975479345,5541.577691135125,3883.549502691929,1278.649846893606,98.66619412328087,745.7496311373804,260.59499385463084,5603.529028216193,1198.1035733066076,834.9075814611531,1107.3644860544537,471.9827411926096,373.4376398082704,3639.9512650186575,318.8064395807576,31.08475376285222,414.04103743798953,1580.6179469358635,945.3720755559212,4926.609594326021,83.63790440461699,2982.9542802795645,368.0213942523038,533.5477053928298,456.66609683461553,92.44516671308833,219.66406364610444,1311.0477486420727,17.032104930453503,107.75940718809608,18.69211038883203,2147.4971844394704,853.0230731404844,140.8279834078432,1449.9682078930643,5288.323381368123,3598.350369298678,3219.132428039496,5.719735395267841,777.7650744090533,229.33157000267343,718.5815706939267,301.25843521006226,125.66300629200164,482.7005622558888,572.4095894141074,9561.823932610136,31.820768777417385,60000.0,850.0,1200.0,10000.0,8500.0],\"xaxis\":\"x\",\"yaxis\":\"y\",\"type\":\"histogram\"}],                        {\"template\":{\"data\":{\"histogram2dcontour\":[{\"type\":\"histogram2dcontour\",\"colorbar\":{\"outlinewidth\":0,\"ticks\":\"\"},\"colorscale\":[[0.0,\"#0d0887\"],[0.1111111111111111,\"#46039f\"],[0.2222222222222222,\"#7201a8\"],[0.3333333333333333,\"#9c179e\"],[0.4444444444444444,\"#bd3786\"],[0.5555555555555556,\"#d8576b\"],[0.6666666666666666,\"#ed7953\"],[0.7777777777777778,\"#fb9f3a\"],[0.8888888888888888,\"#fdca26\"],[1.0,\"#f0f921\"]]}],\"choropleth\":[{\"type\":\"choropleth\",\"colorbar\":{\"outlinewidth\":0,\"ticks\":\"\"}}],\"histogram2d\":[{\"type\":\"histogram2d\",\"colorbar\":{\"outlinewidth\":0,\"ticks\":\"\"},\"colorscale\":[[0.0,\"#0d0887\"],[0.1111111111111111,\"#46039f\"],[0.2222222222222222,\"#7201a8\"],[0.3333333333333333,\"#9c179e\"],[0.4444444444444444,\"#bd3786\"],[0.5555555555555556,\"#d8576b\"],[0.6666666666666666,\"#ed7953\"],[0.7777777777777778,\"#fb9f3a\"],[0.8888888888888888,\"#fdca26\"],[1.0,\"#f0f921\"]]}],\"heatmap\":[{\"type\":\"heatmap\",\"colorbar\":{\"outlinewidth\":0,\"ticks\":\"\"},\"colorscale\":[[0.0,\"#0d0887\"],[0.1111111111111111,\"#46039f\"],[0.2222222222222222,\"#7201a8\"],[0.3333333333333333,\"#9c179e\"],[0.4444444444444444,\"#bd3786\"],[0.5555555555555556,\"#d8576b\"],[0.6666666666666666,\"#ed7953\"],[0.7777777777777778,\"#fb9f3a\"],[0.8888888888888888,\"#fdca26\"],[1.0,\"#f0f921\"]]}],\"heatmapgl\":[{\"type\":\"heatmapgl\",\"colorbar\":{\"outlinewidth\":0,\"ticks\":\"\"},\"colorscale\":[[0.0,\"#0d0887\"],[0.1111111111111111,\"#46039f\"],[0.2222222222222222,\"#7201a8\"],[0.3333333333333333,\"#9c179e\"],[0.4444444444444444,\"#bd3786\"],[0.5555555555555556,\"#d8576b\"],[0.6666666666666666,\"#ed7953\"],[0.7777777777777778,\"#fb9f3a\"],[0.8888888888888888,\"#fdca26\"],[1.0,\"#f0f921\"]]}],\"contourcarpet\":[{\"type\":\"contourcarpet\",\"colorbar\":{\"outlinewidth\":0,\"ticks\":\"\"}}],\"contour\":[{\"type\":\"contour\",\"colorbar\":{\"outlinewidth\":0,\"ticks\":\"\"},\"colorscale\":[[0.0,\"#0d0887\"],[0.1111111111111111,\"#46039f\"],[0.2222222222222222,\"#7201a8\"],[0.3333333333333333,\"#9c179e\"],[0.4444444444444444,\"#bd3786\"],[0.5555555555555556,\"#d8576b\"],[0.6666666666666666,\"#ed7953\"],[0.7777777777777778,\"#fb9f3a\"],[0.8888888888888888,\"#fdca26\"],[1.0,\"#f0f921\"]]}],\"surface\":[{\"type\":\"surface\",\"colorbar\":{\"outlinewidth\":0,\"ticks\":\"\"},\"colorscale\":[[0.0,\"#0d0887\"],[0.1111111111111111,\"#46039f\"],[0.2222222222222222,\"#7201a8\"],[0.3333333333333333,\"#9c179e\"],[0.4444444444444444,\"#bd3786\"],[0.5555555555555556,\"#d8576b\"],[0.6666666666666666,\"#ed7953\"],[0.7777777777777778,\"#fb9f3a\"],[0.8888888888888888,\"#fdca26\"],[1.0,\"#f0f921\"]]}],\"mesh3d\":[{\"type\":\"mesh3d\",\"colorbar\":{\"outlinewidth\":0,\"ticks\":\"\"}}],\"scatter\":[{\"fillpattern\":{\"fillmode\":\"overlay\",\"size\":10,\"solidity\":0.2},\"type\":\"scatter\"}],\"parcoords\":[{\"type\":\"parcoords\",\"line\":{\"colorbar\":{\"outlinewidth\":0,\"ticks\":\"\"}}}],\"scatterpolargl\":[{\"type\":\"scatterpolargl\",\"marker\":{\"colorbar\":{\"outlinewidth\":0,\"ticks\":\"\"}}}],\"bar\":[{\"error_x\":{\"color\":\"#2a3f5f\"},\"error_y\":{\"color\":\"#2a3f5f\"},\"marker\":{\"line\":{\"color\":\"#E5ECF6\",\"width\":0.5},\"pattern\":{\"fillmode\":\"overlay\",\"size\":10,\"solidity\":0.2}},\"type\":\"bar\"}],\"scattergeo\":[{\"type\":\"scattergeo\",\"marker\":{\"colorbar\":{\"outlinewidth\":0,\"ticks\":\"\"}}}],\"scatterpolar\":[{\"type\":\"scatterpolar\",\"marker\":{\"colorbar\":{\"outlinewidth\":0,\"ticks\":\"\"}}}],\"histogram\":[{\"marker\":{\"pattern\":{\"fillmode\":\"overlay\",\"size\":10,\"solidity\":0.2}},\"type\":\"histogram\"}],\"scattergl\":[{\"type\":\"scattergl\",\"marker\":{\"colorbar\":{\"outlinewidth\":0,\"ticks\":\"\"}}}],\"scatter3d\":[{\"type\":\"scatter3d\",\"line\":{\"colorbar\":{\"outlinewidth\":0,\"ticks\":\"\"}},\"marker\":{\"colorbar\":{\"outlinewidth\":0,\"ticks\":\"\"}}}],\"scattermapbox\":[{\"type\":\"scattermapbox\",\"marker\":{\"colorbar\":{\"outlinewidth\":0,\"ticks\":\"\"}}}],\"scatterternary\":[{\"type\":\"scatterternary\",\"marker\":{\"colorbar\":{\"outlinewidth\":0,\"ticks\":\"\"}}}],\"scattercarpet\":[{\"type\":\"scattercarpet\",\"marker\":{\"colorbar\":{\"outlinewidth\":0,\"ticks\":\"\"}}}],\"carpet\":[{\"aaxis\":{\"endlinecolor\":\"#2a3f5f\",\"gridcolor\":\"white\",\"linecolor\":\"white\",\"minorgridcolor\":\"white\",\"startlinecolor\":\"#2a3f5f\"},\"baxis\":{\"endlinecolor\":\"#2a3f5f\",\"gridcolor\":\"white\",\"linecolor\":\"white\",\"minorgridcolor\":\"white\",\"startlinecolor\":\"#2a3f5f\"},\"type\":\"carpet\"}],\"table\":[{\"cells\":{\"fill\":{\"color\":\"#EBF0F8\"},\"line\":{\"color\":\"white\"}},\"header\":{\"fill\":{\"color\":\"#C8D4E3\"},\"line\":{\"color\":\"white\"}},\"type\":\"table\"}],\"barpolar\":[{\"marker\":{\"line\":{\"color\":\"#E5ECF6\",\"width\":0.5},\"pattern\":{\"fillmode\":\"overlay\",\"size\":10,\"solidity\":0.2}},\"type\":\"barpolar\"}],\"pie\":[{\"automargin\":true,\"type\":\"pie\"}]},\"layout\":{\"autotypenumbers\":\"strict\",\"colorway\":[\"#636efa\",\"#EF553B\",\"#00cc96\",\"#ab63fa\",\"#FFA15A\",\"#19d3f3\",\"#FF6692\",\"#B6E880\",\"#FF97FF\",\"#FECB52\"],\"font\":{\"color\":\"#2a3f5f\"},\"hovermode\":\"closest\",\"hoverlabel\":{\"align\":\"left\"},\"paper_bgcolor\":\"white\",\"plot_bgcolor\":\"#E5ECF6\",\"polar\":{\"bgcolor\":\"#E5ECF6\",\"angularaxis\":{\"gridcolor\":\"white\",\"linecolor\":\"white\",\"ticks\":\"\"},\"radialaxis\":{\"gridcolor\":\"white\",\"linecolor\":\"white\",\"ticks\":\"\"}},\"ternary\":{\"bgcolor\":\"#E5ECF6\",\"aaxis\":{\"gridcolor\":\"white\",\"linecolor\":\"white\",\"ticks\":\"\"},\"baxis\":{\"gridcolor\":\"white\",\"linecolor\":\"white\",\"ticks\":\"\"},\"caxis\":{\"gridcolor\":\"white\",\"linecolor\":\"white\",\"ticks\":\"\"}},\"coloraxis\":{\"colorbar\":{\"outlinewidth\":0,\"ticks\":\"\"}},\"colorscale\":{\"sequential\":[[0.0,\"#0d0887\"],[0.1111111111111111,\"#46039f\"],[0.2222222222222222,\"#7201a8\"],[0.3333333333333333,\"#9c179e\"],[0.4444444444444444,\"#bd3786\"],[0.5555555555555556,\"#d8576b\"],[0.6666666666666666,\"#ed7953\"],[0.7777777777777778,\"#fb9f3a\"],[0.8888888888888888,\"#fdca26\"],[1.0,\"#f0f921\"]],\"sequentialminus\":[[0.0,\"#0d0887\"],[0.1111111111111111,\"#46039f\"],[0.2222222222222222,\"#7201a8\"],[0.3333333333333333,\"#9c179e\"],[0.4444444444444444,\"#bd3786\"],[0.5555555555555556,\"#d8576b\"],[0.6666666666666666,\"#ed7953\"],[0.7777777777777778,\"#fb9f3a\"],[0.8888888888888888,\"#fdca26\"],[1.0,\"#f0f921\"]],\"diverging\":[[0,\"#8e0152\"],[0.1,\"#c51b7d\"],[0.2,\"#de77ae\"],[0.3,\"#f1b6da\"],[0.4,\"#fde0ef\"],[0.5,\"#f7f7f7\"],[0.6,\"#e6f5d0\"],[0.7,\"#b8e186\"],[0.8,\"#7fbc41\"],[0.9,\"#4d9221\"],[1,\"#276419\"]]},\"xaxis\":{\"gridcolor\":\"white\",\"linecolor\":\"white\",\"ticks\":\"\",\"title\":{\"standoff\":15},\"zerolinecolor\":\"white\",\"automargin\":true,\"zerolinewidth\":2},\"yaxis\":{\"gridcolor\":\"white\",\"linecolor\":\"white\",\"ticks\":\"\",\"title\":{\"standoff\":15},\"zerolinecolor\":\"white\",\"automargin\":true,\"zerolinewidth\":2},\"scene\":{\"xaxis\":{\"backgroundcolor\":\"#E5ECF6\",\"gridcolor\":\"white\",\"linecolor\":\"white\",\"showbackground\":true,\"ticks\":\"\",\"zerolinecolor\":\"white\",\"gridwidth\":2},\"yaxis\":{\"backgroundcolor\":\"#E5ECF6\",\"gridcolor\":\"white\",\"linecolor\":\"white\",\"showbackground\":true,\"ticks\":\"\",\"zerolinecolor\":\"white\",\"gridwidth\":2},\"zaxis\":{\"backgroundcolor\":\"#E5ECF6\",\"gridcolor\":\"white\",\"linecolor\":\"white\",\"showbackground\":true,\"ticks\":\"\",\"zerolinecolor\":\"white\",\"gridwidth\":2}},\"shapedefaults\":{\"line\":{\"color\":\"#2a3f5f\"}},\"annotationdefaults\":{\"arrowcolor\":\"#2a3f5f\",\"arrowhead\":0,\"arrowwidth\":1},\"geo\":{\"bgcolor\":\"white\",\"landcolor\":\"#E5ECF6\",\"subunitcolor\":\"white\",\"showland\":true,\"showlakes\":true,\"lakecolor\":\"white\"},\"title\":{\"x\":0.05},\"mapbox\":{\"style\":\"light\"}}},\"xaxis\":{\"anchor\":\"y\",\"domain\":[0.0,1.0],\"title\":{\"text\":\"value\"}},\"yaxis\":{\"anchor\":\"x\",\"domain\":[0.0,1.0],\"title\":{\"text\":\"count\"}},\"legend\":{\"title\":{\"text\":\"variable\"},\"tracegroupgap\":0},\"title\":{\"text\":\"Histogram of total_billed_amount\"},\"barmode\":\"relative\"},                        {\"responsive\": true}                    ).then(function(){\n",
       "                            \n",
       "var gd = document.getElementById('61c77dd3-558d-4a22-bf56-cfe9c6118bd2');\n",
       "var x = new MutationObserver(function (mutations, observer) {{\n",
       "        var display = window.getComputedStyle(gd).display;\n",
       "        if (!display || display === 'none') {{\n",
       "            console.log([gd, 'removed!']);\n",
       "            Plotly.purge(gd);\n",
       "            observer.disconnect();\n",
       "        }}\n",
       "}});\n",
       "\n",
       "// Listen for the removal of the full notebook cells\n",
       "var notebookContainer = gd.closest('#notebook-container');\n",
       "if (notebookContainer) {{\n",
       "    x.observe(notebookContainer, {childList: true});\n",
       "}}\n",
       "\n",
       "// Listen for the clearing of the current output cell\n",
       "var outputEl = gd.closest('.output');\n",
       "if (outputEl) {{\n",
       "    x.observe(outputEl, {childList: true});\n",
       "}}\n",
       "\n",
       "                        })                };                });            </script>        </div>"
      ]
     },
     "metadata": {},
     "output_type": "display_data"
    }
   ],
   "source": [
    "\n",
    "import plotly.express as px\n",
    "fig = px.histogram(df['total_billed_amount'], nbins=100, title='Histogram of total_billed_amount')\n",
    "\n",
    "fig.show()"
   ]
  },
  {
   "cell_type": "code",
   "execution_count": 19,
   "id": "4c7e5b34",
   "metadata": {},
   "outputs": [
    {
     "data": {
      "application/vnd.plotly.v1+json": {
       "config": {
        "plotlyServerURL": "https://plot.ly"
       },
       "data": [
        {
         "alignmentgroup": "True",
         "bingroup": "x",
         "hovertemplate": "variable=total_billed_amount<br>value=%{x}<br>count=%{y}<extra></extra>",
         "legendgroup": "total_billed_amount",
         "marker": {
          "color": "#636efa",
          "pattern": {
           "shape": ""
          }
         },
         "name": "total_billed_amount",
         "nbinsx": 100,
         "offsetgroup": "total_billed_amount",
         "orientation": "v",
         "showlegend": true,
         "type": "histogram",
         "x": [
          757.7599821263483,
          2292.188785950007,
          11749.486767736618,
          1422.590673448308,
          517.7803578300552,
          1913.031613508636,
          95.86434763506328,
          1063.1642818832254,
          617.9496987355029,
          148.5732842866069,
          5893.494799758545,
          327.2039856212361,
          847.727181485389,
          2411.447473637458,
          594.7488652472153,
          91.30781711511108,
          1784.5257646299683,
          346.70051598591346,
          7485.428918639822,
          2486.6716680478053,
          2104.486746459451,
          350.78828267102426,
          1386.3256364261997,
          8317.133883317632,
          634.3095224324088,
          527.7176438529035,
          10.792567272246002,
          1127.2498106242228,
          2159.689163240148,
          219.2960460587502,
          297.5287754776728,
          583.0731802496323,
          55.309983020664426,
          69.70462203662912,
          445.0210908078888,
          234.41307089177187,
          421.8426223395699,
          499.3167982633367,
          6310.765931201059,
          3957.503427041527,
          112.98785611682938,
          2468.4249925095232,
          61.92288843216158,
          596.6054854909727,
          135.1671729334056,
          363.9327349939314,
          1316.257343216051,
          450.35797783980615,
          1694.7988500696222,
          1203.8072486670517,
          3899.635505022375,
          650.7428434381045,
          1660.4067626989713,
          307.35909124219086,
          336.7699757558154,
          413.54932669615977,
          429.2532291606872,
          81.13054661394698,
          619.4929713661121,
          75.68586272909592,
          2578.0037652888827,
          47.095457790615455,
          491.3838903217778,
          261.1318580247595,
          126.77071140420556,
          1539.3069032232042,
          1187.2582246395427,
          118.6071079966753,
          897.4384201320938,
          1595.098116270466,
          1476.131228748386,
          71.89967675487343,
          1071.3709235994786,
          1191.8777962991016,
          2201.9624656940614,
          597.4089479904587,
          510.8254072070851,
          5148.982492139723,
          1621.515614465795,
          704.9077254335949,
          317.1304413977089,
          2019.8142421222365,
          501.1053581964821,
          72.2380727137904,
          500.1984316247204,
          2322.437482061882,
          489.0145508827018,
          10.557156200506297,
          836.8744220966781,
          14480.229272906969,
          1772.734896210619,
          852.780286714882,
          3046.358125513604,
          1744.2916604293582,
          579.1603480101091,
          783.3674237229612,
          1259.2217242609363,
          2031.6724762957967,
          44.18183459124688,
          1484.7325399648023,
          487.71176945947104,
          985.1631376891554,
          1426.8372726331534,
          662.1800914525628,
          130.141255866506,
          427.1346844405906,
          59.20027358871446,
          1085.4240957437855,
          4403.043578871353,
          1613.0300847193023,
          397.7586975534068,
          765.917702931666,
          284.28539128747286,
          665.5173327018538,
          280.09611211125593,
          1292.0664602796426,
          232.32760246228804,
          5063.273742457758,
          988.9780501300849,
          52.645866843097664,
          7.909542105069834,
          16891.426612140407,
          190.78224677073223,
          294.49102444118967,
          178.434398381956,
          3398.1140890217293,
          956.6081464870005,
          590.2536718372065,
          702.4388641797992,
          301.06250152580526,
          844.2699871605457,
          442.6606401839568,
          169.22898013350076,
          971.4061170705723,
          374.9840802651079,
          1546.98342151758,
          436.1334760086363,
          597.8554971120826,
          1562.145033011871,
          488.3382450236559,
          5239.288162481303,
          1598.2219002558425,
          1847.60088279522,
          4414.604684114897,
          396.39922665206814,
          755.5096580793537,
          1101.6363071051107,
          1028.1823052878735,
          4362.143139332941,
          265.4019221157839,
          268.94539785646725,
          3130.862737072825,
          1640.6012592874213,
          173.34785685351238,
          731.2905547125113,
          1328.1850413585546,
          346.4627892076058,
          466.1393840459133,
          744.1043199680921,
          521.3166200816858,
          1364.9866340278943,
          4.343459335585287,
          466.544283119109,
          326.09319027863404,
          830.549223613322,
          1491.5360482549115,
          58.60768208651783,
          129.71934199433133,
          999.4621030963292,
          1292.4361910114048,
          775.7149811463075,
          7428.121187639916,
          580.7363711409139,
          109.90529570634376,
          1074.2391220475304,
          811.5548538992898,
          781.3346208441693,
          676.0132504180237,
          3756.3001635008377,
          103.56126342474435,
          56.21423567486156,
          126.077722307372,
          216.62699844019272,
          787.7788655095425,
          839.4506800643934,
          203.4061997933058,
          561.3682671574512,
          548.1338014564146,
          497.1507299474912,
          1670.290238778193,
          529.4253840499474,
          1392.876159218636,
          137.57848430289877,
          646.1131761671315,
          1828.1222447489324,
          148.23860356086698,
          517.4838007988741,
          830.3193209464104,
          155.0400405541951,
          1384.4040624754211,
          60.93274495977814,
          4049.389009691768,
          523.2761049065036,
          324.2055482804149,
          92.7525097331287,
          463.2578367974489,
          981.879028820762,
          73.74415634421699,
          286.79378732662616,
          1931.9309075136684,
          938.2050829039156,
          176.3761706667009,
          132.36675316319992,
          2837.618516084816,
          263.8462360942346,
          149.9496188988495,
          107282.66978335404,
          290.3561246793029,
          99.67148010293415,
          511.9749156968292,
          466.0793176125881,
          3360.859187184972,
          108.04198237904828,
          70.9470262562423,
          72.4830602523977,
          2833.76992492153,
          490.83747165950825,
          122.854999268887,
          790.047801101994,
          658.1399127256013,
          168.4130364738246,
          814.1063747563792,
          329.538162351617,
          209.52528589115795,
          602.0575084533925,
          269.28490470437544,
          192.47180562876085,
          2427.2820660751813,
          127.5946369884761,
          256.37282572653083,
          392.47542586584905,
          248.39789075966817,
          180.7593115858482,
          1463.4972610385305,
          315.0885763569239,
          89.04361483252241,
          665.1914148510257,
          100.3286529813495,
          352.4995143070697,
          2457.3810298559497,
          368.45435682672286,
          896.6788517577985,
          610.4715684825127,
          111.18768286647618,
          947.2668086030648,
          2132.5363081123637,
          72.67831176033468,
          1368.283190423626,
          1088.8381387382033,
          2255.6602594677674,
          81.84256213882766,
          286.09698723946093,
          1104.310207338901,
          16.288027478639524,
          1272.074445361928,
          2154.089059160784,
          497.47850744031575,
          466.0547260072973,
          253.92820332250943,
          3.692509789360367,
          156.52427664204924,
          6862.4092869031965,
          2263.334688849546,
          240.32448773423664,
          5042.601492808739,
          366.4467008515507,
          276.3325162639944,
          124.87340109800104,
          2782.704316635114,
          8520.881117566229,
          313.0486445216178,
          1140.0381440784358,
          323.1470870257558,
          82.60663190793028,
          401.9988812693316,
          688.6962308305158,
          98.1609352193924,
          1780.8223913594293,
          576.7209772711159,
          205.2885034878341,
          787.3003259770683,
          1599.7471021392307,
          313.318943619858,
          1132.270267441214,
          455.6738321521324,
          5065.630731295427,
          1462.3154059265264,
          350.9201632395491,
          13.08933770494327,
          974.38706058613,
          167.88262613482476,
          97.16614488622106,
          3508.7894657517954,
          93051.7441429988,
          244.14070498165955,
          281.3492478205202,
          136.1778342382522,
          504.951192769832,
          2245.7141143696567,
          1132.3875108297586,
          2030.7235836763589,
          199.07514725223447,
          1255.3936063376234,
          3143.534119391994,
          257.32774010373447,
          1090.5013688211732,
          413.76844288377725,
          267.60818567420904,
          5545.560320760841,
          340.59059804608046,
          85.04415912811882,
          396.01997159951134,
          488.00407232705714,
          1360.7057577888695,
          4210.100745926743,
          1771.2289737077313,
          3482.914460169536,
          535.4438156148092,
          1205.964986013371,
          290.18226561848974,
          53.29750781913648,
          363.3560732121827,
          1118.295763182717,
          249.51999933977064,
          2193.119757210642,
          1583.4286862003592,
          164.09736950691732,
          317.4111774000816,
          1838.1096004027884,
          215.49208606419757,
          318.39024368176496,
          333.2462576357577,
          1652.6534995893387,
          27.690865193610904,
          56.69216232022653,
          751.5233975715248,
          408.50270565145394,
          897.7928454983056,
          240.2757493750851,
          2940.948988019971,
          1406.6856144019446,
          51.81631848459876,
          1539.7346975479345,
          5541.577691135125,
          3883.549502691929,
          1278.649846893606,
          98.66619412328087,
          745.7496311373804,
          260.59499385463084,
          5603.529028216193,
          1198.1035733066076,
          834.9075814611531,
          1107.3644860544537,
          471.9827411926096,
          373.4376398082704,
          3639.9512650186575,
          318.8064395807576,
          31.08475376285222,
          414.04103743798953,
          1580.6179469358635,
          945.3720755559212,
          4926.609594326021,
          83.63790440461699,
          2982.9542802795645,
          368.0213942523038,
          533.5477053928298,
          456.66609683461553,
          92.44516671308833,
          219.66406364610444,
          1311.0477486420727,
          17.032104930453503,
          107.75940718809608,
          18.69211038883203,
          2147.4971844394704,
          853.0230731404844,
          140.8279834078432,
          1449.9682078930643,
          5288.323381368123,
          3598.350369298678,
          3219.132428039496,
          5.719735395267841,
          777.7650744090533,
          229.33157000267343,
          718.5815706939267,
          301.25843521006226,
          125.66300629200164,
          482.7005622558888,
          572.4095894141074,
          9561.823932610136,
          31.820768777417385,
          60000,
          850,
          1200,
          10000,
          8500
         ],
         "xaxis": "x",
         "yaxis": "y"
        }
       ],
       "layout": {
        "barmode": "relative",
        "legend": {
         "title": {
          "text": "variable"
         },
         "tracegroupgap": 0
        },
        "template": {
         "data": {
          "bar": [
           {
            "error_x": {
             "color": "#2a3f5f"
            },
            "error_y": {
             "color": "#2a3f5f"
            },
            "marker": {
             "line": {
              "color": "#E5ECF6",
              "width": 0.5
             },
             "pattern": {
              "fillmode": "overlay",
              "size": 10,
              "solidity": 0.2
             }
            },
            "type": "bar"
           }
          ],
          "barpolar": [
           {
            "marker": {
             "line": {
              "color": "#E5ECF6",
              "width": 0.5
             },
             "pattern": {
              "fillmode": "overlay",
              "size": 10,
              "solidity": 0.2
             }
            },
            "type": "barpolar"
           }
          ],
          "carpet": [
           {
            "aaxis": {
             "endlinecolor": "#2a3f5f",
             "gridcolor": "white",
             "linecolor": "white",
             "minorgridcolor": "white",
             "startlinecolor": "#2a3f5f"
            },
            "baxis": {
             "endlinecolor": "#2a3f5f",
             "gridcolor": "white",
             "linecolor": "white",
             "minorgridcolor": "white",
             "startlinecolor": "#2a3f5f"
            },
            "type": "carpet"
           }
          ],
          "choropleth": [
           {
            "colorbar": {
             "outlinewidth": 0,
             "ticks": ""
            },
            "type": "choropleth"
           }
          ],
          "contour": [
           {
            "colorbar": {
             "outlinewidth": 0,
             "ticks": ""
            },
            "colorscale": [
             [
              0,
              "#0d0887"
             ],
             [
              0.1111111111111111,
              "#46039f"
             ],
             [
              0.2222222222222222,
              "#7201a8"
             ],
             [
              0.3333333333333333,
              "#9c179e"
             ],
             [
              0.4444444444444444,
              "#bd3786"
             ],
             [
              0.5555555555555556,
              "#d8576b"
             ],
             [
              0.6666666666666666,
              "#ed7953"
             ],
             [
              0.7777777777777778,
              "#fb9f3a"
             ],
             [
              0.8888888888888888,
              "#fdca26"
             ],
             [
              1,
              "#f0f921"
             ]
            ],
            "type": "contour"
           }
          ],
          "contourcarpet": [
           {
            "colorbar": {
             "outlinewidth": 0,
             "ticks": ""
            },
            "type": "contourcarpet"
           }
          ],
          "heatmap": [
           {
            "colorbar": {
             "outlinewidth": 0,
             "ticks": ""
            },
            "colorscale": [
             [
              0,
              "#0d0887"
             ],
             [
              0.1111111111111111,
              "#46039f"
             ],
             [
              0.2222222222222222,
              "#7201a8"
             ],
             [
              0.3333333333333333,
              "#9c179e"
             ],
             [
              0.4444444444444444,
              "#bd3786"
             ],
             [
              0.5555555555555556,
              "#d8576b"
             ],
             [
              0.6666666666666666,
              "#ed7953"
             ],
             [
              0.7777777777777778,
              "#fb9f3a"
             ],
             [
              0.8888888888888888,
              "#fdca26"
             ],
             [
              1,
              "#f0f921"
             ]
            ],
            "type": "heatmap"
           }
          ],
          "heatmapgl": [
           {
            "colorbar": {
             "outlinewidth": 0,
             "ticks": ""
            },
            "colorscale": [
             [
              0,
              "#0d0887"
             ],
             [
              0.1111111111111111,
              "#46039f"
             ],
             [
              0.2222222222222222,
              "#7201a8"
             ],
             [
              0.3333333333333333,
              "#9c179e"
             ],
             [
              0.4444444444444444,
              "#bd3786"
             ],
             [
              0.5555555555555556,
              "#d8576b"
             ],
             [
              0.6666666666666666,
              "#ed7953"
             ],
             [
              0.7777777777777778,
              "#fb9f3a"
             ],
             [
              0.8888888888888888,
              "#fdca26"
             ],
             [
              1,
              "#f0f921"
             ]
            ],
            "type": "heatmapgl"
           }
          ],
          "histogram": [
           {
            "marker": {
             "pattern": {
              "fillmode": "overlay",
              "size": 10,
              "solidity": 0.2
             }
            },
            "type": "histogram"
           }
          ],
          "histogram2d": [
           {
            "colorbar": {
             "outlinewidth": 0,
             "ticks": ""
            },
            "colorscale": [
             [
              0,
              "#0d0887"
             ],
             [
              0.1111111111111111,
              "#46039f"
             ],
             [
              0.2222222222222222,
              "#7201a8"
             ],
             [
              0.3333333333333333,
              "#9c179e"
             ],
             [
              0.4444444444444444,
              "#bd3786"
             ],
             [
              0.5555555555555556,
              "#d8576b"
             ],
             [
              0.6666666666666666,
              "#ed7953"
             ],
             [
              0.7777777777777778,
              "#fb9f3a"
             ],
             [
              0.8888888888888888,
              "#fdca26"
             ],
             [
              1,
              "#f0f921"
             ]
            ],
            "type": "histogram2d"
           }
          ],
          "histogram2dcontour": [
           {
            "colorbar": {
             "outlinewidth": 0,
             "ticks": ""
            },
            "colorscale": [
             [
              0,
              "#0d0887"
             ],
             [
              0.1111111111111111,
              "#46039f"
             ],
             [
              0.2222222222222222,
              "#7201a8"
             ],
             [
              0.3333333333333333,
              "#9c179e"
             ],
             [
              0.4444444444444444,
              "#bd3786"
             ],
             [
              0.5555555555555556,
              "#d8576b"
             ],
             [
              0.6666666666666666,
              "#ed7953"
             ],
             [
              0.7777777777777778,
              "#fb9f3a"
             ],
             [
              0.8888888888888888,
              "#fdca26"
             ],
             [
              1,
              "#f0f921"
             ]
            ],
            "type": "histogram2dcontour"
           }
          ],
          "mesh3d": [
           {
            "colorbar": {
             "outlinewidth": 0,
             "ticks": ""
            },
            "type": "mesh3d"
           }
          ],
          "parcoords": [
           {
            "line": {
             "colorbar": {
              "outlinewidth": 0,
              "ticks": ""
             }
            },
            "type": "parcoords"
           }
          ],
          "pie": [
           {
            "automargin": true,
            "type": "pie"
           }
          ],
          "scatter": [
           {
            "fillpattern": {
             "fillmode": "overlay",
             "size": 10,
             "solidity": 0.2
            },
            "type": "scatter"
           }
          ],
          "scatter3d": [
           {
            "line": {
             "colorbar": {
              "outlinewidth": 0,
              "ticks": ""
             }
            },
            "marker": {
             "colorbar": {
              "outlinewidth": 0,
              "ticks": ""
             }
            },
            "type": "scatter3d"
           }
          ],
          "scattercarpet": [
           {
            "marker": {
             "colorbar": {
              "outlinewidth": 0,
              "ticks": ""
             }
            },
            "type": "scattercarpet"
           }
          ],
          "scattergeo": [
           {
            "marker": {
             "colorbar": {
              "outlinewidth": 0,
              "ticks": ""
             }
            },
            "type": "scattergeo"
           }
          ],
          "scattergl": [
           {
            "marker": {
             "colorbar": {
              "outlinewidth": 0,
              "ticks": ""
             }
            },
            "type": "scattergl"
           }
          ],
          "scattermapbox": [
           {
            "marker": {
             "colorbar": {
              "outlinewidth": 0,
              "ticks": ""
             }
            },
            "type": "scattermapbox"
           }
          ],
          "scatterpolar": [
           {
            "marker": {
             "colorbar": {
              "outlinewidth": 0,
              "ticks": ""
             }
            },
            "type": "scatterpolar"
           }
          ],
          "scatterpolargl": [
           {
            "marker": {
             "colorbar": {
              "outlinewidth": 0,
              "ticks": ""
             }
            },
            "type": "scatterpolargl"
           }
          ],
          "scatterternary": [
           {
            "marker": {
             "colorbar": {
              "outlinewidth": 0,
              "ticks": ""
             }
            },
            "type": "scatterternary"
           }
          ],
          "surface": [
           {
            "colorbar": {
             "outlinewidth": 0,
             "ticks": ""
            },
            "colorscale": [
             [
              0,
              "#0d0887"
             ],
             [
              0.1111111111111111,
              "#46039f"
             ],
             [
              0.2222222222222222,
              "#7201a8"
             ],
             [
              0.3333333333333333,
              "#9c179e"
             ],
             [
              0.4444444444444444,
              "#bd3786"
             ],
             [
              0.5555555555555556,
              "#d8576b"
             ],
             [
              0.6666666666666666,
              "#ed7953"
             ],
             [
              0.7777777777777778,
              "#fb9f3a"
             ],
             [
              0.8888888888888888,
              "#fdca26"
             ],
             [
              1,
              "#f0f921"
             ]
            ],
            "type": "surface"
           }
          ],
          "table": [
           {
            "cells": {
             "fill": {
              "color": "#EBF0F8"
             },
             "line": {
              "color": "white"
             }
            },
            "header": {
             "fill": {
              "color": "#C8D4E3"
             },
             "line": {
              "color": "white"
             }
            },
            "type": "table"
           }
          ]
         },
         "layout": {
          "annotationdefaults": {
           "arrowcolor": "#2a3f5f",
           "arrowhead": 0,
           "arrowwidth": 1
          },
          "autotypenumbers": "strict",
          "coloraxis": {
           "colorbar": {
            "outlinewidth": 0,
            "ticks": ""
           }
          },
          "colorscale": {
           "diverging": [
            [
             0,
             "#8e0152"
            ],
            [
             0.1,
             "#c51b7d"
            ],
            [
             0.2,
             "#de77ae"
            ],
            [
             0.3,
             "#f1b6da"
            ],
            [
             0.4,
             "#fde0ef"
            ],
            [
             0.5,
             "#f7f7f7"
            ],
            [
             0.6,
             "#e6f5d0"
            ],
            [
             0.7,
             "#b8e186"
            ],
            [
             0.8,
             "#7fbc41"
            ],
            [
             0.9,
             "#4d9221"
            ],
            [
             1,
             "#276419"
            ]
           ],
           "sequential": [
            [
             0,
             "#0d0887"
            ],
            [
             0.1111111111111111,
             "#46039f"
            ],
            [
             0.2222222222222222,
             "#7201a8"
            ],
            [
             0.3333333333333333,
             "#9c179e"
            ],
            [
             0.4444444444444444,
             "#bd3786"
            ],
            [
             0.5555555555555556,
             "#d8576b"
            ],
            [
             0.6666666666666666,
             "#ed7953"
            ],
            [
             0.7777777777777778,
             "#fb9f3a"
            ],
            [
             0.8888888888888888,
             "#fdca26"
            ],
            [
             1,
             "#f0f921"
            ]
           ],
           "sequentialminus": [
            [
             0,
             "#0d0887"
            ],
            [
             0.1111111111111111,
             "#46039f"
            ],
            [
             0.2222222222222222,
             "#7201a8"
            ],
            [
             0.3333333333333333,
             "#9c179e"
            ],
            [
             0.4444444444444444,
             "#bd3786"
            ],
            [
             0.5555555555555556,
             "#d8576b"
            ],
            [
             0.6666666666666666,
             "#ed7953"
            ],
            [
             0.7777777777777778,
             "#fb9f3a"
            ],
            [
             0.8888888888888888,
             "#fdca26"
            ],
            [
             1,
             "#f0f921"
            ]
           ]
          },
          "colorway": [
           "#636efa",
           "#EF553B",
           "#00cc96",
           "#ab63fa",
           "#FFA15A",
           "#19d3f3",
           "#FF6692",
           "#B6E880",
           "#FF97FF",
           "#FECB52"
          ],
          "font": {
           "color": "#2a3f5f"
          },
          "geo": {
           "bgcolor": "white",
           "lakecolor": "white",
           "landcolor": "#E5ECF6",
           "showlakes": true,
           "showland": true,
           "subunitcolor": "white"
          },
          "hoverlabel": {
           "align": "left"
          },
          "hovermode": "closest",
          "mapbox": {
           "style": "light"
          },
          "paper_bgcolor": "white",
          "plot_bgcolor": "#E5ECF6",
          "polar": {
           "angularaxis": {
            "gridcolor": "white",
            "linecolor": "white",
            "ticks": ""
           },
           "bgcolor": "#E5ECF6",
           "radialaxis": {
            "gridcolor": "white",
            "linecolor": "white",
            "ticks": ""
           }
          },
          "scene": {
           "xaxis": {
            "backgroundcolor": "#E5ECF6",
            "gridcolor": "white",
            "gridwidth": 2,
            "linecolor": "white",
            "showbackground": true,
            "ticks": "",
            "zerolinecolor": "white"
           },
           "yaxis": {
            "backgroundcolor": "#E5ECF6",
            "gridcolor": "white",
            "gridwidth": 2,
            "linecolor": "white",
            "showbackground": true,
            "ticks": "",
            "zerolinecolor": "white"
           },
           "zaxis": {
            "backgroundcolor": "#E5ECF6",
            "gridcolor": "white",
            "gridwidth": 2,
            "linecolor": "white",
            "showbackground": true,
            "ticks": "",
            "zerolinecolor": "white"
           }
          },
          "shapedefaults": {
           "line": {
            "color": "#2a3f5f"
           }
          },
          "ternary": {
           "aaxis": {
            "gridcolor": "white",
            "linecolor": "white",
            "ticks": ""
           },
           "baxis": {
            "gridcolor": "white",
            "linecolor": "white",
            "ticks": ""
           },
           "bgcolor": "#E5ECF6",
           "caxis": {
            "gridcolor": "white",
            "linecolor": "white",
            "ticks": ""
           }
          },
          "title": {
           "x": 0.05
          },
          "xaxis": {
           "automargin": true,
           "gridcolor": "white",
           "linecolor": "white",
           "ticks": "",
           "title": {
            "standoff": 15
           },
           "zerolinecolor": "white",
           "zerolinewidth": 2
          },
          "yaxis": {
           "automargin": true,
           "gridcolor": "white",
           "linecolor": "white",
           "ticks": "",
           "title": {
            "standoff": 15
           },
           "zerolinecolor": "white",
           "zerolinewidth": 2
          }
         }
        },
        "title": {
         "text": "Histogram of total_billed_amount; mean: 1894.3952404505453"
        },
        "xaxis": {
         "anchor": "y",
         "domain": [
          0,
          1
         ],
         "title": {
          "text": "value"
         }
        },
        "yaxis": {
         "anchor": "x",
         "domain": [
          0,
          1
         ],
         "title": {
          "text": "count"
         }
        }
       }
      },
      "text/html": [
       "<div>                            <div id=\"b3e4f883-66a6-4ee5-a74b-b08142925de6\" class=\"plotly-graph-div\" style=\"height:525px; width:100%;\"></div>            <script type=\"text/javascript\">                require([\"plotly\"], function(Plotly) {                    window.PLOTLYENV=window.PLOTLYENV || {};                                    if (document.getElementById(\"b3e4f883-66a6-4ee5-a74b-b08142925de6\")) {                    Plotly.newPlot(                        \"b3e4f883-66a6-4ee5-a74b-b08142925de6\",                        [{\"alignmentgroup\":\"True\",\"bingroup\":\"x\",\"hovertemplate\":\"variable=total_billed_amount<br>value=%{x}<br>count=%{y}<extra></extra>\",\"legendgroup\":\"total_billed_amount\",\"marker\":{\"color\":\"#636efa\",\"pattern\":{\"shape\":\"\"}},\"name\":\"total_billed_amount\",\"nbinsx\":100,\"offsetgroup\":\"total_billed_amount\",\"orientation\":\"v\",\"showlegend\":true,\"x\":[757.7599821263483,2292.188785950007,11749.486767736618,1422.590673448308,517.7803578300552,1913.031613508636,95.86434763506328,1063.1642818832254,617.9496987355029,148.5732842866069,5893.494799758545,327.2039856212361,847.727181485389,2411.447473637458,594.7488652472153,91.30781711511108,1784.5257646299683,346.70051598591346,7485.428918639822,2486.6716680478053,2104.486746459451,350.78828267102426,1386.3256364261997,8317.133883317632,634.3095224324088,527.7176438529035,10.792567272246002,1127.2498106242228,2159.689163240148,219.2960460587502,297.5287754776728,583.0731802496323,55.309983020664426,69.70462203662912,445.0210908078888,234.41307089177187,421.8426223395699,499.3167982633367,6310.765931201059,3957.503427041527,112.98785611682938,2468.4249925095232,61.92288843216158,596.6054854909727,135.1671729334056,363.9327349939314,1316.257343216051,450.35797783980615,1694.7988500696222,1203.8072486670517,3899.635505022375,650.7428434381045,1660.4067626989713,307.35909124219086,336.7699757558154,413.54932669615977,429.2532291606872,81.13054661394698,619.4929713661121,75.68586272909592,2578.0037652888827,47.095457790615455,491.3838903217778,261.1318580247595,126.77071140420556,1539.3069032232042,1187.2582246395427,118.6071079966753,897.4384201320938,1595.098116270466,1476.131228748386,71.89967675487343,1071.3709235994786,1191.8777962991016,2201.9624656940614,597.4089479904587,510.8254072070851,5148.982492139723,1621.515614465795,704.9077254335949,317.1304413977089,2019.8142421222365,501.1053581964821,72.2380727137904,500.1984316247204,2322.437482061882,489.0145508827018,10.557156200506297,836.8744220966781,14480.229272906969,1772.734896210619,852.780286714882,3046.358125513604,1744.2916604293582,579.1603480101091,783.3674237229612,1259.2217242609363,2031.6724762957967,44.18183459124688,1484.7325399648023,487.71176945947104,985.1631376891554,1426.8372726331534,662.1800914525628,130.141255866506,427.1346844405906,59.20027358871446,1085.4240957437855,4403.043578871353,1613.0300847193023,397.7586975534068,765.917702931666,284.28539128747286,665.5173327018538,280.09611211125593,1292.0664602796426,232.32760246228804,5063.273742457758,988.9780501300849,52.645866843097664,7.909542105069834,16891.426612140407,190.78224677073223,294.49102444118967,178.434398381956,3398.1140890217293,956.6081464870005,590.2536718372065,702.4388641797992,301.06250152580526,844.2699871605457,442.6606401839568,169.22898013350076,971.4061170705723,374.9840802651079,1546.98342151758,436.1334760086363,597.8554971120826,1562.145033011871,488.3382450236559,5239.288162481303,1598.2219002558425,1847.60088279522,4414.604684114897,396.39922665206814,755.5096580793537,1101.6363071051107,1028.1823052878735,4362.143139332941,265.4019221157839,268.94539785646725,3130.862737072825,1640.6012592874213,173.34785685351238,731.2905547125113,1328.1850413585546,346.4627892076058,466.1393840459133,744.1043199680921,521.3166200816858,1364.9866340278943,4.343459335585287,466.544283119109,326.09319027863404,830.549223613322,1491.5360482549115,58.60768208651783,129.71934199433133,999.4621030963292,1292.4361910114048,775.7149811463075,7428.121187639916,580.7363711409139,109.90529570634376,1074.2391220475304,811.5548538992898,781.3346208441693,676.0132504180237,3756.3001635008377,103.56126342474435,56.21423567486156,126.077722307372,216.62699844019272,787.7788655095425,839.4506800643934,203.4061997933058,561.3682671574512,548.1338014564146,497.1507299474912,1670.290238778193,529.4253840499474,1392.876159218636,137.57848430289877,646.1131761671315,1828.1222447489324,148.23860356086698,517.4838007988741,830.3193209464104,155.0400405541951,1384.4040624754211,60.93274495977814,4049.389009691768,523.2761049065036,324.2055482804149,92.7525097331287,463.2578367974489,981.879028820762,73.74415634421699,286.79378732662616,1931.9309075136684,938.2050829039156,176.3761706667009,132.36675316319992,2837.618516084816,263.8462360942346,149.9496188988495,107282.66978335404,290.3561246793029,99.67148010293415,511.9749156968292,466.0793176125881,3360.859187184972,108.04198237904828,70.9470262562423,72.4830602523977,2833.76992492153,490.83747165950825,122.854999268887,790.047801101994,658.1399127256013,168.4130364738246,814.1063747563792,329.538162351617,209.52528589115795,602.0575084533925,269.28490470437544,192.47180562876085,2427.2820660751813,127.5946369884761,256.37282572653083,392.47542586584905,248.39789075966817,180.7593115858482,1463.4972610385305,315.0885763569239,89.04361483252241,665.1914148510257,100.3286529813495,352.4995143070697,2457.3810298559497,368.45435682672286,896.6788517577985,610.4715684825127,111.18768286647618,947.2668086030648,2132.5363081123637,72.67831176033468,1368.283190423626,1088.8381387382033,2255.6602594677674,81.84256213882766,286.09698723946093,1104.310207338901,16.288027478639524,1272.074445361928,2154.089059160784,497.47850744031575,466.0547260072973,253.92820332250943,3.692509789360367,156.52427664204924,6862.4092869031965,2263.334688849546,240.32448773423664,5042.601492808739,366.4467008515507,276.3325162639944,124.87340109800104,2782.704316635114,8520.881117566229,313.0486445216178,1140.0381440784358,323.1470870257558,82.60663190793028,401.9988812693316,688.6962308305158,98.1609352193924,1780.8223913594293,576.7209772711159,205.2885034878341,787.3003259770683,1599.7471021392307,313.318943619858,1132.270267441214,455.6738321521324,5065.630731295427,1462.3154059265264,350.9201632395491,13.08933770494327,974.38706058613,167.88262613482476,97.16614488622106,3508.7894657517954,93051.7441429988,244.14070498165955,281.3492478205202,136.1778342382522,504.951192769832,2245.7141143696567,1132.3875108297586,2030.7235836763589,199.07514725223447,1255.3936063376234,3143.534119391994,257.32774010373447,1090.5013688211732,413.76844288377725,267.60818567420904,5545.560320760841,340.59059804608046,85.04415912811882,396.01997159951134,488.00407232705714,1360.7057577888695,4210.100745926743,1771.2289737077313,3482.914460169536,535.4438156148092,1205.964986013371,290.18226561848974,53.29750781913648,363.3560732121827,1118.295763182717,249.51999933977064,2193.119757210642,1583.4286862003592,164.09736950691732,317.4111774000816,1838.1096004027884,215.49208606419757,318.39024368176496,333.2462576357577,1652.6534995893387,27.690865193610904,56.69216232022653,751.5233975715248,408.50270565145394,897.7928454983056,240.2757493750851,2940.948988019971,1406.6856144019446,51.81631848459876,1539.7346975479345,5541.577691135125,3883.549502691929,1278.649846893606,98.66619412328087,745.7496311373804,260.59499385463084,5603.529028216193,1198.1035733066076,834.9075814611531,1107.3644860544537,471.9827411926096,373.4376398082704,3639.9512650186575,318.8064395807576,31.08475376285222,414.04103743798953,1580.6179469358635,945.3720755559212,4926.609594326021,83.63790440461699,2982.9542802795645,368.0213942523038,533.5477053928298,456.66609683461553,92.44516671308833,219.66406364610444,1311.0477486420727,17.032104930453503,107.75940718809608,18.69211038883203,2147.4971844394704,853.0230731404844,140.8279834078432,1449.9682078930643,5288.323381368123,3598.350369298678,3219.132428039496,5.719735395267841,777.7650744090533,229.33157000267343,718.5815706939267,301.25843521006226,125.66300629200164,482.7005622558888,572.4095894141074,9561.823932610136,31.820768777417385,60000.0,850.0,1200.0,10000.0,8500.0],\"xaxis\":\"x\",\"yaxis\":\"y\",\"type\":\"histogram\"}],                        {\"template\":{\"data\":{\"histogram2dcontour\":[{\"type\":\"histogram2dcontour\",\"colorbar\":{\"outlinewidth\":0,\"ticks\":\"\"},\"colorscale\":[[0.0,\"#0d0887\"],[0.1111111111111111,\"#46039f\"],[0.2222222222222222,\"#7201a8\"],[0.3333333333333333,\"#9c179e\"],[0.4444444444444444,\"#bd3786\"],[0.5555555555555556,\"#d8576b\"],[0.6666666666666666,\"#ed7953\"],[0.7777777777777778,\"#fb9f3a\"],[0.8888888888888888,\"#fdca26\"],[1.0,\"#f0f921\"]]}],\"choropleth\":[{\"type\":\"choropleth\",\"colorbar\":{\"outlinewidth\":0,\"ticks\":\"\"}}],\"histogram2d\":[{\"type\":\"histogram2d\",\"colorbar\":{\"outlinewidth\":0,\"ticks\":\"\"},\"colorscale\":[[0.0,\"#0d0887\"],[0.1111111111111111,\"#46039f\"],[0.2222222222222222,\"#7201a8\"],[0.3333333333333333,\"#9c179e\"],[0.4444444444444444,\"#bd3786\"],[0.5555555555555556,\"#d8576b\"],[0.6666666666666666,\"#ed7953\"],[0.7777777777777778,\"#fb9f3a\"],[0.8888888888888888,\"#fdca26\"],[1.0,\"#f0f921\"]]}],\"heatmap\":[{\"type\":\"heatmap\",\"colorbar\":{\"outlinewidth\":0,\"ticks\":\"\"},\"colorscale\":[[0.0,\"#0d0887\"],[0.1111111111111111,\"#46039f\"],[0.2222222222222222,\"#7201a8\"],[0.3333333333333333,\"#9c179e\"],[0.4444444444444444,\"#bd3786\"],[0.5555555555555556,\"#d8576b\"],[0.6666666666666666,\"#ed7953\"],[0.7777777777777778,\"#fb9f3a\"],[0.8888888888888888,\"#fdca26\"],[1.0,\"#f0f921\"]]}],\"heatmapgl\":[{\"type\":\"heatmapgl\",\"colorbar\":{\"outlinewidth\":0,\"ticks\":\"\"},\"colorscale\":[[0.0,\"#0d0887\"],[0.1111111111111111,\"#46039f\"],[0.2222222222222222,\"#7201a8\"],[0.3333333333333333,\"#9c179e\"],[0.4444444444444444,\"#bd3786\"],[0.5555555555555556,\"#d8576b\"],[0.6666666666666666,\"#ed7953\"],[0.7777777777777778,\"#fb9f3a\"],[0.8888888888888888,\"#fdca26\"],[1.0,\"#f0f921\"]]}],\"contourcarpet\":[{\"type\":\"contourcarpet\",\"colorbar\":{\"outlinewidth\":0,\"ticks\":\"\"}}],\"contour\":[{\"type\":\"contour\",\"colorbar\":{\"outlinewidth\":0,\"ticks\":\"\"},\"colorscale\":[[0.0,\"#0d0887\"],[0.1111111111111111,\"#46039f\"],[0.2222222222222222,\"#7201a8\"],[0.3333333333333333,\"#9c179e\"],[0.4444444444444444,\"#bd3786\"],[0.5555555555555556,\"#d8576b\"],[0.6666666666666666,\"#ed7953\"],[0.7777777777777778,\"#fb9f3a\"],[0.8888888888888888,\"#fdca26\"],[1.0,\"#f0f921\"]]}],\"surface\":[{\"type\":\"surface\",\"colorbar\":{\"outlinewidth\":0,\"ticks\":\"\"},\"colorscale\":[[0.0,\"#0d0887\"],[0.1111111111111111,\"#46039f\"],[0.2222222222222222,\"#7201a8\"],[0.3333333333333333,\"#9c179e\"],[0.4444444444444444,\"#bd3786\"],[0.5555555555555556,\"#d8576b\"],[0.6666666666666666,\"#ed7953\"],[0.7777777777777778,\"#fb9f3a\"],[0.8888888888888888,\"#fdca26\"],[1.0,\"#f0f921\"]]}],\"mesh3d\":[{\"type\":\"mesh3d\",\"colorbar\":{\"outlinewidth\":0,\"ticks\":\"\"}}],\"scatter\":[{\"fillpattern\":{\"fillmode\":\"overlay\",\"size\":10,\"solidity\":0.2},\"type\":\"scatter\"}],\"parcoords\":[{\"type\":\"parcoords\",\"line\":{\"colorbar\":{\"outlinewidth\":0,\"ticks\":\"\"}}}],\"scatterpolargl\":[{\"type\":\"scatterpolargl\",\"marker\":{\"colorbar\":{\"outlinewidth\":0,\"ticks\":\"\"}}}],\"bar\":[{\"error_x\":{\"color\":\"#2a3f5f\"},\"error_y\":{\"color\":\"#2a3f5f\"},\"marker\":{\"line\":{\"color\":\"#E5ECF6\",\"width\":0.5},\"pattern\":{\"fillmode\":\"overlay\",\"size\":10,\"solidity\":0.2}},\"type\":\"bar\"}],\"scattergeo\":[{\"type\":\"scattergeo\",\"marker\":{\"colorbar\":{\"outlinewidth\":0,\"ticks\":\"\"}}}],\"scatterpolar\":[{\"type\":\"scatterpolar\",\"marker\":{\"colorbar\":{\"outlinewidth\":0,\"ticks\":\"\"}}}],\"histogram\":[{\"marker\":{\"pattern\":{\"fillmode\":\"overlay\",\"size\":10,\"solidity\":0.2}},\"type\":\"histogram\"}],\"scattergl\":[{\"type\":\"scattergl\",\"marker\":{\"colorbar\":{\"outlinewidth\":0,\"ticks\":\"\"}}}],\"scatter3d\":[{\"type\":\"scatter3d\",\"line\":{\"colorbar\":{\"outlinewidth\":0,\"ticks\":\"\"}},\"marker\":{\"colorbar\":{\"outlinewidth\":0,\"ticks\":\"\"}}}],\"scattermapbox\":[{\"type\":\"scattermapbox\",\"marker\":{\"colorbar\":{\"outlinewidth\":0,\"ticks\":\"\"}}}],\"scatterternary\":[{\"type\":\"scatterternary\",\"marker\":{\"colorbar\":{\"outlinewidth\":0,\"ticks\":\"\"}}}],\"scattercarpet\":[{\"type\":\"scattercarpet\",\"marker\":{\"colorbar\":{\"outlinewidth\":0,\"ticks\":\"\"}}}],\"carpet\":[{\"aaxis\":{\"endlinecolor\":\"#2a3f5f\",\"gridcolor\":\"white\",\"linecolor\":\"white\",\"minorgridcolor\":\"white\",\"startlinecolor\":\"#2a3f5f\"},\"baxis\":{\"endlinecolor\":\"#2a3f5f\",\"gridcolor\":\"white\",\"linecolor\":\"white\",\"minorgridcolor\":\"white\",\"startlinecolor\":\"#2a3f5f\"},\"type\":\"carpet\"}],\"table\":[{\"cells\":{\"fill\":{\"color\":\"#EBF0F8\"},\"line\":{\"color\":\"white\"}},\"header\":{\"fill\":{\"color\":\"#C8D4E3\"},\"line\":{\"color\":\"white\"}},\"type\":\"table\"}],\"barpolar\":[{\"marker\":{\"line\":{\"color\":\"#E5ECF6\",\"width\":0.5},\"pattern\":{\"fillmode\":\"overlay\",\"size\":10,\"solidity\":0.2}},\"type\":\"barpolar\"}],\"pie\":[{\"automargin\":true,\"type\":\"pie\"}]},\"layout\":{\"autotypenumbers\":\"strict\",\"colorway\":[\"#636efa\",\"#EF553B\",\"#00cc96\",\"#ab63fa\",\"#FFA15A\",\"#19d3f3\",\"#FF6692\",\"#B6E880\",\"#FF97FF\",\"#FECB52\"],\"font\":{\"color\":\"#2a3f5f\"},\"hovermode\":\"closest\",\"hoverlabel\":{\"align\":\"left\"},\"paper_bgcolor\":\"white\",\"plot_bgcolor\":\"#E5ECF6\",\"polar\":{\"bgcolor\":\"#E5ECF6\",\"angularaxis\":{\"gridcolor\":\"white\",\"linecolor\":\"white\",\"ticks\":\"\"},\"radialaxis\":{\"gridcolor\":\"white\",\"linecolor\":\"white\",\"ticks\":\"\"}},\"ternary\":{\"bgcolor\":\"#E5ECF6\",\"aaxis\":{\"gridcolor\":\"white\",\"linecolor\":\"white\",\"ticks\":\"\"},\"baxis\":{\"gridcolor\":\"white\",\"linecolor\":\"white\",\"ticks\":\"\"},\"caxis\":{\"gridcolor\":\"white\",\"linecolor\":\"white\",\"ticks\":\"\"}},\"coloraxis\":{\"colorbar\":{\"outlinewidth\":0,\"ticks\":\"\"}},\"colorscale\":{\"sequential\":[[0.0,\"#0d0887\"],[0.1111111111111111,\"#46039f\"],[0.2222222222222222,\"#7201a8\"],[0.3333333333333333,\"#9c179e\"],[0.4444444444444444,\"#bd3786\"],[0.5555555555555556,\"#d8576b\"],[0.6666666666666666,\"#ed7953\"],[0.7777777777777778,\"#fb9f3a\"],[0.8888888888888888,\"#fdca26\"],[1.0,\"#f0f921\"]],\"sequentialminus\":[[0.0,\"#0d0887\"],[0.1111111111111111,\"#46039f\"],[0.2222222222222222,\"#7201a8\"],[0.3333333333333333,\"#9c179e\"],[0.4444444444444444,\"#bd3786\"],[0.5555555555555556,\"#d8576b\"],[0.6666666666666666,\"#ed7953\"],[0.7777777777777778,\"#fb9f3a\"],[0.8888888888888888,\"#fdca26\"],[1.0,\"#f0f921\"]],\"diverging\":[[0,\"#8e0152\"],[0.1,\"#c51b7d\"],[0.2,\"#de77ae\"],[0.3,\"#f1b6da\"],[0.4,\"#fde0ef\"],[0.5,\"#f7f7f7\"],[0.6,\"#e6f5d0\"],[0.7,\"#b8e186\"],[0.8,\"#7fbc41\"],[0.9,\"#4d9221\"],[1,\"#276419\"]]},\"xaxis\":{\"gridcolor\":\"white\",\"linecolor\":\"white\",\"ticks\":\"\",\"title\":{\"standoff\":15},\"zerolinecolor\":\"white\",\"automargin\":true,\"zerolinewidth\":2},\"yaxis\":{\"gridcolor\":\"white\",\"linecolor\":\"white\",\"ticks\":\"\",\"title\":{\"standoff\":15},\"zerolinecolor\":\"white\",\"automargin\":true,\"zerolinewidth\":2},\"scene\":{\"xaxis\":{\"backgroundcolor\":\"#E5ECF6\",\"gridcolor\":\"white\",\"linecolor\":\"white\",\"showbackground\":true,\"ticks\":\"\",\"zerolinecolor\":\"white\",\"gridwidth\":2},\"yaxis\":{\"backgroundcolor\":\"#E5ECF6\",\"gridcolor\":\"white\",\"linecolor\":\"white\",\"showbackground\":true,\"ticks\":\"\",\"zerolinecolor\":\"white\",\"gridwidth\":2},\"zaxis\":{\"backgroundcolor\":\"#E5ECF6\",\"gridcolor\":\"white\",\"linecolor\":\"white\",\"showbackground\":true,\"ticks\":\"\",\"zerolinecolor\":\"white\",\"gridwidth\":2}},\"shapedefaults\":{\"line\":{\"color\":\"#2a3f5f\"}},\"annotationdefaults\":{\"arrowcolor\":\"#2a3f5f\",\"arrowhead\":0,\"arrowwidth\":1},\"geo\":{\"bgcolor\":\"white\",\"landcolor\":\"#E5ECF6\",\"subunitcolor\":\"white\",\"showland\":true,\"showlakes\":true,\"lakecolor\":\"white\"},\"title\":{\"x\":0.05},\"mapbox\":{\"style\":\"light\"}}},\"xaxis\":{\"anchor\":\"y\",\"domain\":[0.0,1.0],\"title\":{\"text\":\"value\"}},\"yaxis\":{\"anchor\":\"x\",\"domain\":[0.0,1.0],\"title\":{\"text\":\"count\"}},\"legend\":{\"title\":{\"text\":\"variable\"},\"tracegroupgap\":0},\"title\":{\"text\":\"Histogram of total_billed_amount; mean: 1894.3952404505453\"},\"barmode\":\"relative\"},                        {\"responsive\": true}                    ).then(function(){\n",
       "                            \n",
       "var gd = document.getElementById('b3e4f883-66a6-4ee5-a74b-b08142925de6');\n",
       "var x = new MutationObserver(function (mutations, observer) {{\n",
       "        var display = window.getComputedStyle(gd).display;\n",
       "        if (!display || display === 'none') {{\n",
       "            console.log([gd, 'removed!']);\n",
       "            Plotly.purge(gd);\n",
       "            observer.disconnect();\n",
       "        }}\n",
       "}});\n",
       "\n",
       "// Listen for the removal of the full notebook cells\n",
       "var notebookContainer = gd.closest('#notebook-container');\n",
       "if (notebookContainer) {{\n",
       "    x.observe(notebookContainer, {childList: true});\n",
       "}}\n",
       "\n",
       "// Listen for the clearing of the current output cell\n",
       "var outputEl = gd.closest('.output');\n",
       "if (outputEl) {{\n",
       "    x.observe(outputEl, {childList: true});\n",
       "}}\n",
       "\n",
       "                        })                };                });            </script>        </div>"
      ]
     },
     "metadata": {},
     "output_type": "display_data"
    },
    {
     "data": {
      "application/vnd.plotly.v1+json": {
       "config": {
        "plotlyServerURL": "https://plot.ly"
       },
       "data": [
        {
         "alignmentgroup": "True",
         "bingroup": "x",
         "hovertemplate": "variable=insurance_covered_amount<br>value=%{x}<br>count=%{y}<extra></extra>",
         "legendgroup": "insurance_covered_amount",
         "marker": {
          "color": "#636efa",
          "pattern": {
           "shape": ""
          }
         },
         "name": "insurance_covered_amount",
         "nbinsx": 100,
         "offsetgroup": "insurance_covered_amount",
         "orientation": "v",
         "showlegend": true,
         "type": "histogram",
         "x": [
          714.0032447071892,
          559.9095923050771,
          392.0973290921465,
          412.5564624490645,
          517.7803578300552,
          222.08137585328404,
          95.86434763506328,
          285.2692943810223,
          617.9496987355029,
          148.5732842866069,
          583.6878627956104,
          165.27072875584736,
          597.8316324250958,
          534.6983279860136,
          211.1605525629336,
          91.30781711511108,
          655.6852016440905,
          346.70051598591346,
          556.1355094465191,
          257.67031311281823,
          181.18165573213065,
          350.78828267102426,
          397.3626499925999,
          680.3213994015744,
          203.6493216353343,
          173.719151065068,
          10.792567272246002,
          591.5604968020615,
          72.83972370620025,
          219.2960460587502,
          119.44712383888516,
          213.08786952917887,
          55.309983020664426,
          69.70462203662912,
          84.21097786316483,
          206.86777211063085,
          265.1862824754534,
          499.3167982633367,
          97.27871725203256,
          466.73693207760886,
          56.93005511490558,
          674.7785731320431,
          61.92288843216158,
          577.6210881010265,
          135.1671729334056,
          363.9327349939314,
          485.3353528910976,
          450.35797783980615,
          504.8565950514317,
          213.8021411089421,
          391.37661139500295,
          650.7428434381045,
          419.201181128869,
          307.35909124219086,
          336.7699757558154,
          413.54932669615977,
          423.6051691306025,
          81.13054661394698,
          195.7566672072374,
          75.68586272909592,
          780.6939978929246,
          47.095457790615455,
          491.3838903217778,
          261.1318580247595,
          126.77071140420556,
          53.03607977631975,
          252.10957546858828,
          118.6071079966753,
          371.1678740873061,
          273.38136391629223,
          350.8492561689707,
          71.89967675487343,
          785.5247555180144,
          354.5903697359833,
          476.9080700702191,
          307.70412736107403,
          510.8254072070851,
          358.52931052845344,
          319.4535627950643,
          349.62418273706766,
          276.37315694563745,
          631.4148330999583,
          501.1053581964821,
          72.2380727137904,
          500.1984316247204,
          60.46129695006151,
          450.0992613131967,
          10.557156200506297,
          712.1449985328433,
          237.96704014541407,
          558.0588721039582,
          657.8180684449181,
          374.1110374436124,
          614.1008907409504,
          579.1603480101091,
          334.2753290778636,
          122.41220737059356,
          242.1046830610342,
          44.18183459124688,
          407.357900412373,
          231.6339455945641,
          237.7986596401796,
          412.5451514017941,
          79.99460142553772,
          130.141255866506,
          356.2271812548086,
          59.20027358871446,
          657.0237286168988,
          581.7765951374676,
          765.750361544519,
          313.95218037176807,
          723.1570734870542,
          284.28539128747286,
          318.0684886960348,
          280.09611211125593,
          266.42746823877167,
          232.32760246228804,
          134.32048790923344,
          209.3257709705308,
          52.645866843097664,
          7.909542105069834,
          608.9247200240968,
          190.78224677073223,
          294.49102444118967,
          50.40947367274674,
          369.051294016291,
          97.66533112711882,
          206.18993909111288,
          702.4388641797992,
          211.54865325742864,
          693.7532289756969,
          442.6606401839568,
          169.22898013350076,
          504.28396795270913,
          136.74640392876,
          595.9161187771336,
          436.1334760086363,
          597.8554971120826,
          409.53841204189104,
          488.3382450236559,
          87.01171009132977,
          269.66642377026096,
          586.2894480988753,
          363.58190881100063,
          179.71351570336728,
          130.40805907140953,
          663.004333596216,
          404.8572338492332,
          711.7127539393306,
          265.4019221157839,
          268.94539785646725,
          330.13326061676275,
          436.7287599884388,
          173.34785685351238,
          602.958934785626,
          53.86472320176743,
          346.4627892076058,
          466.1393840459133,
          582.8418196283687,
          182.75433617562197,
          412.638595570594,
          4.343459335585287,
          319.2464587547241,
          326.09319027863404,
          742.4789806690312,
          262.1276391320622,
          58.60768208651783,
          129.71934199433133,
          772.397971445285,
          160.85100054904282,
          242.68748276500185,
          705.1676204680786,
          418.9191737812584,
          109.90529570634376,
          189.1384231423822,
          449.5014406035205,
          294.7022244870293,
          287.40691991935705,
          385.1577229596493,
          103.56126342474435,
          56.21423567486156,
          126.077722307372,
          216.62699844019272,
          595.6602434986472,
          267.4350871939665,
          203.4061997933058,
          561.3682671574512,
          548.1338014564146,
          308.3978455657342,
          628.1545674264859,
          529.4253840499474,
          156.1298642164252,
          137.57848430289877,
          380.9911026353081,
          414.8078366664991,
          148.23860356086698,
          475.8845011081306,
          515.876935525291,
          155.0400405541951,
          700.0914074443217,
          60.93274495977814,
          477.2795314727604,
          523.2761049065036,
          324.2055482804149,
          92.7525097331287,
          463.2578367974489,
          699.7186855764345,
          73.74415634421699,
          60.228310801780026,
          410.316069162604,
          737.8639754334224,
          176.3761706667009,
          79.41672520819732,
          372.6092152669248,
          263.8462360942346,
          149.9496188988495,
          402.9855154829917,
          290.3561246793029,
          99.67148010293415,
          456.7553380566136,
          466.0793176125881,
          441.79259073813694,
          96.5981041423967,
          70.9470262562423,
          72.4830602523977,
          726.2378269754403,
          490.83747165950825,
          122.854999268887,
          284.3832421230817,
          167.07370665268868,
          168.4130364738246,
          302.8107966124486,
          329.538162351617,
          209.52528589115795,
          66.74867134810307,
          269.28490470437544,
          192.47180562876085,
          429.68765824110864,
          127.5946369884761,
          256.37282572653083,
          161.7311522579014,
          142.0586112897277,
          180.7593115858482,
          277.5659477946712,
          250.0101364520505,
          89.04361483252241,
          446.23999442948747,
          100.3286529813495,
          352.4995143070697,
          110.21362651085272,
          157.3088162697878,
          757.3272897833943,
          208.4761688589376,
          83.6973357992636,
          695.2715470448571,
          105.18045629607678,
          72.67831176033468,
          620.2093322791344,
          353.3167403080842,
          98.83886054518396,
          81.84256213882766,
          286.09698723946093,
          163.53923812517394,
          16.288027478639524,
          542.9757581807362,
          759.0642125908673,
          393.3763849942591,
          434.3662820442592,
          253.92820332250943,
          3.692509789360367,
          156.52427664204924,
          747.5830783491111,
          330.0866708067465,
          240.32448773423664,
          304.88227999434736,
          213.5960095648776,
          276.3325162639944,
          124.87340109800104,
          216.33578786096052,
          597.5018785257438,
          106.19108188431096,
          464.98643254290914,
          323.1470870257558,
          82.60663190793028,
          83.35088258470782,
          434.23254492628064,
          97.86902446790792,
          686.0472302506715,
          576.7209772711159,
          205.2885034878341,
          126.03052987822537,
          265.0443865923247,
          197.48471548109063,
          56.67799893052992,
          455.6738321521324,
          641.7614964901302,
          277.1586377801092,
          350.9201632395491,
          13.08933770494327,
          639.1662743214202,
          167.88262613482476,
          54.65256103202452,
          56.963337879445305,
          449.06930687902144,
          244.14070498165955,
          281.3492478205202,
          136.1778342382522,
          420.3991151904028,
          486.41670697592735,
          144.7756439979526,
          707.6154653004731,
          199.07514725223447,
          798.6492146334572,
          273.292210666716,
          220.2633288470434,
          143.8712434710072,
          413.76844288377725,
          267.60818567420904,
          174.743460289729,
          340.59059804608046,
          85.04415912811882,
          163.61450585464462,
          171.5547387724741,
          772.6024960588893,
          278.72313721829164,
          756.0794687629574,
          106.7080047988133,
          395.6022817198929,
          147.21428638757007,
          53.59053893087913,
          53.29750781913648,
          135.42057860852256,
          591.5183982002598,
          249.51999933977064,
          182.2496805983669,
          756.3066074491375,
          164.09736950691732,
          273.47769811769746,
          581.925322963093,
          215.49208606419757,
          306.66974843822044,
          331.6914218460944,
          319.32988073997507,
          27.690865193610904,
          56.69216232022653,
          179.8949271714407,
          408.50270565145394,
          70.73986737900688,
          240.2757493750851,
          360.82915489227065,
          643.4611641743703,
          51.81631848459876,
          410.080855358888,
          532.8980275419476,
          426.3298480249589,
          658.6388529664124,
          98.66619412328087,
          442.3669924940568,
          237.89043981288395,
          503.7822626078543,
          277.1786065023763,
          482.9630109072365,
          177.2585866805524,
          169.6018192558691,
          362.7723058939952,
          370.1146363329056,
          251.0819486844043,
          31.08475376285222,
          79.40790441042279,
          68.92387046586211,
          253.6627175048568,
          396.3900816214529,
          83.63790440461699,
          406.1537755355067,
          368.0213942523038,
          76.41485343155531,
          185.49546615547573,
          92.44516671308833,
          219.66406364610444,
          689.5521184204568,
          17.032104930453503,
          107.75940718809608,
          18.69211038883203,
          665.9776082735781,
          334.7498324050092,
          140.8279834078432,
          787.6665636284152,
          51.19592795322093,
          159.08760552414947,
          634.3332455145166,
          5.719735395267841,
          626.9353392745666,
          229.33157000267343,
          718.5815706939267,
          301.25843521006226,
          125.66300629200164,
          97.52675341163624,
          357.39308743050407,
          591.8750656324415,
          31.820768777417385,
          55000,
          765,
          1092,
          9200,
          7905
         ],
         "xaxis": "x",
         "yaxis": "y"
        }
       ],
       "layout": {
        "barmode": "relative",
        "legend": {
         "title": {
          "text": "variable"
         },
         "tracegroupgap": 0
        },
        "template": {
         "data": {
          "bar": [
           {
            "error_x": {
             "color": "#2a3f5f"
            },
            "error_y": {
             "color": "#2a3f5f"
            },
            "marker": {
             "line": {
              "color": "#E5ECF6",
              "width": 0.5
             },
             "pattern": {
              "fillmode": "overlay",
              "size": 10,
              "solidity": 0.2
             }
            },
            "type": "bar"
           }
          ],
          "barpolar": [
           {
            "marker": {
             "line": {
              "color": "#E5ECF6",
              "width": 0.5
             },
             "pattern": {
              "fillmode": "overlay",
              "size": 10,
              "solidity": 0.2
             }
            },
            "type": "barpolar"
           }
          ],
          "carpet": [
           {
            "aaxis": {
             "endlinecolor": "#2a3f5f",
             "gridcolor": "white",
             "linecolor": "white",
             "minorgridcolor": "white",
             "startlinecolor": "#2a3f5f"
            },
            "baxis": {
             "endlinecolor": "#2a3f5f",
             "gridcolor": "white",
             "linecolor": "white",
             "minorgridcolor": "white",
             "startlinecolor": "#2a3f5f"
            },
            "type": "carpet"
           }
          ],
          "choropleth": [
           {
            "colorbar": {
             "outlinewidth": 0,
             "ticks": ""
            },
            "type": "choropleth"
           }
          ],
          "contour": [
           {
            "colorbar": {
             "outlinewidth": 0,
             "ticks": ""
            },
            "colorscale": [
             [
              0,
              "#0d0887"
             ],
             [
              0.1111111111111111,
              "#46039f"
             ],
             [
              0.2222222222222222,
              "#7201a8"
             ],
             [
              0.3333333333333333,
              "#9c179e"
             ],
             [
              0.4444444444444444,
              "#bd3786"
             ],
             [
              0.5555555555555556,
              "#d8576b"
             ],
             [
              0.6666666666666666,
              "#ed7953"
             ],
             [
              0.7777777777777778,
              "#fb9f3a"
             ],
             [
              0.8888888888888888,
              "#fdca26"
             ],
             [
              1,
              "#f0f921"
             ]
            ],
            "type": "contour"
           }
          ],
          "contourcarpet": [
           {
            "colorbar": {
             "outlinewidth": 0,
             "ticks": ""
            },
            "type": "contourcarpet"
           }
          ],
          "heatmap": [
           {
            "colorbar": {
             "outlinewidth": 0,
             "ticks": ""
            },
            "colorscale": [
             [
              0,
              "#0d0887"
             ],
             [
              0.1111111111111111,
              "#46039f"
             ],
             [
              0.2222222222222222,
              "#7201a8"
             ],
             [
              0.3333333333333333,
              "#9c179e"
             ],
             [
              0.4444444444444444,
              "#bd3786"
             ],
             [
              0.5555555555555556,
              "#d8576b"
             ],
             [
              0.6666666666666666,
              "#ed7953"
             ],
             [
              0.7777777777777778,
              "#fb9f3a"
             ],
             [
              0.8888888888888888,
              "#fdca26"
             ],
             [
              1,
              "#f0f921"
             ]
            ],
            "type": "heatmap"
           }
          ],
          "heatmapgl": [
           {
            "colorbar": {
             "outlinewidth": 0,
             "ticks": ""
            },
            "colorscale": [
             [
              0,
              "#0d0887"
             ],
             [
              0.1111111111111111,
              "#46039f"
             ],
             [
              0.2222222222222222,
              "#7201a8"
             ],
             [
              0.3333333333333333,
              "#9c179e"
             ],
             [
              0.4444444444444444,
              "#bd3786"
             ],
             [
              0.5555555555555556,
              "#d8576b"
             ],
             [
              0.6666666666666666,
              "#ed7953"
             ],
             [
              0.7777777777777778,
              "#fb9f3a"
             ],
             [
              0.8888888888888888,
              "#fdca26"
             ],
             [
              1,
              "#f0f921"
             ]
            ],
            "type": "heatmapgl"
           }
          ],
          "histogram": [
           {
            "marker": {
             "pattern": {
              "fillmode": "overlay",
              "size": 10,
              "solidity": 0.2
             }
            },
            "type": "histogram"
           }
          ],
          "histogram2d": [
           {
            "colorbar": {
             "outlinewidth": 0,
             "ticks": ""
            },
            "colorscale": [
             [
              0,
              "#0d0887"
             ],
             [
              0.1111111111111111,
              "#46039f"
             ],
             [
              0.2222222222222222,
              "#7201a8"
             ],
             [
              0.3333333333333333,
              "#9c179e"
             ],
             [
              0.4444444444444444,
              "#bd3786"
             ],
             [
              0.5555555555555556,
              "#d8576b"
             ],
             [
              0.6666666666666666,
              "#ed7953"
             ],
             [
              0.7777777777777778,
              "#fb9f3a"
             ],
             [
              0.8888888888888888,
              "#fdca26"
             ],
             [
              1,
              "#f0f921"
             ]
            ],
            "type": "histogram2d"
           }
          ],
          "histogram2dcontour": [
           {
            "colorbar": {
             "outlinewidth": 0,
             "ticks": ""
            },
            "colorscale": [
             [
              0,
              "#0d0887"
             ],
             [
              0.1111111111111111,
              "#46039f"
             ],
             [
              0.2222222222222222,
              "#7201a8"
             ],
             [
              0.3333333333333333,
              "#9c179e"
             ],
             [
              0.4444444444444444,
              "#bd3786"
             ],
             [
              0.5555555555555556,
              "#d8576b"
             ],
             [
              0.6666666666666666,
              "#ed7953"
             ],
             [
              0.7777777777777778,
              "#fb9f3a"
             ],
             [
              0.8888888888888888,
              "#fdca26"
             ],
             [
              1,
              "#f0f921"
             ]
            ],
            "type": "histogram2dcontour"
           }
          ],
          "mesh3d": [
           {
            "colorbar": {
             "outlinewidth": 0,
             "ticks": ""
            },
            "type": "mesh3d"
           }
          ],
          "parcoords": [
           {
            "line": {
             "colorbar": {
              "outlinewidth": 0,
              "ticks": ""
             }
            },
            "type": "parcoords"
           }
          ],
          "pie": [
           {
            "automargin": true,
            "type": "pie"
           }
          ],
          "scatter": [
           {
            "fillpattern": {
             "fillmode": "overlay",
             "size": 10,
             "solidity": 0.2
            },
            "type": "scatter"
           }
          ],
          "scatter3d": [
           {
            "line": {
             "colorbar": {
              "outlinewidth": 0,
              "ticks": ""
             }
            },
            "marker": {
             "colorbar": {
              "outlinewidth": 0,
              "ticks": ""
             }
            },
            "type": "scatter3d"
           }
          ],
          "scattercarpet": [
           {
            "marker": {
             "colorbar": {
              "outlinewidth": 0,
              "ticks": ""
             }
            },
            "type": "scattercarpet"
           }
          ],
          "scattergeo": [
           {
            "marker": {
             "colorbar": {
              "outlinewidth": 0,
              "ticks": ""
             }
            },
            "type": "scattergeo"
           }
          ],
          "scattergl": [
           {
            "marker": {
             "colorbar": {
              "outlinewidth": 0,
              "ticks": ""
             }
            },
            "type": "scattergl"
           }
          ],
          "scattermapbox": [
           {
            "marker": {
             "colorbar": {
              "outlinewidth": 0,
              "ticks": ""
             }
            },
            "type": "scattermapbox"
           }
          ],
          "scatterpolar": [
           {
            "marker": {
             "colorbar": {
              "outlinewidth": 0,
              "ticks": ""
             }
            },
            "type": "scatterpolar"
           }
          ],
          "scatterpolargl": [
           {
            "marker": {
             "colorbar": {
              "outlinewidth": 0,
              "ticks": ""
             }
            },
            "type": "scatterpolargl"
           }
          ],
          "scatterternary": [
           {
            "marker": {
             "colorbar": {
              "outlinewidth": 0,
              "ticks": ""
             }
            },
            "type": "scatterternary"
           }
          ],
          "surface": [
           {
            "colorbar": {
             "outlinewidth": 0,
             "ticks": ""
            },
            "colorscale": [
             [
              0,
              "#0d0887"
             ],
             [
              0.1111111111111111,
              "#46039f"
             ],
             [
              0.2222222222222222,
              "#7201a8"
             ],
             [
              0.3333333333333333,
              "#9c179e"
             ],
             [
              0.4444444444444444,
              "#bd3786"
             ],
             [
              0.5555555555555556,
              "#d8576b"
             ],
             [
              0.6666666666666666,
              "#ed7953"
             ],
             [
              0.7777777777777778,
              "#fb9f3a"
             ],
             [
              0.8888888888888888,
              "#fdca26"
             ],
             [
              1,
              "#f0f921"
             ]
            ],
            "type": "surface"
           }
          ],
          "table": [
           {
            "cells": {
             "fill": {
              "color": "#EBF0F8"
             },
             "line": {
              "color": "white"
             }
            },
            "header": {
             "fill": {
              "color": "#C8D4E3"
             },
             "line": {
              "color": "white"
             }
            },
            "type": "table"
           }
          ]
         },
         "layout": {
          "annotationdefaults": {
           "arrowcolor": "#2a3f5f",
           "arrowhead": 0,
           "arrowwidth": 1
          },
          "autotypenumbers": "strict",
          "coloraxis": {
           "colorbar": {
            "outlinewidth": 0,
            "ticks": ""
           }
          },
          "colorscale": {
           "diverging": [
            [
             0,
             "#8e0152"
            ],
            [
             0.1,
             "#c51b7d"
            ],
            [
             0.2,
             "#de77ae"
            ],
            [
             0.3,
             "#f1b6da"
            ],
            [
             0.4,
             "#fde0ef"
            ],
            [
             0.5,
             "#f7f7f7"
            ],
            [
             0.6,
             "#e6f5d0"
            ],
            [
             0.7,
             "#b8e186"
            ],
            [
             0.8,
             "#7fbc41"
            ],
            [
             0.9,
             "#4d9221"
            ],
            [
             1,
             "#276419"
            ]
           ],
           "sequential": [
            [
             0,
             "#0d0887"
            ],
            [
             0.1111111111111111,
             "#46039f"
            ],
            [
             0.2222222222222222,
             "#7201a8"
            ],
            [
             0.3333333333333333,
             "#9c179e"
            ],
            [
             0.4444444444444444,
             "#bd3786"
            ],
            [
             0.5555555555555556,
             "#d8576b"
            ],
            [
             0.6666666666666666,
             "#ed7953"
            ],
            [
             0.7777777777777778,
             "#fb9f3a"
            ],
            [
             0.8888888888888888,
             "#fdca26"
            ],
            [
             1,
             "#f0f921"
            ]
           ],
           "sequentialminus": [
            [
             0,
             "#0d0887"
            ],
            [
             0.1111111111111111,
             "#46039f"
            ],
            [
             0.2222222222222222,
             "#7201a8"
            ],
            [
             0.3333333333333333,
             "#9c179e"
            ],
            [
             0.4444444444444444,
             "#bd3786"
            ],
            [
             0.5555555555555556,
             "#d8576b"
            ],
            [
             0.6666666666666666,
             "#ed7953"
            ],
            [
             0.7777777777777778,
             "#fb9f3a"
            ],
            [
             0.8888888888888888,
             "#fdca26"
            ],
            [
             1,
             "#f0f921"
            ]
           ]
          },
          "colorway": [
           "#636efa",
           "#EF553B",
           "#00cc96",
           "#ab63fa",
           "#FFA15A",
           "#19d3f3",
           "#FF6692",
           "#B6E880",
           "#FF97FF",
           "#FECB52"
          ],
          "font": {
           "color": "#2a3f5f"
          },
          "geo": {
           "bgcolor": "white",
           "lakecolor": "white",
           "landcolor": "#E5ECF6",
           "showlakes": true,
           "showland": true,
           "subunitcolor": "white"
          },
          "hoverlabel": {
           "align": "left"
          },
          "hovermode": "closest",
          "mapbox": {
           "style": "light"
          },
          "paper_bgcolor": "white",
          "plot_bgcolor": "#E5ECF6",
          "polar": {
           "angularaxis": {
            "gridcolor": "white",
            "linecolor": "white",
            "ticks": ""
           },
           "bgcolor": "#E5ECF6",
           "radialaxis": {
            "gridcolor": "white",
            "linecolor": "white",
            "ticks": ""
           }
          },
          "scene": {
           "xaxis": {
            "backgroundcolor": "#E5ECF6",
            "gridcolor": "white",
            "gridwidth": 2,
            "linecolor": "white",
            "showbackground": true,
            "ticks": "",
            "zerolinecolor": "white"
           },
           "yaxis": {
            "backgroundcolor": "#E5ECF6",
            "gridcolor": "white",
            "gridwidth": 2,
            "linecolor": "white",
            "showbackground": true,
            "ticks": "",
            "zerolinecolor": "white"
           },
           "zaxis": {
            "backgroundcolor": "#E5ECF6",
            "gridcolor": "white",
            "gridwidth": 2,
            "linecolor": "white",
            "showbackground": true,
            "ticks": "",
            "zerolinecolor": "white"
           }
          },
          "shapedefaults": {
           "line": {
            "color": "#2a3f5f"
           }
          },
          "ternary": {
           "aaxis": {
            "gridcolor": "white",
            "linecolor": "white",
            "ticks": ""
           },
           "baxis": {
            "gridcolor": "white",
            "linecolor": "white",
            "ticks": ""
           },
           "bgcolor": "#E5ECF6",
           "caxis": {
            "gridcolor": "white",
            "linecolor": "white",
            "ticks": ""
           }
          },
          "title": {
           "x": 0.05
          },
          "xaxis": {
           "automargin": true,
           "gridcolor": "white",
           "linecolor": "white",
           "ticks": "",
           "title": {
            "standoff": 15
           },
           "zerolinecolor": "white",
           "zerolinewidth": 2
          },
          "yaxis": {
           "automargin": true,
           "gridcolor": "white",
           "linecolor": "white",
           "ticks": "",
           "title": {
            "standoff": 15
           },
           "zerolinecolor": "white",
           "zerolinewidth": 2
          }
         }
        },
        "title": {
         "text": "Histogram of insurance_covered_amount; mean: 494.73164221072216"
        },
        "xaxis": {
         "anchor": "y",
         "domain": [
          0,
          1
         ],
         "title": {
          "text": "value"
         }
        },
        "yaxis": {
         "anchor": "x",
         "domain": [
          0,
          1
         ],
         "title": {
          "text": "count"
         }
        }
       }
      },
      "text/html": [
       "<div>                            <div id=\"2c64cd7c-ba2f-4cf4-b621-faaa7fa209de\" class=\"plotly-graph-div\" style=\"height:525px; width:100%;\"></div>            <script type=\"text/javascript\">                require([\"plotly\"], function(Plotly) {                    window.PLOTLYENV=window.PLOTLYENV || {};                                    if (document.getElementById(\"2c64cd7c-ba2f-4cf4-b621-faaa7fa209de\")) {                    Plotly.newPlot(                        \"2c64cd7c-ba2f-4cf4-b621-faaa7fa209de\",                        [{\"alignmentgroup\":\"True\",\"bingroup\":\"x\",\"hovertemplate\":\"variable=insurance_covered_amount<br>value=%{x}<br>count=%{y}<extra></extra>\",\"legendgroup\":\"insurance_covered_amount\",\"marker\":{\"color\":\"#636efa\",\"pattern\":{\"shape\":\"\"}},\"name\":\"insurance_covered_amount\",\"nbinsx\":100,\"offsetgroup\":\"insurance_covered_amount\",\"orientation\":\"v\",\"showlegend\":true,\"x\":[714.0032447071892,559.9095923050771,392.0973290921465,412.5564624490645,517.7803578300552,222.08137585328404,95.86434763506328,285.2692943810223,617.9496987355029,148.5732842866069,583.6878627956104,165.27072875584736,597.8316324250958,534.6983279860136,211.1605525629336,91.30781711511108,655.6852016440905,346.70051598591346,556.1355094465191,257.67031311281823,181.18165573213065,350.78828267102426,397.3626499925999,680.3213994015744,203.6493216353343,173.719151065068,10.792567272246002,591.5604968020615,72.83972370620025,219.2960460587502,119.44712383888516,213.08786952917887,55.309983020664426,69.70462203662912,84.21097786316483,206.86777211063085,265.1862824754534,499.3167982633367,97.27871725203256,466.73693207760886,56.93005511490558,674.7785731320431,61.92288843216158,577.6210881010265,135.1671729334056,363.9327349939314,485.3353528910976,450.35797783980615,504.8565950514317,213.8021411089421,391.37661139500295,650.7428434381045,419.201181128869,307.35909124219086,336.7699757558154,413.54932669615977,423.6051691306025,81.13054661394698,195.7566672072374,75.68586272909592,780.6939978929246,47.095457790615455,491.3838903217778,261.1318580247595,126.77071140420556,53.03607977631975,252.10957546858828,118.6071079966753,371.1678740873061,273.38136391629223,350.8492561689707,71.89967675487343,785.5247555180144,354.5903697359833,476.9080700702191,307.70412736107403,510.8254072070851,358.52931052845344,319.4535627950643,349.62418273706766,276.37315694563745,631.4148330999583,501.1053581964821,72.2380727137904,500.1984316247204,60.46129695006151,450.0992613131967,10.557156200506297,712.1449985328433,237.96704014541407,558.0588721039582,657.8180684449181,374.1110374436124,614.1008907409504,579.1603480101091,334.2753290778636,122.41220737059356,242.1046830610342,44.18183459124688,407.357900412373,231.6339455945641,237.7986596401796,412.5451514017941,79.99460142553772,130.141255866506,356.2271812548086,59.20027358871446,657.0237286168988,581.7765951374676,765.750361544519,313.95218037176807,723.1570734870542,284.28539128747286,318.0684886960348,280.09611211125593,266.42746823877167,232.32760246228804,134.32048790923344,209.3257709705308,52.645866843097664,7.909542105069834,608.9247200240968,190.78224677073223,294.49102444118967,50.40947367274674,369.051294016291,97.66533112711882,206.18993909111288,702.4388641797992,211.54865325742864,693.7532289756969,442.6606401839568,169.22898013350076,504.28396795270913,136.74640392876,595.9161187771336,436.1334760086363,597.8554971120826,409.53841204189104,488.3382450236559,87.01171009132977,269.66642377026096,586.2894480988753,363.58190881100063,179.71351570336728,130.40805907140953,663.004333596216,404.8572338492332,711.7127539393306,265.4019221157839,268.94539785646725,330.13326061676275,436.7287599884388,173.34785685351238,602.958934785626,53.86472320176743,346.4627892076058,466.1393840459133,582.8418196283687,182.75433617562197,412.638595570594,4.343459335585287,319.2464587547241,326.09319027863404,742.4789806690312,262.1276391320622,58.60768208651783,129.71934199433133,772.397971445285,160.85100054904282,242.68748276500185,705.1676204680786,418.9191737812584,109.90529570634376,189.1384231423822,449.5014406035205,294.7022244870293,287.40691991935705,385.1577229596493,103.56126342474435,56.21423567486156,126.077722307372,216.62699844019272,595.6602434986472,267.4350871939665,203.4061997933058,561.3682671574512,548.1338014564146,308.3978455657342,628.1545674264859,529.4253840499474,156.1298642164252,137.57848430289877,380.9911026353081,414.8078366664991,148.23860356086698,475.8845011081306,515.876935525291,155.0400405541951,700.0914074443217,60.93274495977814,477.2795314727604,523.2761049065036,324.2055482804149,92.7525097331287,463.2578367974489,699.7186855764345,73.74415634421699,60.228310801780026,410.316069162604,737.8639754334224,176.3761706667009,79.41672520819732,372.6092152669248,263.8462360942346,149.9496188988495,402.9855154829917,290.3561246793029,99.67148010293415,456.7553380566136,466.0793176125881,441.79259073813694,96.5981041423967,70.9470262562423,72.4830602523977,726.2378269754403,490.83747165950825,122.854999268887,284.3832421230817,167.07370665268868,168.4130364738246,302.8107966124486,329.538162351617,209.52528589115795,66.74867134810307,269.28490470437544,192.47180562876085,429.68765824110864,127.5946369884761,256.37282572653083,161.7311522579014,142.0586112897277,180.7593115858482,277.5659477946712,250.0101364520505,89.04361483252241,446.23999442948747,100.3286529813495,352.4995143070697,110.21362651085272,157.3088162697878,757.3272897833943,208.4761688589376,83.6973357992636,695.2715470448571,105.18045629607678,72.67831176033468,620.2093322791344,353.3167403080842,98.83886054518396,81.84256213882766,286.09698723946093,163.53923812517394,16.288027478639524,542.9757581807362,759.0642125908673,393.3763849942591,434.3662820442592,253.92820332250943,3.692509789360367,156.52427664204924,747.5830783491111,330.0866708067465,240.32448773423664,304.88227999434736,213.5960095648776,276.3325162639944,124.87340109800104,216.33578786096052,597.5018785257438,106.19108188431096,464.98643254290914,323.1470870257558,82.60663190793028,83.35088258470782,434.23254492628064,97.86902446790792,686.0472302506715,576.7209772711159,205.2885034878341,126.03052987822537,265.0443865923247,197.48471548109063,56.67799893052992,455.6738321521324,641.7614964901302,277.1586377801092,350.9201632395491,13.08933770494327,639.1662743214202,167.88262613482476,54.65256103202452,56.963337879445305,449.06930687902144,244.14070498165955,281.3492478205202,136.1778342382522,420.3991151904028,486.41670697592735,144.7756439979526,707.6154653004731,199.07514725223447,798.6492146334572,273.292210666716,220.2633288470434,143.8712434710072,413.76844288377725,267.60818567420904,174.743460289729,340.59059804608046,85.04415912811882,163.61450585464462,171.5547387724741,772.6024960588893,278.72313721829164,756.0794687629574,106.7080047988133,395.6022817198929,147.21428638757007,53.59053893087913,53.29750781913648,135.42057860852256,591.5183982002598,249.51999933977064,182.2496805983669,756.3066074491375,164.09736950691732,273.47769811769746,581.925322963093,215.49208606419757,306.66974843822044,331.6914218460944,319.32988073997507,27.690865193610904,56.69216232022653,179.8949271714407,408.50270565145394,70.73986737900688,240.2757493750851,360.82915489227065,643.4611641743703,51.81631848459876,410.080855358888,532.8980275419476,426.3298480249589,658.6388529664124,98.66619412328087,442.3669924940568,237.89043981288395,503.7822626078543,277.1786065023763,482.9630109072365,177.2585866805524,169.6018192558691,362.7723058939952,370.1146363329056,251.0819486844043,31.08475376285222,79.40790441042279,68.92387046586211,253.6627175048568,396.3900816214529,83.63790440461699,406.1537755355067,368.0213942523038,76.41485343155531,185.49546615547573,92.44516671308833,219.66406364610444,689.5521184204568,17.032104930453503,107.75940718809608,18.69211038883203,665.9776082735781,334.7498324050092,140.8279834078432,787.6665636284152,51.19592795322093,159.08760552414947,634.3332455145166,5.719735395267841,626.9353392745666,229.33157000267343,718.5815706939267,301.25843521006226,125.66300629200164,97.52675341163624,357.39308743050407,591.8750656324415,31.820768777417385,55000.0,765.0,1092.0,9200.0,7905.0],\"xaxis\":\"x\",\"yaxis\":\"y\",\"type\":\"histogram\"}],                        {\"template\":{\"data\":{\"histogram2dcontour\":[{\"type\":\"histogram2dcontour\",\"colorbar\":{\"outlinewidth\":0,\"ticks\":\"\"},\"colorscale\":[[0.0,\"#0d0887\"],[0.1111111111111111,\"#46039f\"],[0.2222222222222222,\"#7201a8\"],[0.3333333333333333,\"#9c179e\"],[0.4444444444444444,\"#bd3786\"],[0.5555555555555556,\"#d8576b\"],[0.6666666666666666,\"#ed7953\"],[0.7777777777777778,\"#fb9f3a\"],[0.8888888888888888,\"#fdca26\"],[1.0,\"#f0f921\"]]}],\"choropleth\":[{\"type\":\"choropleth\",\"colorbar\":{\"outlinewidth\":0,\"ticks\":\"\"}}],\"histogram2d\":[{\"type\":\"histogram2d\",\"colorbar\":{\"outlinewidth\":0,\"ticks\":\"\"},\"colorscale\":[[0.0,\"#0d0887\"],[0.1111111111111111,\"#46039f\"],[0.2222222222222222,\"#7201a8\"],[0.3333333333333333,\"#9c179e\"],[0.4444444444444444,\"#bd3786\"],[0.5555555555555556,\"#d8576b\"],[0.6666666666666666,\"#ed7953\"],[0.7777777777777778,\"#fb9f3a\"],[0.8888888888888888,\"#fdca26\"],[1.0,\"#f0f921\"]]}],\"heatmap\":[{\"type\":\"heatmap\",\"colorbar\":{\"outlinewidth\":0,\"ticks\":\"\"},\"colorscale\":[[0.0,\"#0d0887\"],[0.1111111111111111,\"#46039f\"],[0.2222222222222222,\"#7201a8\"],[0.3333333333333333,\"#9c179e\"],[0.4444444444444444,\"#bd3786\"],[0.5555555555555556,\"#d8576b\"],[0.6666666666666666,\"#ed7953\"],[0.7777777777777778,\"#fb9f3a\"],[0.8888888888888888,\"#fdca26\"],[1.0,\"#f0f921\"]]}],\"heatmapgl\":[{\"type\":\"heatmapgl\",\"colorbar\":{\"outlinewidth\":0,\"ticks\":\"\"},\"colorscale\":[[0.0,\"#0d0887\"],[0.1111111111111111,\"#46039f\"],[0.2222222222222222,\"#7201a8\"],[0.3333333333333333,\"#9c179e\"],[0.4444444444444444,\"#bd3786\"],[0.5555555555555556,\"#d8576b\"],[0.6666666666666666,\"#ed7953\"],[0.7777777777777778,\"#fb9f3a\"],[0.8888888888888888,\"#fdca26\"],[1.0,\"#f0f921\"]]}],\"contourcarpet\":[{\"type\":\"contourcarpet\",\"colorbar\":{\"outlinewidth\":0,\"ticks\":\"\"}}],\"contour\":[{\"type\":\"contour\",\"colorbar\":{\"outlinewidth\":0,\"ticks\":\"\"},\"colorscale\":[[0.0,\"#0d0887\"],[0.1111111111111111,\"#46039f\"],[0.2222222222222222,\"#7201a8\"],[0.3333333333333333,\"#9c179e\"],[0.4444444444444444,\"#bd3786\"],[0.5555555555555556,\"#d8576b\"],[0.6666666666666666,\"#ed7953\"],[0.7777777777777778,\"#fb9f3a\"],[0.8888888888888888,\"#fdca26\"],[1.0,\"#f0f921\"]]}],\"surface\":[{\"type\":\"surface\",\"colorbar\":{\"outlinewidth\":0,\"ticks\":\"\"},\"colorscale\":[[0.0,\"#0d0887\"],[0.1111111111111111,\"#46039f\"],[0.2222222222222222,\"#7201a8\"],[0.3333333333333333,\"#9c179e\"],[0.4444444444444444,\"#bd3786\"],[0.5555555555555556,\"#d8576b\"],[0.6666666666666666,\"#ed7953\"],[0.7777777777777778,\"#fb9f3a\"],[0.8888888888888888,\"#fdca26\"],[1.0,\"#f0f921\"]]}],\"mesh3d\":[{\"type\":\"mesh3d\",\"colorbar\":{\"outlinewidth\":0,\"ticks\":\"\"}}],\"scatter\":[{\"fillpattern\":{\"fillmode\":\"overlay\",\"size\":10,\"solidity\":0.2},\"type\":\"scatter\"}],\"parcoords\":[{\"type\":\"parcoords\",\"line\":{\"colorbar\":{\"outlinewidth\":0,\"ticks\":\"\"}}}],\"scatterpolargl\":[{\"type\":\"scatterpolargl\",\"marker\":{\"colorbar\":{\"outlinewidth\":0,\"ticks\":\"\"}}}],\"bar\":[{\"error_x\":{\"color\":\"#2a3f5f\"},\"error_y\":{\"color\":\"#2a3f5f\"},\"marker\":{\"line\":{\"color\":\"#E5ECF6\",\"width\":0.5},\"pattern\":{\"fillmode\":\"overlay\",\"size\":10,\"solidity\":0.2}},\"type\":\"bar\"}],\"scattergeo\":[{\"type\":\"scattergeo\",\"marker\":{\"colorbar\":{\"outlinewidth\":0,\"ticks\":\"\"}}}],\"scatterpolar\":[{\"type\":\"scatterpolar\",\"marker\":{\"colorbar\":{\"outlinewidth\":0,\"ticks\":\"\"}}}],\"histogram\":[{\"marker\":{\"pattern\":{\"fillmode\":\"overlay\",\"size\":10,\"solidity\":0.2}},\"type\":\"histogram\"}],\"scattergl\":[{\"type\":\"scattergl\",\"marker\":{\"colorbar\":{\"outlinewidth\":0,\"ticks\":\"\"}}}],\"scatter3d\":[{\"type\":\"scatter3d\",\"line\":{\"colorbar\":{\"outlinewidth\":0,\"ticks\":\"\"}},\"marker\":{\"colorbar\":{\"outlinewidth\":0,\"ticks\":\"\"}}}],\"scattermapbox\":[{\"type\":\"scattermapbox\",\"marker\":{\"colorbar\":{\"outlinewidth\":0,\"ticks\":\"\"}}}],\"scatterternary\":[{\"type\":\"scatterternary\",\"marker\":{\"colorbar\":{\"outlinewidth\":0,\"ticks\":\"\"}}}],\"scattercarpet\":[{\"type\":\"scattercarpet\",\"marker\":{\"colorbar\":{\"outlinewidth\":0,\"ticks\":\"\"}}}],\"carpet\":[{\"aaxis\":{\"endlinecolor\":\"#2a3f5f\",\"gridcolor\":\"white\",\"linecolor\":\"white\",\"minorgridcolor\":\"white\",\"startlinecolor\":\"#2a3f5f\"},\"baxis\":{\"endlinecolor\":\"#2a3f5f\",\"gridcolor\":\"white\",\"linecolor\":\"white\",\"minorgridcolor\":\"white\",\"startlinecolor\":\"#2a3f5f\"},\"type\":\"carpet\"}],\"table\":[{\"cells\":{\"fill\":{\"color\":\"#EBF0F8\"},\"line\":{\"color\":\"white\"}},\"header\":{\"fill\":{\"color\":\"#C8D4E3\"},\"line\":{\"color\":\"white\"}},\"type\":\"table\"}],\"barpolar\":[{\"marker\":{\"line\":{\"color\":\"#E5ECF6\",\"width\":0.5},\"pattern\":{\"fillmode\":\"overlay\",\"size\":10,\"solidity\":0.2}},\"type\":\"barpolar\"}],\"pie\":[{\"automargin\":true,\"type\":\"pie\"}]},\"layout\":{\"autotypenumbers\":\"strict\",\"colorway\":[\"#636efa\",\"#EF553B\",\"#00cc96\",\"#ab63fa\",\"#FFA15A\",\"#19d3f3\",\"#FF6692\",\"#B6E880\",\"#FF97FF\",\"#FECB52\"],\"font\":{\"color\":\"#2a3f5f\"},\"hovermode\":\"closest\",\"hoverlabel\":{\"align\":\"left\"},\"paper_bgcolor\":\"white\",\"plot_bgcolor\":\"#E5ECF6\",\"polar\":{\"bgcolor\":\"#E5ECF6\",\"angularaxis\":{\"gridcolor\":\"white\",\"linecolor\":\"white\",\"ticks\":\"\"},\"radialaxis\":{\"gridcolor\":\"white\",\"linecolor\":\"white\",\"ticks\":\"\"}},\"ternary\":{\"bgcolor\":\"#E5ECF6\",\"aaxis\":{\"gridcolor\":\"white\",\"linecolor\":\"white\",\"ticks\":\"\"},\"baxis\":{\"gridcolor\":\"white\",\"linecolor\":\"white\",\"ticks\":\"\"},\"caxis\":{\"gridcolor\":\"white\",\"linecolor\":\"white\",\"ticks\":\"\"}},\"coloraxis\":{\"colorbar\":{\"outlinewidth\":0,\"ticks\":\"\"}},\"colorscale\":{\"sequential\":[[0.0,\"#0d0887\"],[0.1111111111111111,\"#46039f\"],[0.2222222222222222,\"#7201a8\"],[0.3333333333333333,\"#9c179e\"],[0.4444444444444444,\"#bd3786\"],[0.5555555555555556,\"#d8576b\"],[0.6666666666666666,\"#ed7953\"],[0.7777777777777778,\"#fb9f3a\"],[0.8888888888888888,\"#fdca26\"],[1.0,\"#f0f921\"]],\"sequentialminus\":[[0.0,\"#0d0887\"],[0.1111111111111111,\"#46039f\"],[0.2222222222222222,\"#7201a8\"],[0.3333333333333333,\"#9c179e\"],[0.4444444444444444,\"#bd3786\"],[0.5555555555555556,\"#d8576b\"],[0.6666666666666666,\"#ed7953\"],[0.7777777777777778,\"#fb9f3a\"],[0.8888888888888888,\"#fdca26\"],[1.0,\"#f0f921\"]],\"diverging\":[[0,\"#8e0152\"],[0.1,\"#c51b7d\"],[0.2,\"#de77ae\"],[0.3,\"#f1b6da\"],[0.4,\"#fde0ef\"],[0.5,\"#f7f7f7\"],[0.6,\"#e6f5d0\"],[0.7,\"#b8e186\"],[0.8,\"#7fbc41\"],[0.9,\"#4d9221\"],[1,\"#276419\"]]},\"xaxis\":{\"gridcolor\":\"white\",\"linecolor\":\"white\",\"ticks\":\"\",\"title\":{\"standoff\":15},\"zerolinecolor\":\"white\",\"automargin\":true,\"zerolinewidth\":2},\"yaxis\":{\"gridcolor\":\"white\",\"linecolor\":\"white\",\"ticks\":\"\",\"title\":{\"standoff\":15},\"zerolinecolor\":\"white\",\"automargin\":true,\"zerolinewidth\":2},\"scene\":{\"xaxis\":{\"backgroundcolor\":\"#E5ECF6\",\"gridcolor\":\"white\",\"linecolor\":\"white\",\"showbackground\":true,\"ticks\":\"\",\"zerolinecolor\":\"white\",\"gridwidth\":2},\"yaxis\":{\"backgroundcolor\":\"#E5ECF6\",\"gridcolor\":\"white\",\"linecolor\":\"white\",\"showbackground\":true,\"ticks\":\"\",\"zerolinecolor\":\"white\",\"gridwidth\":2},\"zaxis\":{\"backgroundcolor\":\"#E5ECF6\",\"gridcolor\":\"white\",\"linecolor\":\"white\",\"showbackground\":true,\"ticks\":\"\",\"zerolinecolor\":\"white\",\"gridwidth\":2}},\"shapedefaults\":{\"line\":{\"color\":\"#2a3f5f\"}},\"annotationdefaults\":{\"arrowcolor\":\"#2a3f5f\",\"arrowhead\":0,\"arrowwidth\":1},\"geo\":{\"bgcolor\":\"white\",\"landcolor\":\"#E5ECF6\",\"subunitcolor\":\"white\",\"showland\":true,\"showlakes\":true,\"lakecolor\":\"white\"},\"title\":{\"x\":0.05},\"mapbox\":{\"style\":\"light\"}}},\"xaxis\":{\"anchor\":\"y\",\"domain\":[0.0,1.0],\"title\":{\"text\":\"value\"}},\"yaxis\":{\"anchor\":\"x\",\"domain\":[0.0,1.0],\"title\":{\"text\":\"count\"}},\"legend\":{\"title\":{\"text\":\"variable\"},\"tracegroupgap\":0},\"title\":{\"text\":\"Histogram of insurance_covered_amount; mean: 494.73164221072216\"},\"barmode\":\"relative\"},                        {\"responsive\": true}                    ).then(function(){\n",
       "                            \n",
       "var gd = document.getElementById('2c64cd7c-ba2f-4cf4-b621-faaa7fa209de');\n",
       "var x = new MutationObserver(function (mutations, observer) {{\n",
       "        var display = window.getComputedStyle(gd).display;\n",
       "        if (!display || display === 'none') {{\n",
       "            console.log([gd, 'removed!']);\n",
       "            Plotly.purge(gd);\n",
       "            observer.disconnect();\n",
       "        }}\n",
       "}});\n",
       "\n",
       "// Listen for the removal of the full notebook cells\n",
       "var notebookContainer = gd.closest('#notebook-container');\n",
       "if (notebookContainer) {{\n",
       "    x.observe(notebookContainer, {childList: true});\n",
       "}}\n",
       "\n",
       "// Listen for the clearing of the current output cell\n",
       "var outputEl = gd.closest('.output');\n",
       "if (outputEl) {{\n",
       "    x.observe(outputEl, {childList: true});\n",
       "}}\n",
       "\n",
       "                        })                };                });            </script>        </div>"
      ]
     },
     "metadata": {},
     "output_type": "display_data"
    },
    {
     "data": {
      "application/vnd.plotly.v1+json": {
       "config": {
        "plotlyServerURL": "https://plot.ly"
       },
       "data": [
        {
         "alignmentgroup": "True",
         "bingroup": "x",
         "hovertemplate": "variable=patient_responsibility_amount<br>value=%{x}<br>count=%{y}<extra></extra>",
         "legendgroup": "patient_responsibility_amount",
         "marker": {
          "color": "#636efa",
          "pattern": {
           "shape": ""
          }
         },
         "name": "patient_responsibility_amount",
         "nbinsx": 100,
         "offsetgroup": "patient_responsibility_amount",
         "orientation": "v",
         "showlegend": true,
         "type": "histogram",
         "x": [
          43.75673741915909,
          1732.2791936449298,
          11357.389438644472,
          1010.0342109992436,
          0,
          1690.950237655352,
          0,
          777.8949875022031,
          0,
          0,
          5309.806936962935,
          161.93325686538873,
          249.8955490602932,
          1876.749145651445,
          383.5883126842817,
          0,
          1128.8405629858778,
          0,
          6929.293409193303,
          2229.001354934987,
          1923.30509072732,
          0,
          988.9629864335998,
          7636.812483916058,
          430.6602007970745,
          353.9984927878355,
          0,
          535.6893138221614,
          2086.849439533948,
          0,
          178.08165163878766,
          369.9853107204534,
          0,
          0,
          360.8101129447239,
          27.54529878114101,
          156.6563398641165,
          0,
          6213.487213949026,
          3490.766494963918,
          56.0578010019238,
          1793.64641937748,
          0,
          18.98439738994614,
          0,
          0,
          830.9219903249531,
          0,
          1189.9422550181905,
          990.0051075581096,
          3508.258893627372,
          0,
          1241.2055815701024,
          0,
          0,
          0,
          5.64806003008465,
          0,
          423.7363041588747,
          0,
          1797.3097673959585,
          0,
          0,
          0,
          0,
          1486.2708234468846,
          935.1486491709544,
          0,
          526.2705460447878,
          1321.716752354174,
          1125.2819725794152,
          0,
          285.84616808146416,
          837.2874265631183,
          1725.0543956238423,
          289.7048206293847,
          0,
          4790.453181611269,
          1302.0620516707304,
          355.28354269652726,
          40.757284452071474,
          1388.3994090222782,
          0,
          0,
          0,
          2261.9761851118205,
          38.91528956950515,
          0,
          124.72942356383489,
          14242.262232761555,
          1214.6760241066609,
          194.96221826996384,
          2672.247088069992,
          1130.1907696884075,
          0,
          449.0920946450976,
          1136.8095168903428,
          1789.567793234763,
          0,
          1077.3746395524292,
          256.0778238649069,
          747.3644780489758,
          1014.2921212313591,
          582.185490027025,
          0,
          70.90750318578199,
          0,
          428.4003671268868,
          3821.266983733885,
          847.2797231747835,
          83.8065171816387,
          42.76062944461182,
          0,
          347.448844005819,
          0,
          1025.638992040871,
          0,
          4928.9532545485245,
          779.652279159554,
          0,
          0,
          16282.50189211631,
          0,
          0,
          128.02492470920924,
          3029.062795005438,
          858.9428153598815,
          384.0637327460937,
          0,
          89.51384826837662,
          150.51675818484887,
          0,
          0,
          467.1221491178633,
          238.23767633634787,
          951.0673027404464,
          0,
          0,
          1152.60662096998,
          0,
          5152.276452389973,
          1328.5554764855815,
          1261.3114346963446,
          4051.0227753038967,
          216.6857109487009,
          625.1015990079442,
          438.6319735088947,
          623.3250714386404,
          3650.430385393611,
          0,
          0,
          2800.729476456063,
          1203.8724992989823,
          0,
          128.3316199268853,
          1274.3203181567872,
          0,
          0,
          161.26250033972337,
          338.56228390606384,
          952.3480384573004,
          0,
          147.29782436438495,
          0,
          88.07024294429084,
          1229.4084091228497,
          0,
          0,
          227.0641316510441,
          1131.585190462362,
          533.0274983813057,
          6722.953567171837,
          161.8171973596555,
          0,
          885.1006989051482,
          362.0534132957693,
          486.63239635714,
          388.6063304986667,
          3371.1424405411885,
          0,
          0,
          0,
          0,
          192.11862201089525,
          572.0155928704269,
          0,
          0,
          0,
          188.75288438175696,
          1042.135671351707,
          0,
          1236.746295002211,
          0,
          265.12207353182345,
          1413.3144080824334,
          0,
          41.59929969074346,
          314.4423854211194,
          0,
          684.3126550310994,
          0,
          3572.1094782190075,
          0,
          0,
          0,
          0,
          282.1603432443276,
          0,
          226.56547652484613,
          1521.6148383510645,
          200.34110747049303,
          0,
          52.9500279550026,
          2465.009300817891,
          0,
          0,
          106879.68426787108,
          0,
          0,
          55.21957764021556,
          0,
          2919.066596446835,
          11.443878236651573,
          0,
          0,
          2107.53209794609,
          0,
          0,
          505.6645589789123,
          491.0662060729127,
          0,
          511.2955781439306,
          0,
          0,
          535.3088371052895,
          0,
          0,
          1997.5944078340729,
          0,
          0,
          230.7442736079477,
          106.33927946994046,
          0,
          1185.9313132438592,
          65.07843990487339,
          0,
          218.95142042153824,
          0,
          0,
          2347.167403345097,
          211.14554055693503,
          139.35156197440415,
          401.9953996235751,
          27.490347067212586,
          251.99526155820772,
          2027.3558518162863,
          0,
          748.0738581444917,
          735.521398430119,
          2156.8213989225837,
          0,
          0,
          940.7709692137267,
          0,
          729.0986871811917,
          1395.0248465699162,
          104.10212244605664,
          31.68844396303814,
          0,
          0,
          0,
          6114.8262085540855,
          1933.2480180428,
          0,
          4737.719212814392,
          152.85069128667314,
          0,
          0,
          2566.3685287741537,
          7923.379239040485,
          206.85756263730684,
          675.0517115355267,
          0,
          0,
          318.64799868462376,
          254.46368590423515,
          0.2919107514844938,
          1094.775161108758,
          0,
          0,
          661.2697960988429,
          1334.702715546906,
          115.83422813876734,
          1075.592268510684,
          0,
          4423.869234805296,
          1185.156768146417,
          0,
          0,
          335.22078626470966,
          0,
          42.51358385419654,
          3451.8261278723503,
          92602.67483611975,
          0,
          0,
          0,
          84.55207757942912,
          1759.2974073937294,
          987.611866831806,
          1323.1081183758856,
          0,
          456.7443917041662,
          2870.241908725278,
          37.06441125669107,
          946.630125350166,
          0,
          0,
          5370.816860471112,
          0,
          0,
          232.40546574486672,
          316.44933355458306,
          588.1032617299804,
          3931.377608708452,
          1015.149504944774,
          3376.2064553707223,
          139.84153389491627,
          1058.7506996258007,
          236.59172668761065,
          0,
          227.93549460366012,
          526.7773649824576,
          0,
          2010.8700766122752,
          827.1220787512217,
          0,
          43.9334792823841,
          1256.1842774396955,
          0,
          11.72049524354452,
          1.5548357896632865,
          1333.3236188493636,
          0,
          0,
          571.6284704000841,
          0,
          827.0529781192987,
          0,
          2580.1198331277,
          763.2244502275743,
          0,
          1129.6538421890464,
          5008.679663593177,
          3457.21965466697,
          620.0109939271935,
          0,
          303.3826386433236,
          22.70455404174692,
          5099.746765608339,
          920.9249668042312,
          351.9445705539165,
          930.1058993739013,
          302.3809219367405,
          10.665333914275266,
          3269.836628685752,
          67.72449089635327,
          0,
          334.6331330275667,
          1511.6940764700014,
          691.7093580510644,
          4530.219512704568,
          0,
          2576.800504744058,
          0,
          457.13285196127447,
          271.1706306791398,
          0,
          0,
          621.4956302216159,
          0,
          0,
          0,
          1481.5195761658924,
          518.2732407354752,
          0,
          662.3016442646491,
          5237.1274534149015,
          3439.262763774528,
          2584.799182524979,
          0,
          150.82973513448678,
          0,
          0,
          0,
          0,
          385.17380884425256,
          215.0165019836033,
          8969.948866977695,
          0,
          5000,
          85,
          108,
          800,
          595
         ],
         "xaxis": "x",
         "yaxis": "y"
        }
       ],
       "layout": {
        "barmode": "relative",
        "legend": {
         "title": {
          "text": "variable"
         },
         "tracegroupgap": 0
        },
        "template": {
         "data": {
          "bar": [
           {
            "error_x": {
             "color": "#2a3f5f"
            },
            "error_y": {
             "color": "#2a3f5f"
            },
            "marker": {
             "line": {
              "color": "#E5ECF6",
              "width": 0.5
             },
             "pattern": {
              "fillmode": "overlay",
              "size": 10,
              "solidity": 0.2
             }
            },
            "type": "bar"
           }
          ],
          "barpolar": [
           {
            "marker": {
             "line": {
              "color": "#E5ECF6",
              "width": 0.5
             },
             "pattern": {
              "fillmode": "overlay",
              "size": 10,
              "solidity": 0.2
             }
            },
            "type": "barpolar"
           }
          ],
          "carpet": [
           {
            "aaxis": {
             "endlinecolor": "#2a3f5f",
             "gridcolor": "white",
             "linecolor": "white",
             "minorgridcolor": "white",
             "startlinecolor": "#2a3f5f"
            },
            "baxis": {
             "endlinecolor": "#2a3f5f",
             "gridcolor": "white",
             "linecolor": "white",
             "minorgridcolor": "white",
             "startlinecolor": "#2a3f5f"
            },
            "type": "carpet"
           }
          ],
          "choropleth": [
           {
            "colorbar": {
             "outlinewidth": 0,
             "ticks": ""
            },
            "type": "choropleth"
           }
          ],
          "contour": [
           {
            "colorbar": {
             "outlinewidth": 0,
             "ticks": ""
            },
            "colorscale": [
             [
              0,
              "#0d0887"
             ],
             [
              0.1111111111111111,
              "#46039f"
             ],
             [
              0.2222222222222222,
              "#7201a8"
             ],
             [
              0.3333333333333333,
              "#9c179e"
             ],
             [
              0.4444444444444444,
              "#bd3786"
             ],
             [
              0.5555555555555556,
              "#d8576b"
             ],
             [
              0.6666666666666666,
              "#ed7953"
             ],
             [
              0.7777777777777778,
              "#fb9f3a"
             ],
             [
              0.8888888888888888,
              "#fdca26"
             ],
             [
              1,
              "#f0f921"
             ]
            ],
            "type": "contour"
           }
          ],
          "contourcarpet": [
           {
            "colorbar": {
             "outlinewidth": 0,
             "ticks": ""
            },
            "type": "contourcarpet"
           }
          ],
          "heatmap": [
           {
            "colorbar": {
             "outlinewidth": 0,
             "ticks": ""
            },
            "colorscale": [
             [
              0,
              "#0d0887"
             ],
             [
              0.1111111111111111,
              "#46039f"
             ],
             [
              0.2222222222222222,
              "#7201a8"
             ],
             [
              0.3333333333333333,
              "#9c179e"
             ],
             [
              0.4444444444444444,
              "#bd3786"
             ],
             [
              0.5555555555555556,
              "#d8576b"
             ],
             [
              0.6666666666666666,
              "#ed7953"
             ],
             [
              0.7777777777777778,
              "#fb9f3a"
             ],
             [
              0.8888888888888888,
              "#fdca26"
             ],
             [
              1,
              "#f0f921"
             ]
            ],
            "type": "heatmap"
           }
          ],
          "heatmapgl": [
           {
            "colorbar": {
             "outlinewidth": 0,
             "ticks": ""
            },
            "colorscale": [
             [
              0,
              "#0d0887"
             ],
             [
              0.1111111111111111,
              "#46039f"
             ],
             [
              0.2222222222222222,
              "#7201a8"
             ],
             [
              0.3333333333333333,
              "#9c179e"
             ],
             [
              0.4444444444444444,
              "#bd3786"
             ],
             [
              0.5555555555555556,
              "#d8576b"
             ],
             [
              0.6666666666666666,
              "#ed7953"
             ],
             [
              0.7777777777777778,
              "#fb9f3a"
             ],
             [
              0.8888888888888888,
              "#fdca26"
             ],
             [
              1,
              "#f0f921"
             ]
            ],
            "type": "heatmapgl"
           }
          ],
          "histogram": [
           {
            "marker": {
             "pattern": {
              "fillmode": "overlay",
              "size": 10,
              "solidity": 0.2
             }
            },
            "type": "histogram"
           }
          ],
          "histogram2d": [
           {
            "colorbar": {
             "outlinewidth": 0,
             "ticks": ""
            },
            "colorscale": [
             [
              0,
              "#0d0887"
             ],
             [
              0.1111111111111111,
              "#46039f"
             ],
             [
              0.2222222222222222,
              "#7201a8"
             ],
             [
              0.3333333333333333,
              "#9c179e"
             ],
             [
              0.4444444444444444,
              "#bd3786"
             ],
             [
              0.5555555555555556,
              "#d8576b"
             ],
             [
              0.6666666666666666,
              "#ed7953"
             ],
             [
              0.7777777777777778,
              "#fb9f3a"
             ],
             [
              0.8888888888888888,
              "#fdca26"
             ],
             [
              1,
              "#f0f921"
             ]
            ],
            "type": "histogram2d"
           }
          ],
          "histogram2dcontour": [
           {
            "colorbar": {
             "outlinewidth": 0,
             "ticks": ""
            },
            "colorscale": [
             [
              0,
              "#0d0887"
             ],
             [
              0.1111111111111111,
              "#46039f"
             ],
             [
              0.2222222222222222,
              "#7201a8"
             ],
             [
              0.3333333333333333,
              "#9c179e"
             ],
             [
              0.4444444444444444,
              "#bd3786"
             ],
             [
              0.5555555555555556,
              "#d8576b"
             ],
             [
              0.6666666666666666,
              "#ed7953"
             ],
             [
              0.7777777777777778,
              "#fb9f3a"
             ],
             [
              0.8888888888888888,
              "#fdca26"
             ],
             [
              1,
              "#f0f921"
             ]
            ],
            "type": "histogram2dcontour"
           }
          ],
          "mesh3d": [
           {
            "colorbar": {
             "outlinewidth": 0,
             "ticks": ""
            },
            "type": "mesh3d"
           }
          ],
          "parcoords": [
           {
            "line": {
             "colorbar": {
              "outlinewidth": 0,
              "ticks": ""
             }
            },
            "type": "parcoords"
           }
          ],
          "pie": [
           {
            "automargin": true,
            "type": "pie"
           }
          ],
          "scatter": [
           {
            "fillpattern": {
             "fillmode": "overlay",
             "size": 10,
             "solidity": 0.2
            },
            "type": "scatter"
           }
          ],
          "scatter3d": [
           {
            "line": {
             "colorbar": {
              "outlinewidth": 0,
              "ticks": ""
             }
            },
            "marker": {
             "colorbar": {
              "outlinewidth": 0,
              "ticks": ""
             }
            },
            "type": "scatter3d"
           }
          ],
          "scattercarpet": [
           {
            "marker": {
             "colorbar": {
              "outlinewidth": 0,
              "ticks": ""
             }
            },
            "type": "scattercarpet"
           }
          ],
          "scattergeo": [
           {
            "marker": {
             "colorbar": {
              "outlinewidth": 0,
              "ticks": ""
             }
            },
            "type": "scattergeo"
           }
          ],
          "scattergl": [
           {
            "marker": {
             "colorbar": {
              "outlinewidth": 0,
              "ticks": ""
             }
            },
            "type": "scattergl"
           }
          ],
          "scattermapbox": [
           {
            "marker": {
             "colorbar": {
              "outlinewidth": 0,
              "ticks": ""
             }
            },
            "type": "scattermapbox"
           }
          ],
          "scatterpolar": [
           {
            "marker": {
             "colorbar": {
              "outlinewidth": 0,
              "ticks": ""
             }
            },
            "type": "scatterpolar"
           }
          ],
          "scatterpolargl": [
           {
            "marker": {
             "colorbar": {
              "outlinewidth": 0,
              "ticks": ""
             }
            },
            "type": "scatterpolargl"
           }
          ],
          "scatterternary": [
           {
            "marker": {
             "colorbar": {
              "outlinewidth": 0,
              "ticks": ""
             }
            },
            "type": "scatterternary"
           }
          ],
          "surface": [
           {
            "colorbar": {
             "outlinewidth": 0,
             "ticks": ""
            },
            "colorscale": [
             [
              0,
              "#0d0887"
             ],
             [
              0.1111111111111111,
              "#46039f"
             ],
             [
              0.2222222222222222,
              "#7201a8"
             ],
             [
              0.3333333333333333,
              "#9c179e"
             ],
             [
              0.4444444444444444,
              "#bd3786"
             ],
             [
              0.5555555555555556,
              "#d8576b"
             ],
             [
              0.6666666666666666,
              "#ed7953"
             ],
             [
              0.7777777777777778,
              "#fb9f3a"
             ],
             [
              0.8888888888888888,
              "#fdca26"
             ],
             [
              1,
              "#f0f921"
             ]
            ],
            "type": "surface"
           }
          ],
          "table": [
           {
            "cells": {
             "fill": {
              "color": "#EBF0F8"
             },
             "line": {
              "color": "white"
             }
            },
            "header": {
             "fill": {
              "color": "#C8D4E3"
             },
             "line": {
              "color": "white"
             }
            },
            "type": "table"
           }
          ]
         },
         "layout": {
          "annotationdefaults": {
           "arrowcolor": "#2a3f5f",
           "arrowhead": 0,
           "arrowwidth": 1
          },
          "autotypenumbers": "strict",
          "coloraxis": {
           "colorbar": {
            "outlinewidth": 0,
            "ticks": ""
           }
          },
          "colorscale": {
           "diverging": [
            [
             0,
             "#8e0152"
            ],
            [
             0.1,
             "#c51b7d"
            ],
            [
             0.2,
             "#de77ae"
            ],
            [
             0.3,
             "#f1b6da"
            ],
            [
             0.4,
             "#fde0ef"
            ],
            [
             0.5,
             "#f7f7f7"
            ],
            [
             0.6,
             "#e6f5d0"
            ],
            [
             0.7,
             "#b8e186"
            ],
            [
             0.8,
             "#7fbc41"
            ],
            [
             0.9,
             "#4d9221"
            ],
            [
             1,
             "#276419"
            ]
           ],
           "sequential": [
            [
             0,
             "#0d0887"
            ],
            [
             0.1111111111111111,
             "#46039f"
            ],
            [
             0.2222222222222222,
             "#7201a8"
            ],
            [
             0.3333333333333333,
             "#9c179e"
            ],
            [
             0.4444444444444444,
             "#bd3786"
            ],
            [
             0.5555555555555556,
             "#d8576b"
            ],
            [
             0.6666666666666666,
             "#ed7953"
            ],
            [
             0.7777777777777778,
             "#fb9f3a"
            ],
            [
             0.8888888888888888,
             "#fdca26"
            ],
            [
             1,
             "#f0f921"
            ]
           ],
           "sequentialminus": [
            [
             0,
             "#0d0887"
            ],
            [
             0.1111111111111111,
             "#46039f"
            ],
            [
             0.2222222222222222,
             "#7201a8"
            ],
            [
             0.3333333333333333,
             "#9c179e"
            ],
            [
             0.4444444444444444,
             "#bd3786"
            ],
            [
             0.5555555555555556,
             "#d8576b"
            ],
            [
             0.6666666666666666,
             "#ed7953"
            ],
            [
             0.7777777777777778,
             "#fb9f3a"
            ],
            [
             0.8888888888888888,
             "#fdca26"
            ],
            [
             1,
             "#f0f921"
            ]
           ]
          },
          "colorway": [
           "#636efa",
           "#EF553B",
           "#00cc96",
           "#ab63fa",
           "#FFA15A",
           "#19d3f3",
           "#FF6692",
           "#B6E880",
           "#FF97FF",
           "#FECB52"
          ],
          "font": {
           "color": "#2a3f5f"
          },
          "geo": {
           "bgcolor": "white",
           "lakecolor": "white",
           "landcolor": "#E5ECF6",
           "showlakes": true,
           "showland": true,
           "subunitcolor": "white"
          },
          "hoverlabel": {
           "align": "left"
          },
          "hovermode": "closest",
          "mapbox": {
           "style": "light"
          },
          "paper_bgcolor": "white",
          "plot_bgcolor": "#E5ECF6",
          "polar": {
           "angularaxis": {
            "gridcolor": "white",
            "linecolor": "white",
            "ticks": ""
           },
           "bgcolor": "#E5ECF6",
           "radialaxis": {
            "gridcolor": "white",
            "linecolor": "white",
            "ticks": ""
           }
          },
          "scene": {
           "xaxis": {
            "backgroundcolor": "#E5ECF6",
            "gridcolor": "white",
            "gridwidth": 2,
            "linecolor": "white",
            "showbackground": true,
            "ticks": "",
            "zerolinecolor": "white"
           },
           "yaxis": {
            "backgroundcolor": "#E5ECF6",
            "gridcolor": "white",
            "gridwidth": 2,
            "linecolor": "white",
            "showbackground": true,
            "ticks": "",
            "zerolinecolor": "white"
           },
           "zaxis": {
            "backgroundcolor": "#E5ECF6",
            "gridcolor": "white",
            "gridwidth": 2,
            "linecolor": "white",
            "showbackground": true,
            "ticks": "",
            "zerolinecolor": "white"
           }
          },
          "shapedefaults": {
           "line": {
            "color": "#2a3f5f"
           }
          },
          "ternary": {
           "aaxis": {
            "gridcolor": "white",
            "linecolor": "white",
            "ticks": ""
           },
           "baxis": {
            "gridcolor": "white",
            "linecolor": "white",
            "ticks": ""
           },
           "bgcolor": "#E5ECF6",
           "caxis": {
            "gridcolor": "white",
            "linecolor": "white",
            "ticks": ""
           }
          },
          "title": {
           "x": 0.05
          },
          "xaxis": {
           "automargin": true,
           "gridcolor": "white",
           "linecolor": "white",
           "ticks": "",
           "title": {
            "standoff": 15
           },
           "zerolinecolor": "white",
           "zerolinewidth": 2
          },
          "yaxis": {
           "automargin": true,
           "gridcolor": "white",
           "linecolor": "white",
           "ticks": "",
           "title": {
            "standoff": 15
           },
           "zerolinecolor": "white",
           "zerolinewidth": 2
          }
         }
        },
        "title": {
         "text": "Histogram of patient_responsibility_amount; mean: 1399.663598239824"
        },
        "xaxis": {
         "anchor": "y",
         "domain": [
          0,
          1
         ],
         "title": {
          "text": "value"
         }
        },
        "yaxis": {
         "anchor": "x",
         "domain": [
          0,
          1
         ],
         "title": {
          "text": "count"
         }
        }
       }
      },
      "text/html": [
       "<div>                            <div id=\"44eb26c4-fe79-422e-ba01-3a8419b67ae4\" class=\"plotly-graph-div\" style=\"height:525px; width:100%;\"></div>            <script type=\"text/javascript\">                require([\"plotly\"], function(Plotly) {                    window.PLOTLYENV=window.PLOTLYENV || {};                                    if (document.getElementById(\"44eb26c4-fe79-422e-ba01-3a8419b67ae4\")) {                    Plotly.newPlot(                        \"44eb26c4-fe79-422e-ba01-3a8419b67ae4\",                        [{\"alignmentgroup\":\"True\",\"bingroup\":\"x\",\"hovertemplate\":\"variable=patient_responsibility_amount<br>value=%{x}<br>count=%{y}<extra></extra>\",\"legendgroup\":\"patient_responsibility_amount\",\"marker\":{\"color\":\"#636efa\",\"pattern\":{\"shape\":\"\"}},\"name\":\"patient_responsibility_amount\",\"nbinsx\":100,\"offsetgroup\":\"patient_responsibility_amount\",\"orientation\":\"v\",\"showlegend\":true,\"x\":[43.75673741915909,1732.2791936449298,11357.389438644472,1010.0342109992436,0.0,1690.950237655352,0.0,777.8949875022031,0.0,0.0,5309.806936962935,161.93325686538873,249.8955490602932,1876.749145651445,383.5883126842817,0.0,1128.8405629858778,0.0,6929.293409193303,2229.001354934987,1923.30509072732,0.0,988.9629864335998,7636.812483916058,430.6602007970745,353.9984927878355,0.0,535.6893138221614,2086.849439533948,0.0,178.08165163878766,369.9853107204534,0.0,0.0,360.8101129447239,27.54529878114101,156.6563398641165,0.0,6213.487213949026,3490.766494963918,56.0578010019238,1793.64641937748,0.0,18.98439738994614,0.0,0.0,830.9219903249531,0.0,1189.9422550181905,990.0051075581096,3508.258893627372,0.0,1241.2055815701024,0.0,0.0,0.0,5.64806003008465,0.0,423.7363041588747,0.0,1797.3097673959585,0.0,0.0,0.0,0.0,1486.2708234468846,935.1486491709544,0.0,526.2705460447878,1321.716752354174,1125.2819725794152,0.0,285.84616808146416,837.2874265631183,1725.0543956238423,289.7048206293847,0.0,4790.453181611269,1302.0620516707304,355.28354269652726,40.757284452071474,1388.3994090222782,0.0,0.0,0.0,2261.9761851118205,38.91528956950515,0.0,124.72942356383489,14242.262232761555,1214.6760241066609,194.96221826996384,2672.247088069992,1130.1907696884075,0.0,449.0920946450976,1136.8095168903428,1789.567793234763,0.0,1077.3746395524292,256.0778238649069,747.3644780489758,1014.2921212313591,582.185490027025,0.0,70.90750318578199,0.0,428.4003671268868,3821.266983733885,847.2797231747835,83.8065171816387,42.76062944461182,0.0,347.448844005819,0.0,1025.638992040871,0.0,4928.9532545485245,779.652279159554,0.0,0.0,16282.50189211631,0.0,0.0,128.02492470920924,3029.062795005438,858.9428153598815,384.0637327460937,0.0,89.51384826837662,150.51675818484887,0.0,0.0,467.1221491178633,238.23767633634787,951.0673027404464,0.0,0.0,1152.60662096998,0.0,5152.276452389973,1328.5554764855815,1261.3114346963446,4051.0227753038967,216.6857109487009,625.1015990079442,438.6319735088947,623.3250714386404,3650.430385393611,0.0,0.0,2800.729476456063,1203.8724992989823,0.0,128.3316199268853,1274.3203181567872,0.0,0.0,161.26250033972337,338.56228390606384,952.3480384573004,0.0,147.29782436438495,0.0,88.07024294429084,1229.4084091228497,0.0,0.0,227.0641316510441,1131.585190462362,533.0274983813057,6722.953567171837,161.8171973596555,0.0,885.1006989051482,362.0534132957693,486.63239635714,388.6063304986667,3371.1424405411885,0.0,0.0,0.0,0.0,192.11862201089525,572.0155928704269,0.0,0.0,0.0,188.75288438175696,1042.135671351707,0.0,1236.746295002211,0.0,265.12207353182345,1413.3144080824334,0.0,41.59929969074346,314.4423854211194,0.0,684.3126550310994,0.0,3572.1094782190075,0.0,0.0,0.0,0.0,282.1603432443276,0.0,226.56547652484613,1521.6148383510645,200.34110747049303,0.0,52.9500279550026,2465.009300817891,0.0,0.0,106879.68426787108,0.0,0.0,55.21957764021556,0.0,2919.066596446835,11.443878236651573,0.0,0.0,2107.53209794609,0.0,0.0,505.6645589789123,491.0662060729127,0.0,511.2955781439306,0.0,0.0,535.3088371052895,0.0,0.0,1997.5944078340729,0.0,0.0,230.7442736079477,106.33927946994046,0.0,1185.9313132438592,65.07843990487339,0.0,218.95142042153824,0.0,0.0,2347.167403345097,211.14554055693503,139.35156197440415,401.9953996235751,27.490347067212586,251.99526155820772,2027.3558518162863,0.0,748.0738581444917,735.521398430119,2156.8213989225837,0.0,0.0,940.7709692137267,0.0,729.0986871811917,1395.0248465699162,104.10212244605664,31.68844396303814,0.0,0.0,0.0,6114.8262085540855,1933.2480180428,0.0,4737.719212814392,152.85069128667314,0.0,0.0,2566.3685287741537,7923.379239040485,206.85756263730684,675.0517115355267,0.0,0.0,318.64799868462376,254.46368590423515,0.2919107514844938,1094.775161108758,0.0,0.0,661.2697960988429,1334.702715546906,115.83422813876734,1075.592268510684,0.0,4423.869234805296,1185.156768146417,0.0,0.0,335.22078626470966,0.0,42.51358385419654,3451.8261278723503,92602.67483611975,0.0,0.0,0.0,84.55207757942912,1759.2974073937294,987.611866831806,1323.1081183758856,0.0,456.7443917041662,2870.241908725278,37.06441125669107,946.630125350166,0.0,0.0,5370.816860471112,0.0,0.0,232.40546574486672,316.44933355458306,588.1032617299804,3931.377608708452,1015.149504944774,3376.2064553707223,139.84153389491627,1058.7506996258007,236.59172668761065,0.0,227.93549460366012,526.7773649824576,0.0,2010.8700766122752,827.1220787512217,0.0,43.9334792823841,1256.1842774396955,0.0,11.72049524354452,1.5548357896632865,1333.3236188493636,0.0,0.0,571.6284704000841,0.0,827.0529781192987,0.0,2580.1198331277,763.2244502275743,0.0,1129.6538421890464,5008.679663593177,3457.21965466697,620.0109939271935,0.0,303.3826386433236,22.70455404174692,5099.746765608339,920.9249668042312,351.9445705539165,930.1058993739013,302.3809219367405,10.665333914275266,3269.836628685752,67.72449089635327,0.0,334.6331330275667,1511.6940764700014,691.7093580510644,4530.219512704568,0.0,2576.800504744058,0.0,457.13285196127447,271.1706306791398,0.0,0.0,621.4956302216159,0.0,0.0,0.0,1481.5195761658924,518.2732407354752,0.0,662.3016442646491,5237.1274534149015,3439.262763774528,2584.799182524979,0.0,150.82973513448678,0.0,0.0,0.0,0.0,385.17380884425256,215.0165019836033,8969.948866977695,0.0,5000.0,85.0,108.0,800.0,595.0],\"xaxis\":\"x\",\"yaxis\":\"y\",\"type\":\"histogram\"}],                        {\"template\":{\"data\":{\"histogram2dcontour\":[{\"type\":\"histogram2dcontour\",\"colorbar\":{\"outlinewidth\":0,\"ticks\":\"\"},\"colorscale\":[[0.0,\"#0d0887\"],[0.1111111111111111,\"#46039f\"],[0.2222222222222222,\"#7201a8\"],[0.3333333333333333,\"#9c179e\"],[0.4444444444444444,\"#bd3786\"],[0.5555555555555556,\"#d8576b\"],[0.6666666666666666,\"#ed7953\"],[0.7777777777777778,\"#fb9f3a\"],[0.8888888888888888,\"#fdca26\"],[1.0,\"#f0f921\"]]}],\"choropleth\":[{\"type\":\"choropleth\",\"colorbar\":{\"outlinewidth\":0,\"ticks\":\"\"}}],\"histogram2d\":[{\"type\":\"histogram2d\",\"colorbar\":{\"outlinewidth\":0,\"ticks\":\"\"},\"colorscale\":[[0.0,\"#0d0887\"],[0.1111111111111111,\"#46039f\"],[0.2222222222222222,\"#7201a8\"],[0.3333333333333333,\"#9c179e\"],[0.4444444444444444,\"#bd3786\"],[0.5555555555555556,\"#d8576b\"],[0.6666666666666666,\"#ed7953\"],[0.7777777777777778,\"#fb9f3a\"],[0.8888888888888888,\"#fdca26\"],[1.0,\"#f0f921\"]]}],\"heatmap\":[{\"type\":\"heatmap\",\"colorbar\":{\"outlinewidth\":0,\"ticks\":\"\"},\"colorscale\":[[0.0,\"#0d0887\"],[0.1111111111111111,\"#46039f\"],[0.2222222222222222,\"#7201a8\"],[0.3333333333333333,\"#9c179e\"],[0.4444444444444444,\"#bd3786\"],[0.5555555555555556,\"#d8576b\"],[0.6666666666666666,\"#ed7953\"],[0.7777777777777778,\"#fb9f3a\"],[0.8888888888888888,\"#fdca26\"],[1.0,\"#f0f921\"]]}],\"heatmapgl\":[{\"type\":\"heatmapgl\",\"colorbar\":{\"outlinewidth\":0,\"ticks\":\"\"},\"colorscale\":[[0.0,\"#0d0887\"],[0.1111111111111111,\"#46039f\"],[0.2222222222222222,\"#7201a8\"],[0.3333333333333333,\"#9c179e\"],[0.4444444444444444,\"#bd3786\"],[0.5555555555555556,\"#d8576b\"],[0.6666666666666666,\"#ed7953\"],[0.7777777777777778,\"#fb9f3a\"],[0.8888888888888888,\"#fdca26\"],[1.0,\"#f0f921\"]]}],\"contourcarpet\":[{\"type\":\"contourcarpet\",\"colorbar\":{\"outlinewidth\":0,\"ticks\":\"\"}}],\"contour\":[{\"type\":\"contour\",\"colorbar\":{\"outlinewidth\":0,\"ticks\":\"\"},\"colorscale\":[[0.0,\"#0d0887\"],[0.1111111111111111,\"#46039f\"],[0.2222222222222222,\"#7201a8\"],[0.3333333333333333,\"#9c179e\"],[0.4444444444444444,\"#bd3786\"],[0.5555555555555556,\"#d8576b\"],[0.6666666666666666,\"#ed7953\"],[0.7777777777777778,\"#fb9f3a\"],[0.8888888888888888,\"#fdca26\"],[1.0,\"#f0f921\"]]}],\"surface\":[{\"type\":\"surface\",\"colorbar\":{\"outlinewidth\":0,\"ticks\":\"\"},\"colorscale\":[[0.0,\"#0d0887\"],[0.1111111111111111,\"#46039f\"],[0.2222222222222222,\"#7201a8\"],[0.3333333333333333,\"#9c179e\"],[0.4444444444444444,\"#bd3786\"],[0.5555555555555556,\"#d8576b\"],[0.6666666666666666,\"#ed7953\"],[0.7777777777777778,\"#fb9f3a\"],[0.8888888888888888,\"#fdca26\"],[1.0,\"#f0f921\"]]}],\"mesh3d\":[{\"type\":\"mesh3d\",\"colorbar\":{\"outlinewidth\":0,\"ticks\":\"\"}}],\"scatter\":[{\"fillpattern\":{\"fillmode\":\"overlay\",\"size\":10,\"solidity\":0.2},\"type\":\"scatter\"}],\"parcoords\":[{\"type\":\"parcoords\",\"line\":{\"colorbar\":{\"outlinewidth\":0,\"ticks\":\"\"}}}],\"scatterpolargl\":[{\"type\":\"scatterpolargl\",\"marker\":{\"colorbar\":{\"outlinewidth\":0,\"ticks\":\"\"}}}],\"bar\":[{\"error_x\":{\"color\":\"#2a3f5f\"},\"error_y\":{\"color\":\"#2a3f5f\"},\"marker\":{\"line\":{\"color\":\"#E5ECF6\",\"width\":0.5},\"pattern\":{\"fillmode\":\"overlay\",\"size\":10,\"solidity\":0.2}},\"type\":\"bar\"}],\"scattergeo\":[{\"type\":\"scattergeo\",\"marker\":{\"colorbar\":{\"outlinewidth\":0,\"ticks\":\"\"}}}],\"scatterpolar\":[{\"type\":\"scatterpolar\",\"marker\":{\"colorbar\":{\"outlinewidth\":0,\"ticks\":\"\"}}}],\"histogram\":[{\"marker\":{\"pattern\":{\"fillmode\":\"overlay\",\"size\":10,\"solidity\":0.2}},\"type\":\"histogram\"}],\"scattergl\":[{\"type\":\"scattergl\",\"marker\":{\"colorbar\":{\"outlinewidth\":0,\"ticks\":\"\"}}}],\"scatter3d\":[{\"type\":\"scatter3d\",\"line\":{\"colorbar\":{\"outlinewidth\":0,\"ticks\":\"\"}},\"marker\":{\"colorbar\":{\"outlinewidth\":0,\"ticks\":\"\"}}}],\"scattermapbox\":[{\"type\":\"scattermapbox\",\"marker\":{\"colorbar\":{\"outlinewidth\":0,\"ticks\":\"\"}}}],\"scatterternary\":[{\"type\":\"scatterternary\",\"marker\":{\"colorbar\":{\"outlinewidth\":0,\"ticks\":\"\"}}}],\"scattercarpet\":[{\"type\":\"scattercarpet\",\"marker\":{\"colorbar\":{\"outlinewidth\":0,\"ticks\":\"\"}}}],\"carpet\":[{\"aaxis\":{\"endlinecolor\":\"#2a3f5f\",\"gridcolor\":\"white\",\"linecolor\":\"white\",\"minorgridcolor\":\"white\",\"startlinecolor\":\"#2a3f5f\"},\"baxis\":{\"endlinecolor\":\"#2a3f5f\",\"gridcolor\":\"white\",\"linecolor\":\"white\",\"minorgridcolor\":\"white\",\"startlinecolor\":\"#2a3f5f\"},\"type\":\"carpet\"}],\"table\":[{\"cells\":{\"fill\":{\"color\":\"#EBF0F8\"},\"line\":{\"color\":\"white\"}},\"header\":{\"fill\":{\"color\":\"#C8D4E3\"},\"line\":{\"color\":\"white\"}},\"type\":\"table\"}],\"barpolar\":[{\"marker\":{\"line\":{\"color\":\"#E5ECF6\",\"width\":0.5},\"pattern\":{\"fillmode\":\"overlay\",\"size\":10,\"solidity\":0.2}},\"type\":\"barpolar\"}],\"pie\":[{\"automargin\":true,\"type\":\"pie\"}]},\"layout\":{\"autotypenumbers\":\"strict\",\"colorway\":[\"#636efa\",\"#EF553B\",\"#00cc96\",\"#ab63fa\",\"#FFA15A\",\"#19d3f3\",\"#FF6692\",\"#B6E880\",\"#FF97FF\",\"#FECB52\"],\"font\":{\"color\":\"#2a3f5f\"},\"hovermode\":\"closest\",\"hoverlabel\":{\"align\":\"left\"},\"paper_bgcolor\":\"white\",\"plot_bgcolor\":\"#E5ECF6\",\"polar\":{\"bgcolor\":\"#E5ECF6\",\"angularaxis\":{\"gridcolor\":\"white\",\"linecolor\":\"white\",\"ticks\":\"\"},\"radialaxis\":{\"gridcolor\":\"white\",\"linecolor\":\"white\",\"ticks\":\"\"}},\"ternary\":{\"bgcolor\":\"#E5ECF6\",\"aaxis\":{\"gridcolor\":\"white\",\"linecolor\":\"white\",\"ticks\":\"\"},\"baxis\":{\"gridcolor\":\"white\",\"linecolor\":\"white\",\"ticks\":\"\"},\"caxis\":{\"gridcolor\":\"white\",\"linecolor\":\"white\",\"ticks\":\"\"}},\"coloraxis\":{\"colorbar\":{\"outlinewidth\":0,\"ticks\":\"\"}},\"colorscale\":{\"sequential\":[[0.0,\"#0d0887\"],[0.1111111111111111,\"#46039f\"],[0.2222222222222222,\"#7201a8\"],[0.3333333333333333,\"#9c179e\"],[0.4444444444444444,\"#bd3786\"],[0.5555555555555556,\"#d8576b\"],[0.6666666666666666,\"#ed7953\"],[0.7777777777777778,\"#fb9f3a\"],[0.8888888888888888,\"#fdca26\"],[1.0,\"#f0f921\"]],\"sequentialminus\":[[0.0,\"#0d0887\"],[0.1111111111111111,\"#46039f\"],[0.2222222222222222,\"#7201a8\"],[0.3333333333333333,\"#9c179e\"],[0.4444444444444444,\"#bd3786\"],[0.5555555555555556,\"#d8576b\"],[0.6666666666666666,\"#ed7953\"],[0.7777777777777778,\"#fb9f3a\"],[0.8888888888888888,\"#fdca26\"],[1.0,\"#f0f921\"]],\"diverging\":[[0,\"#8e0152\"],[0.1,\"#c51b7d\"],[0.2,\"#de77ae\"],[0.3,\"#f1b6da\"],[0.4,\"#fde0ef\"],[0.5,\"#f7f7f7\"],[0.6,\"#e6f5d0\"],[0.7,\"#b8e186\"],[0.8,\"#7fbc41\"],[0.9,\"#4d9221\"],[1,\"#276419\"]]},\"xaxis\":{\"gridcolor\":\"white\",\"linecolor\":\"white\",\"ticks\":\"\",\"title\":{\"standoff\":15},\"zerolinecolor\":\"white\",\"automargin\":true,\"zerolinewidth\":2},\"yaxis\":{\"gridcolor\":\"white\",\"linecolor\":\"white\",\"ticks\":\"\",\"title\":{\"standoff\":15},\"zerolinecolor\":\"white\",\"automargin\":true,\"zerolinewidth\":2},\"scene\":{\"xaxis\":{\"backgroundcolor\":\"#E5ECF6\",\"gridcolor\":\"white\",\"linecolor\":\"white\",\"showbackground\":true,\"ticks\":\"\",\"zerolinecolor\":\"white\",\"gridwidth\":2},\"yaxis\":{\"backgroundcolor\":\"#E5ECF6\",\"gridcolor\":\"white\",\"linecolor\":\"white\",\"showbackground\":true,\"ticks\":\"\",\"zerolinecolor\":\"white\",\"gridwidth\":2},\"zaxis\":{\"backgroundcolor\":\"#E5ECF6\",\"gridcolor\":\"white\",\"linecolor\":\"white\",\"showbackground\":true,\"ticks\":\"\",\"zerolinecolor\":\"white\",\"gridwidth\":2}},\"shapedefaults\":{\"line\":{\"color\":\"#2a3f5f\"}},\"annotationdefaults\":{\"arrowcolor\":\"#2a3f5f\",\"arrowhead\":0,\"arrowwidth\":1},\"geo\":{\"bgcolor\":\"white\",\"landcolor\":\"#E5ECF6\",\"subunitcolor\":\"white\",\"showland\":true,\"showlakes\":true,\"lakecolor\":\"white\"},\"title\":{\"x\":0.05},\"mapbox\":{\"style\":\"light\"}}},\"xaxis\":{\"anchor\":\"y\",\"domain\":[0.0,1.0],\"title\":{\"text\":\"value\"}},\"yaxis\":{\"anchor\":\"x\",\"domain\":[0.0,1.0],\"title\":{\"text\":\"count\"}},\"legend\":{\"title\":{\"text\":\"variable\"},\"tracegroupgap\":0},\"title\":{\"text\":\"Histogram of patient_responsibility_amount; mean: 1399.663598239824\"},\"barmode\":\"relative\"},                        {\"responsive\": true}                    ).then(function(){\n",
       "                            \n",
       "var gd = document.getElementById('44eb26c4-fe79-422e-ba01-3a8419b67ae4');\n",
       "var x = new MutationObserver(function (mutations, observer) {{\n",
       "        var display = window.getComputedStyle(gd).display;\n",
       "        if (!display || display === 'none') {{\n",
       "            console.log([gd, 'removed!']);\n",
       "            Plotly.purge(gd);\n",
       "            observer.disconnect();\n",
       "        }}\n",
       "}});\n",
       "\n",
       "// Listen for the removal of the full notebook cells\n",
       "var notebookContainer = gd.closest('#notebook-container');\n",
       "if (notebookContainer) {{\n",
       "    x.observe(notebookContainer, {childList: true});\n",
       "}}\n",
       "\n",
       "// Listen for the clearing of the current output cell\n",
       "var outputEl = gd.closest('.output');\n",
       "if (outputEl) {{\n",
       "    x.observe(outputEl, {childList: true});\n",
       "}}\n",
       "\n",
       "                        })                };                });            </script>        </div>"
      ]
     },
     "metadata": {},
     "output_type": "display_data"
    }
   ],
   "source": [
    "def histogram(column):\n",
    "    mean = df[column].mean()\n",
    "    fig = px.histogram(df[column], nbins=100, title=f'Histogram of {column}; mean: {mean}')\n",
    "    fig.show()\n",
    "histogram('total_billed_amount')\n",
    "histogram('insurance_covered_amount')\n",
    "histogram('patient_responsibility_amount')"
   ]
  },
  {
   "cell_type": "code",
   "execution_count": 39,
   "id": "2b1f3cba",
   "metadata": {},
   "outputs": [
    {
     "data": {
      "application/vnd.plotly.v1+json": {
       "config": {
        "plotlyServerURL": "https://plot.ly"
       },
       "data": [
        {
         "alignmentgroup": "True",
         "hovertemplate": "item=%{x}<br>count=%{y}<extra></extra>",
         "legendgroup": "",
         "marker": {
          "color": "#636efa",
          "pattern": {
           "shape": ""
          }
         },
         "name": "",
         "offsetgroup": "",
         "orientation": "v",
         "showlegend": false,
         "textposition": "auto",
         "type": "bar",
         "x": [
          "San Francisco, CA",
          "Boston, MA",
          "Houston, TX",
          "Stanford, CA",
          "Chicago, IL",
          "Marina del Rey, CA",
          "Portland, OR",
          "Los Angeles, CA",
          "Cincinnati, OH",
          "Lebanon, NH",
          "Pittsburgh, PA",
          "Baltimore, MD",
          "Durham, NC",
          "Philadelphia, PA",
          "Evanston, IL",
          "New York, NY",
          "Memphis, TN",
          "Indianapolis, IN",
          "Columbus, OH",
          "Seattle, WA",
          "Dallas, TX",
          "Hershey, PA",
          "New Haven, CT",
          "Phoenix, AZ",
          "Cleveland, OH",
          "Nashville, TN",
          "Atlanta, GA",
          "Birmingham, AL",
          "St. Louis, MO",
          "Aurora, CO",
          "Rochester, MN",
          "Ann Arbor, MI",
          "Iowa City, IA",
          "Salt Lake City, UT",
          "San Diego, CA",
          "Madison, WI",
          "Danville, PA",
          "Winston-Salem, NC",
          "Cleveland, Ohio"
         ],
         "xaxis": "x",
         "y": [
          12,
          22,
          20,
          9,
          16,
          6,
          18,
          21,
          12,
          12,
          7,
          16,
          3,
          13,
          8,
          28,
          10,
          8,
          8,
          6,
          8,
          9,
          12,
          6,
          16,
          9,
          11,
          14,
          7,
          7,
          6,
          3,
          5,
          5,
          7,
          11,
          5,
          4,
          5
         ],
         "yaxis": "y"
        }
       ],
       "layout": {
        "barmode": "relative",
        "legend": {
         "tracegroupgap": 0
        },
        "template": {
         "data": {
          "bar": [
           {
            "error_x": {
             "color": "#2a3f5f"
            },
            "error_y": {
             "color": "#2a3f5f"
            },
            "marker": {
             "line": {
              "color": "#E5ECF6",
              "width": 0.5
             },
             "pattern": {
              "fillmode": "overlay",
              "size": 10,
              "solidity": 0.2
             }
            },
            "type": "bar"
           }
          ],
          "barpolar": [
           {
            "marker": {
             "line": {
              "color": "#E5ECF6",
              "width": 0.5
             },
             "pattern": {
              "fillmode": "overlay",
              "size": 10,
              "solidity": 0.2
             }
            },
            "type": "barpolar"
           }
          ],
          "carpet": [
           {
            "aaxis": {
             "endlinecolor": "#2a3f5f",
             "gridcolor": "white",
             "linecolor": "white",
             "minorgridcolor": "white",
             "startlinecolor": "#2a3f5f"
            },
            "baxis": {
             "endlinecolor": "#2a3f5f",
             "gridcolor": "white",
             "linecolor": "white",
             "minorgridcolor": "white",
             "startlinecolor": "#2a3f5f"
            },
            "type": "carpet"
           }
          ],
          "choropleth": [
           {
            "colorbar": {
             "outlinewidth": 0,
             "ticks": ""
            },
            "type": "choropleth"
           }
          ],
          "contour": [
           {
            "colorbar": {
             "outlinewidth": 0,
             "ticks": ""
            },
            "colorscale": [
             [
              0,
              "#0d0887"
             ],
             [
              0.1111111111111111,
              "#46039f"
             ],
             [
              0.2222222222222222,
              "#7201a8"
             ],
             [
              0.3333333333333333,
              "#9c179e"
             ],
             [
              0.4444444444444444,
              "#bd3786"
             ],
             [
              0.5555555555555556,
              "#d8576b"
             ],
             [
              0.6666666666666666,
              "#ed7953"
             ],
             [
              0.7777777777777778,
              "#fb9f3a"
             ],
             [
              0.8888888888888888,
              "#fdca26"
             ],
             [
              1,
              "#f0f921"
             ]
            ],
            "type": "contour"
           }
          ],
          "contourcarpet": [
           {
            "colorbar": {
             "outlinewidth": 0,
             "ticks": ""
            },
            "type": "contourcarpet"
           }
          ],
          "heatmap": [
           {
            "colorbar": {
             "outlinewidth": 0,
             "ticks": ""
            },
            "colorscale": [
             [
              0,
              "#0d0887"
             ],
             [
              0.1111111111111111,
              "#46039f"
             ],
             [
              0.2222222222222222,
              "#7201a8"
             ],
             [
              0.3333333333333333,
              "#9c179e"
             ],
             [
              0.4444444444444444,
              "#bd3786"
             ],
             [
              0.5555555555555556,
              "#d8576b"
             ],
             [
              0.6666666666666666,
              "#ed7953"
             ],
             [
              0.7777777777777778,
              "#fb9f3a"
             ],
             [
              0.8888888888888888,
              "#fdca26"
             ],
             [
              1,
              "#f0f921"
             ]
            ],
            "type": "heatmap"
           }
          ],
          "heatmapgl": [
           {
            "colorbar": {
             "outlinewidth": 0,
             "ticks": ""
            },
            "colorscale": [
             [
              0,
              "#0d0887"
             ],
             [
              0.1111111111111111,
              "#46039f"
             ],
             [
              0.2222222222222222,
              "#7201a8"
             ],
             [
              0.3333333333333333,
              "#9c179e"
             ],
             [
              0.4444444444444444,
              "#bd3786"
             ],
             [
              0.5555555555555556,
              "#d8576b"
             ],
             [
              0.6666666666666666,
              "#ed7953"
             ],
             [
              0.7777777777777778,
              "#fb9f3a"
             ],
             [
              0.8888888888888888,
              "#fdca26"
             ],
             [
              1,
              "#f0f921"
             ]
            ],
            "type": "heatmapgl"
           }
          ],
          "histogram": [
           {
            "marker": {
             "pattern": {
              "fillmode": "overlay",
              "size": 10,
              "solidity": 0.2
             }
            },
            "type": "histogram"
           }
          ],
          "histogram2d": [
           {
            "colorbar": {
             "outlinewidth": 0,
             "ticks": ""
            },
            "colorscale": [
             [
              0,
              "#0d0887"
             ],
             [
              0.1111111111111111,
              "#46039f"
             ],
             [
              0.2222222222222222,
              "#7201a8"
             ],
             [
              0.3333333333333333,
              "#9c179e"
             ],
             [
              0.4444444444444444,
              "#bd3786"
             ],
             [
              0.5555555555555556,
              "#d8576b"
             ],
             [
              0.6666666666666666,
              "#ed7953"
             ],
             [
              0.7777777777777778,
              "#fb9f3a"
             ],
             [
              0.8888888888888888,
              "#fdca26"
             ],
             [
              1,
              "#f0f921"
             ]
            ],
            "type": "histogram2d"
           }
          ],
          "histogram2dcontour": [
           {
            "colorbar": {
             "outlinewidth": 0,
             "ticks": ""
            },
            "colorscale": [
             [
              0,
              "#0d0887"
             ],
             [
              0.1111111111111111,
              "#46039f"
             ],
             [
              0.2222222222222222,
              "#7201a8"
             ],
             [
              0.3333333333333333,
              "#9c179e"
             ],
             [
              0.4444444444444444,
              "#bd3786"
             ],
             [
              0.5555555555555556,
              "#d8576b"
             ],
             [
              0.6666666666666666,
              "#ed7953"
             ],
             [
              0.7777777777777778,
              "#fb9f3a"
             ],
             [
              0.8888888888888888,
              "#fdca26"
             ],
             [
              1,
              "#f0f921"
             ]
            ],
            "type": "histogram2dcontour"
           }
          ],
          "mesh3d": [
           {
            "colorbar": {
             "outlinewidth": 0,
             "ticks": ""
            },
            "type": "mesh3d"
           }
          ],
          "parcoords": [
           {
            "line": {
             "colorbar": {
              "outlinewidth": 0,
              "ticks": ""
             }
            },
            "type": "parcoords"
           }
          ],
          "pie": [
           {
            "automargin": true,
            "type": "pie"
           }
          ],
          "scatter": [
           {
            "fillpattern": {
             "fillmode": "overlay",
             "size": 10,
             "solidity": 0.2
            },
            "type": "scatter"
           }
          ],
          "scatter3d": [
           {
            "line": {
             "colorbar": {
              "outlinewidth": 0,
              "ticks": ""
             }
            },
            "marker": {
             "colorbar": {
              "outlinewidth": 0,
              "ticks": ""
             }
            },
            "type": "scatter3d"
           }
          ],
          "scattercarpet": [
           {
            "marker": {
             "colorbar": {
              "outlinewidth": 0,
              "ticks": ""
             }
            },
            "type": "scattercarpet"
           }
          ],
          "scattergeo": [
           {
            "marker": {
             "colorbar": {
              "outlinewidth": 0,
              "ticks": ""
             }
            },
            "type": "scattergeo"
           }
          ],
          "scattergl": [
           {
            "marker": {
             "colorbar": {
              "outlinewidth": 0,
              "ticks": ""
             }
            },
            "type": "scattergl"
           }
          ],
          "scattermapbox": [
           {
            "marker": {
             "colorbar": {
              "outlinewidth": 0,
              "ticks": ""
             }
            },
            "type": "scattermapbox"
           }
          ],
          "scatterpolar": [
           {
            "marker": {
             "colorbar": {
              "outlinewidth": 0,
              "ticks": ""
             }
            },
            "type": "scatterpolar"
           }
          ],
          "scatterpolargl": [
           {
            "marker": {
             "colorbar": {
              "outlinewidth": 0,
              "ticks": ""
             }
            },
            "type": "scatterpolargl"
           }
          ],
          "scatterternary": [
           {
            "marker": {
             "colorbar": {
              "outlinewidth": 0,
              "ticks": ""
             }
            },
            "type": "scatterternary"
           }
          ],
          "surface": [
           {
            "colorbar": {
             "outlinewidth": 0,
             "ticks": ""
            },
            "colorscale": [
             [
              0,
              "#0d0887"
             ],
             [
              0.1111111111111111,
              "#46039f"
             ],
             [
              0.2222222222222222,
              "#7201a8"
             ],
             [
              0.3333333333333333,
              "#9c179e"
             ],
             [
              0.4444444444444444,
              "#bd3786"
             ],
             [
              0.5555555555555556,
              "#d8576b"
             ],
             [
              0.6666666666666666,
              "#ed7953"
             ],
             [
              0.7777777777777778,
              "#fb9f3a"
             ],
             [
              0.8888888888888888,
              "#fdca26"
             ],
             [
              1,
              "#f0f921"
             ]
            ],
            "type": "surface"
           }
          ],
          "table": [
           {
            "cells": {
             "fill": {
              "color": "#EBF0F8"
             },
             "line": {
              "color": "white"
             }
            },
            "header": {
             "fill": {
              "color": "#C8D4E3"
             },
             "line": {
              "color": "white"
             }
            },
            "type": "table"
           }
          ]
         },
         "layout": {
          "annotationdefaults": {
           "arrowcolor": "#2a3f5f",
           "arrowhead": 0,
           "arrowwidth": 1
          },
          "autotypenumbers": "strict",
          "coloraxis": {
           "colorbar": {
            "outlinewidth": 0,
            "ticks": ""
           }
          },
          "colorscale": {
           "diverging": [
            [
             0,
             "#8e0152"
            ],
            [
             0.1,
             "#c51b7d"
            ],
            [
             0.2,
             "#de77ae"
            ],
            [
             0.3,
             "#f1b6da"
            ],
            [
             0.4,
             "#fde0ef"
            ],
            [
             0.5,
             "#f7f7f7"
            ],
            [
             0.6,
             "#e6f5d0"
            ],
            [
             0.7,
             "#b8e186"
            ],
            [
             0.8,
             "#7fbc41"
            ],
            [
             0.9,
             "#4d9221"
            ],
            [
             1,
             "#276419"
            ]
           ],
           "sequential": [
            [
             0,
             "#0d0887"
            ],
            [
             0.1111111111111111,
             "#46039f"
            ],
            [
             0.2222222222222222,
             "#7201a8"
            ],
            [
             0.3333333333333333,
             "#9c179e"
            ],
            [
             0.4444444444444444,
             "#bd3786"
            ],
            [
             0.5555555555555556,
             "#d8576b"
            ],
            [
             0.6666666666666666,
             "#ed7953"
            ],
            [
             0.7777777777777778,
             "#fb9f3a"
            ],
            [
             0.8888888888888888,
             "#fdca26"
            ],
            [
             1,
             "#f0f921"
            ]
           ],
           "sequentialminus": [
            [
             0,
             "#0d0887"
            ],
            [
             0.1111111111111111,
             "#46039f"
            ],
            [
             0.2222222222222222,
             "#7201a8"
            ],
            [
             0.3333333333333333,
             "#9c179e"
            ],
            [
             0.4444444444444444,
             "#bd3786"
            ],
            [
             0.5555555555555556,
             "#d8576b"
            ],
            [
             0.6666666666666666,
             "#ed7953"
            ],
            [
             0.7777777777777778,
             "#fb9f3a"
            ],
            [
             0.8888888888888888,
             "#fdca26"
            ],
            [
             1,
             "#f0f921"
            ]
           ]
          },
          "colorway": [
           "#636efa",
           "#EF553B",
           "#00cc96",
           "#ab63fa",
           "#FFA15A",
           "#19d3f3",
           "#FF6692",
           "#B6E880",
           "#FF97FF",
           "#FECB52"
          ],
          "font": {
           "color": "#2a3f5f"
          },
          "geo": {
           "bgcolor": "white",
           "lakecolor": "white",
           "landcolor": "#E5ECF6",
           "showlakes": true,
           "showland": true,
           "subunitcolor": "white"
          },
          "hoverlabel": {
           "align": "left"
          },
          "hovermode": "closest",
          "mapbox": {
           "style": "light"
          },
          "paper_bgcolor": "white",
          "plot_bgcolor": "#E5ECF6",
          "polar": {
           "angularaxis": {
            "gridcolor": "white",
            "linecolor": "white",
            "ticks": ""
           },
           "bgcolor": "#E5ECF6",
           "radialaxis": {
            "gridcolor": "white",
            "linecolor": "white",
            "ticks": ""
           }
          },
          "scene": {
           "xaxis": {
            "backgroundcolor": "#E5ECF6",
            "gridcolor": "white",
            "gridwidth": 2,
            "linecolor": "white",
            "showbackground": true,
            "ticks": "",
            "zerolinecolor": "white"
           },
           "yaxis": {
            "backgroundcolor": "#E5ECF6",
            "gridcolor": "white",
            "gridwidth": 2,
            "linecolor": "white",
            "showbackground": true,
            "ticks": "",
            "zerolinecolor": "white"
           },
           "zaxis": {
            "backgroundcolor": "#E5ECF6",
            "gridcolor": "white",
            "gridwidth": 2,
            "linecolor": "white",
            "showbackground": true,
            "ticks": "",
            "zerolinecolor": "white"
           }
          },
          "shapedefaults": {
           "line": {
            "color": "#2a3f5f"
           }
          },
          "ternary": {
           "aaxis": {
            "gridcolor": "white",
            "linecolor": "white",
            "ticks": ""
           },
           "baxis": {
            "gridcolor": "white",
            "linecolor": "white",
            "ticks": ""
           },
           "bgcolor": "#E5ECF6",
           "caxis": {
            "gridcolor": "white",
            "linecolor": "white",
            "ticks": ""
           }
          },
          "title": {
           "x": 0.05
          },
          "xaxis": {
           "automargin": true,
           "gridcolor": "white",
           "linecolor": "white",
           "ticks": "",
           "title": {
            "standoff": 15
           },
           "zerolinecolor": "white",
           "zerolinewidth": 2
          },
          "yaxis": {
           "automargin": true,
           "gridcolor": "white",
           "linecolor": "white",
           "ticks": "",
           "title": {
            "standoff": 15
           },
           "zerolinecolor": "white",
           "zerolinewidth": 2
          }
         }
        },
        "title": {
         "text": "Bar Chart of facility_location"
        },
        "xaxis": {
         "anchor": "y",
         "domain": [
          0,
          1
         ],
         "title": {
          "text": "item"
         }
        },
        "yaxis": {
         "anchor": "x",
         "domain": [
          0,
          1
         ],
         "title": {
          "text": "count"
         }
        }
       }
      },
      "text/html": [
       "<div>                            <div id=\"1f9c98f7-b3e6-49f3-8671-61feddb54c14\" class=\"plotly-graph-div\" style=\"height:525px; width:100%;\"></div>            <script type=\"text/javascript\">                require([\"plotly\"], function(Plotly) {                    window.PLOTLYENV=window.PLOTLYENV || {};                                    if (document.getElementById(\"1f9c98f7-b3e6-49f3-8671-61feddb54c14\")) {                    Plotly.newPlot(                        \"1f9c98f7-b3e6-49f3-8671-61feddb54c14\",                        [{\"alignmentgroup\":\"True\",\"hovertemplate\":\"item=%{x}<br>count=%{y}<extra></extra>\",\"legendgroup\":\"\",\"marker\":{\"color\":\"#636efa\",\"pattern\":{\"shape\":\"\"}},\"name\":\"\",\"offsetgroup\":\"\",\"orientation\":\"v\",\"showlegend\":false,\"textposition\":\"auto\",\"x\":[\"San Francisco, CA\",\"Boston, MA\",\"Houston, TX\",\"Stanford, CA\",\"Chicago, IL\",\"Marina del Rey, CA\",\"Portland, OR\",\"Los Angeles, CA\",\"Cincinnati, OH\",\"Lebanon, NH\",\"Pittsburgh, PA\",\"Baltimore, MD\",\"Durham, NC\",\"Philadelphia, PA\",\"Evanston, IL\",\"New York, NY\",\"Memphis, TN\",\"Indianapolis, IN\",\"Columbus, OH\",\"Seattle, WA\",\"Dallas, TX\",\"Hershey, PA\",\"New Haven, CT\",\"Phoenix, AZ\",\"Cleveland, OH\",\"Nashville, TN\",\"Atlanta, GA\",\"Birmingham, AL\",\"St. Louis, MO\",\"Aurora, CO\",\"Rochester, MN\",\"Ann Arbor, MI\",\"Iowa City, IA\",\"Salt Lake City, UT\",\"San Diego, CA\",\"Madison, WI\",\"Danville, PA\",\"Winston-Salem, NC\",\"Cleveland, Ohio\"],\"xaxis\":\"x\",\"y\":[12,22,20,9,16,6,18,21,12,12,7,16,3,13,8,28,10,8,8,6,8,9,12,6,16,9,11,14,7,7,6,3,5,5,7,11,5,4,5],\"yaxis\":\"y\",\"type\":\"bar\"}],                        {\"template\":{\"data\":{\"histogram2dcontour\":[{\"type\":\"histogram2dcontour\",\"colorbar\":{\"outlinewidth\":0,\"ticks\":\"\"},\"colorscale\":[[0.0,\"#0d0887\"],[0.1111111111111111,\"#46039f\"],[0.2222222222222222,\"#7201a8\"],[0.3333333333333333,\"#9c179e\"],[0.4444444444444444,\"#bd3786\"],[0.5555555555555556,\"#d8576b\"],[0.6666666666666666,\"#ed7953\"],[0.7777777777777778,\"#fb9f3a\"],[0.8888888888888888,\"#fdca26\"],[1.0,\"#f0f921\"]]}],\"choropleth\":[{\"type\":\"choropleth\",\"colorbar\":{\"outlinewidth\":0,\"ticks\":\"\"}}],\"histogram2d\":[{\"type\":\"histogram2d\",\"colorbar\":{\"outlinewidth\":0,\"ticks\":\"\"},\"colorscale\":[[0.0,\"#0d0887\"],[0.1111111111111111,\"#46039f\"],[0.2222222222222222,\"#7201a8\"],[0.3333333333333333,\"#9c179e\"],[0.4444444444444444,\"#bd3786\"],[0.5555555555555556,\"#d8576b\"],[0.6666666666666666,\"#ed7953\"],[0.7777777777777778,\"#fb9f3a\"],[0.8888888888888888,\"#fdca26\"],[1.0,\"#f0f921\"]]}],\"heatmap\":[{\"type\":\"heatmap\",\"colorbar\":{\"outlinewidth\":0,\"ticks\":\"\"},\"colorscale\":[[0.0,\"#0d0887\"],[0.1111111111111111,\"#46039f\"],[0.2222222222222222,\"#7201a8\"],[0.3333333333333333,\"#9c179e\"],[0.4444444444444444,\"#bd3786\"],[0.5555555555555556,\"#d8576b\"],[0.6666666666666666,\"#ed7953\"],[0.7777777777777778,\"#fb9f3a\"],[0.8888888888888888,\"#fdca26\"],[1.0,\"#f0f921\"]]}],\"heatmapgl\":[{\"type\":\"heatmapgl\",\"colorbar\":{\"outlinewidth\":0,\"ticks\":\"\"},\"colorscale\":[[0.0,\"#0d0887\"],[0.1111111111111111,\"#46039f\"],[0.2222222222222222,\"#7201a8\"],[0.3333333333333333,\"#9c179e\"],[0.4444444444444444,\"#bd3786\"],[0.5555555555555556,\"#d8576b\"],[0.6666666666666666,\"#ed7953\"],[0.7777777777777778,\"#fb9f3a\"],[0.8888888888888888,\"#fdca26\"],[1.0,\"#f0f921\"]]}],\"contourcarpet\":[{\"type\":\"contourcarpet\",\"colorbar\":{\"outlinewidth\":0,\"ticks\":\"\"}}],\"contour\":[{\"type\":\"contour\",\"colorbar\":{\"outlinewidth\":0,\"ticks\":\"\"},\"colorscale\":[[0.0,\"#0d0887\"],[0.1111111111111111,\"#46039f\"],[0.2222222222222222,\"#7201a8\"],[0.3333333333333333,\"#9c179e\"],[0.4444444444444444,\"#bd3786\"],[0.5555555555555556,\"#d8576b\"],[0.6666666666666666,\"#ed7953\"],[0.7777777777777778,\"#fb9f3a\"],[0.8888888888888888,\"#fdca26\"],[1.0,\"#f0f921\"]]}],\"surface\":[{\"type\":\"surface\",\"colorbar\":{\"outlinewidth\":0,\"ticks\":\"\"},\"colorscale\":[[0.0,\"#0d0887\"],[0.1111111111111111,\"#46039f\"],[0.2222222222222222,\"#7201a8\"],[0.3333333333333333,\"#9c179e\"],[0.4444444444444444,\"#bd3786\"],[0.5555555555555556,\"#d8576b\"],[0.6666666666666666,\"#ed7953\"],[0.7777777777777778,\"#fb9f3a\"],[0.8888888888888888,\"#fdca26\"],[1.0,\"#f0f921\"]]}],\"mesh3d\":[{\"type\":\"mesh3d\",\"colorbar\":{\"outlinewidth\":0,\"ticks\":\"\"}}],\"scatter\":[{\"fillpattern\":{\"fillmode\":\"overlay\",\"size\":10,\"solidity\":0.2},\"type\":\"scatter\"}],\"parcoords\":[{\"type\":\"parcoords\",\"line\":{\"colorbar\":{\"outlinewidth\":0,\"ticks\":\"\"}}}],\"scatterpolargl\":[{\"type\":\"scatterpolargl\",\"marker\":{\"colorbar\":{\"outlinewidth\":0,\"ticks\":\"\"}}}],\"bar\":[{\"error_x\":{\"color\":\"#2a3f5f\"},\"error_y\":{\"color\":\"#2a3f5f\"},\"marker\":{\"line\":{\"color\":\"#E5ECF6\",\"width\":0.5},\"pattern\":{\"fillmode\":\"overlay\",\"size\":10,\"solidity\":0.2}},\"type\":\"bar\"}],\"scattergeo\":[{\"type\":\"scattergeo\",\"marker\":{\"colorbar\":{\"outlinewidth\":0,\"ticks\":\"\"}}}],\"scatterpolar\":[{\"type\":\"scatterpolar\",\"marker\":{\"colorbar\":{\"outlinewidth\":0,\"ticks\":\"\"}}}],\"histogram\":[{\"marker\":{\"pattern\":{\"fillmode\":\"overlay\",\"size\":10,\"solidity\":0.2}},\"type\":\"histogram\"}],\"scattergl\":[{\"type\":\"scattergl\",\"marker\":{\"colorbar\":{\"outlinewidth\":0,\"ticks\":\"\"}}}],\"scatter3d\":[{\"type\":\"scatter3d\",\"line\":{\"colorbar\":{\"outlinewidth\":0,\"ticks\":\"\"}},\"marker\":{\"colorbar\":{\"outlinewidth\":0,\"ticks\":\"\"}}}],\"scattermapbox\":[{\"type\":\"scattermapbox\",\"marker\":{\"colorbar\":{\"outlinewidth\":0,\"ticks\":\"\"}}}],\"scatterternary\":[{\"type\":\"scatterternary\",\"marker\":{\"colorbar\":{\"outlinewidth\":0,\"ticks\":\"\"}}}],\"scattercarpet\":[{\"type\":\"scattercarpet\",\"marker\":{\"colorbar\":{\"outlinewidth\":0,\"ticks\":\"\"}}}],\"carpet\":[{\"aaxis\":{\"endlinecolor\":\"#2a3f5f\",\"gridcolor\":\"white\",\"linecolor\":\"white\",\"minorgridcolor\":\"white\",\"startlinecolor\":\"#2a3f5f\"},\"baxis\":{\"endlinecolor\":\"#2a3f5f\",\"gridcolor\":\"white\",\"linecolor\":\"white\",\"minorgridcolor\":\"white\",\"startlinecolor\":\"#2a3f5f\"},\"type\":\"carpet\"}],\"table\":[{\"cells\":{\"fill\":{\"color\":\"#EBF0F8\"},\"line\":{\"color\":\"white\"}},\"header\":{\"fill\":{\"color\":\"#C8D4E3\"},\"line\":{\"color\":\"white\"}},\"type\":\"table\"}],\"barpolar\":[{\"marker\":{\"line\":{\"color\":\"#E5ECF6\",\"width\":0.5},\"pattern\":{\"fillmode\":\"overlay\",\"size\":10,\"solidity\":0.2}},\"type\":\"barpolar\"}],\"pie\":[{\"automargin\":true,\"type\":\"pie\"}]},\"layout\":{\"autotypenumbers\":\"strict\",\"colorway\":[\"#636efa\",\"#EF553B\",\"#00cc96\",\"#ab63fa\",\"#FFA15A\",\"#19d3f3\",\"#FF6692\",\"#B6E880\",\"#FF97FF\",\"#FECB52\"],\"font\":{\"color\":\"#2a3f5f\"},\"hovermode\":\"closest\",\"hoverlabel\":{\"align\":\"left\"},\"paper_bgcolor\":\"white\",\"plot_bgcolor\":\"#E5ECF6\",\"polar\":{\"bgcolor\":\"#E5ECF6\",\"angularaxis\":{\"gridcolor\":\"white\",\"linecolor\":\"white\",\"ticks\":\"\"},\"radialaxis\":{\"gridcolor\":\"white\",\"linecolor\":\"white\",\"ticks\":\"\"}},\"ternary\":{\"bgcolor\":\"#E5ECF6\",\"aaxis\":{\"gridcolor\":\"white\",\"linecolor\":\"white\",\"ticks\":\"\"},\"baxis\":{\"gridcolor\":\"white\",\"linecolor\":\"white\",\"ticks\":\"\"},\"caxis\":{\"gridcolor\":\"white\",\"linecolor\":\"white\",\"ticks\":\"\"}},\"coloraxis\":{\"colorbar\":{\"outlinewidth\":0,\"ticks\":\"\"}},\"colorscale\":{\"sequential\":[[0.0,\"#0d0887\"],[0.1111111111111111,\"#46039f\"],[0.2222222222222222,\"#7201a8\"],[0.3333333333333333,\"#9c179e\"],[0.4444444444444444,\"#bd3786\"],[0.5555555555555556,\"#d8576b\"],[0.6666666666666666,\"#ed7953\"],[0.7777777777777778,\"#fb9f3a\"],[0.8888888888888888,\"#fdca26\"],[1.0,\"#f0f921\"]],\"sequentialminus\":[[0.0,\"#0d0887\"],[0.1111111111111111,\"#46039f\"],[0.2222222222222222,\"#7201a8\"],[0.3333333333333333,\"#9c179e\"],[0.4444444444444444,\"#bd3786\"],[0.5555555555555556,\"#d8576b\"],[0.6666666666666666,\"#ed7953\"],[0.7777777777777778,\"#fb9f3a\"],[0.8888888888888888,\"#fdca26\"],[1.0,\"#f0f921\"]],\"diverging\":[[0,\"#8e0152\"],[0.1,\"#c51b7d\"],[0.2,\"#de77ae\"],[0.3,\"#f1b6da\"],[0.4,\"#fde0ef\"],[0.5,\"#f7f7f7\"],[0.6,\"#e6f5d0\"],[0.7,\"#b8e186\"],[0.8,\"#7fbc41\"],[0.9,\"#4d9221\"],[1,\"#276419\"]]},\"xaxis\":{\"gridcolor\":\"white\",\"linecolor\":\"white\",\"ticks\":\"\",\"title\":{\"standoff\":15},\"zerolinecolor\":\"white\",\"automargin\":true,\"zerolinewidth\":2},\"yaxis\":{\"gridcolor\":\"white\",\"linecolor\":\"white\",\"ticks\":\"\",\"title\":{\"standoff\":15},\"zerolinecolor\":\"white\",\"automargin\":true,\"zerolinewidth\":2},\"scene\":{\"xaxis\":{\"backgroundcolor\":\"#E5ECF6\",\"gridcolor\":\"white\",\"linecolor\":\"white\",\"showbackground\":true,\"ticks\":\"\",\"zerolinecolor\":\"white\",\"gridwidth\":2},\"yaxis\":{\"backgroundcolor\":\"#E5ECF6\",\"gridcolor\":\"white\",\"linecolor\":\"white\",\"showbackground\":true,\"ticks\":\"\",\"zerolinecolor\":\"white\",\"gridwidth\":2},\"zaxis\":{\"backgroundcolor\":\"#E5ECF6\",\"gridcolor\":\"white\",\"linecolor\":\"white\",\"showbackground\":true,\"ticks\":\"\",\"zerolinecolor\":\"white\",\"gridwidth\":2}},\"shapedefaults\":{\"line\":{\"color\":\"#2a3f5f\"}},\"annotationdefaults\":{\"arrowcolor\":\"#2a3f5f\",\"arrowhead\":0,\"arrowwidth\":1},\"geo\":{\"bgcolor\":\"white\",\"landcolor\":\"#E5ECF6\",\"subunitcolor\":\"white\",\"showland\":true,\"showlakes\":true,\"lakecolor\":\"white\"},\"title\":{\"x\":0.05},\"mapbox\":{\"style\":\"light\"}}},\"xaxis\":{\"anchor\":\"y\",\"domain\":[0.0,1.0],\"title\":{\"text\":\"item\"}},\"yaxis\":{\"anchor\":\"x\",\"domain\":[0.0,1.0],\"title\":{\"text\":\"count\"}},\"legend\":{\"tracegroupgap\":0},\"title\":{\"text\":\"Bar Chart of facility_location\"},\"barmode\":\"relative\"},                        {\"responsive\": true}                    ).then(function(){\n",
       "                            \n",
       "var gd = document.getElementById('1f9c98f7-b3e6-49f3-8671-61feddb54c14');\n",
       "var x = new MutationObserver(function (mutations, observer) {{\n",
       "        var display = window.getComputedStyle(gd).display;\n",
       "        if (!display || display === 'none') {{\n",
       "            console.log([gd, 'removed!']);\n",
       "            Plotly.purge(gd);\n",
       "            observer.disconnect();\n",
       "        }}\n",
       "}});\n",
       "\n",
       "// Listen for the removal of the full notebook cells\n",
       "var notebookContainer = gd.closest('#notebook-container');\n",
       "if (notebookContainer) {{\n",
       "    x.observe(notebookContainer, {childList: true});\n",
       "}}\n",
       "\n",
       "// Listen for the clearing of the current output cell\n",
       "var outputEl = gd.closest('.output');\n",
       "if (outputEl) {{\n",
       "    x.observe(outputEl, {childList: true});\n",
       "}}\n",
       "\n",
       "                        })                };                });            </script>        </div>"
      ]
     },
     "metadata": {},
     "output_type": "display_data"
    }
   ],
   "source": [
    "\n",
    "data_counter = Counter(df['facility_location'])\n",
    "data_dict = {'item': list(data_counter.keys()), 'count': list(data_counter.values())}\n",
    "fig = px.bar(data_dict, x='item', y='count', title='Bar Chart of facility_location')\n",
    "fig.show()\n",
    "\n",
    "\n",
    "\n",
    "\n"
   ]
  },
  {
   "cell_type": "code",
   "execution_count": 24,
   "id": "a98de1ae",
   "metadata": {},
   "outputs": [
    {
     "data": {
      "application/vnd.plotly.v1+json": {
       "config": {
        "plotlyServerURL": "https://plot.ly"
       },
       "data": [
        {
         "alignmentgroup": "True",
         "hovertemplate": "item=%{x}<br>count=%{y}<extra></extra>",
         "legendgroup": "",
         "marker": {
          "color": "#636efa",
          "pattern": {
           "shape": ""
          }
         },
         "name": "",
         "offsetgroup": "",
         "orientation": "v",
         "showlegend": false,
         "textposition": "auto",
         "type": "bar",
         "x": [
          "San Francisco, CA",
          "Boston, MA",
          "Houston, TX",
          "Stanford, CA",
          "Chicago, IL",
          "Marina del Rey, CA",
          "Portland, OR",
          "Los Angeles, CA",
          "Cincinnati, OH",
          "Lebanon, NH",
          "Pittsburgh, PA",
          "Baltimore, MD",
          "Durham, NC",
          "Philadelphia, PA",
          "Evanston, IL",
          "New York, NY",
          "Memphis, TN",
          "Indianapolis, IN",
          "Columbus, OH",
          "Seattle, WA",
          "Dallas, TX",
          "Hershey, PA",
          "New Haven, CT",
          "Phoenix, AZ",
          "Cleveland, OH",
          "Nashville, TN",
          "Atlanta, GA",
          "Birmingham, AL",
          "St. Louis, MO",
          "Aurora, CO",
          "Rochester, MN",
          "Ann Arbor, MI",
          "Iowa City, IA",
          "Salt Lake City, UT",
          "San Diego, CA",
          "Madison, WI",
          "Danville, PA",
          "Winston-Salem, NC",
          "Cleveland, Ohio"
         ],
         "xaxis": "x",
         "y": [
          12,
          22,
          20,
          9,
          16,
          6,
          18,
          21,
          12,
          12,
          7,
          16,
          3,
          13,
          8,
          28,
          10,
          8,
          8,
          6,
          8,
          9,
          12,
          6,
          16,
          9,
          11,
          14,
          7,
          7,
          6,
          3,
          5,
          5,
          7,
          11,
          5,
          4,
          5
         ],
         "yaxis": "y"
        }
       ],
       "layout": {
        "barmode": "relative",
        "legend": {
         "tracegroupgap": 0
        },
        "template": {
         "data": {
          "bar": [
           {
            "error_x": {
             "color": "#2a3f5f"
            },
            "error_y": {
             "color": "#2a3f5f"
            },
            "marker": {
             "line": {
              "color": "#E5ECF6",
              "width": 0.5
             },
             "pattern": {
              "fillmode": "overlay",
              "size": 10,
              "solidity": 0.2
             }
            },
            "type": "bar"
           }
          ],
          "barpolar": [
           {
            "marker": {
             "line": {
              "color": "#E5ECF6",
              "width": 0.5
             },
             "pattern": {
              "fillmode": "overlay",
              "size": 10,
              "solidity": 0.2
             }
            },
            "type": "barpolar"
           }
          ],
          "carpet": [
           {
            "aaxis": {
             "endlinecolor": "#2a3f5f",
             "gridcolor": "white",
             "linecolor": "white",
             "minorgridcolor": "white",
             "startlinecolor": "#2a3f5f"
            },
            "baxis": {
             "endlinecolor": "#2a3f5f",
             "gridcolor": "white",
             "linecolor": "white",
             "minorgridcolor": "white",
             "startlinecolor": "#2a3f5f"
            },
            "type": "carpet"
           }
          ],
          "choropleth": [
           {
            "colorbar": {
             "outlinewidth": 0,
             "ticks": ""
            },
            "type": "choropleth"
           }
          ],
          "contour": [
           {
            "colorbar": {
             "outlinewidth": 0,
             "ticks": ""
            },
            "colorscale": [
             [
              0,
              "#0d0887"
             ],
             [
              0.1111111111111111,
              "#46039f"
             ],
             [
              0.2222222222222222,
              "#7201a8"
             ],
             [
              0.3333333333333333,
              "#9c179e"
             ],
             [
              0.4444444444444444,
              "#bd3786"
             ],
             [
              0.5555555555555556,
              "#d8576b"
             ],
             [
              0.6666666666666666,
              "#ed7953"
             ],
             [
              0.7777777777777778,
              "#fb9f3a"
             ],
             [
              0.8888888888888888,
              "#fdca26"
             ],
             [
              1,
              "#f0f921"
             ]
            ],
            "type": "contour"
           }
          ],
          "contourcarpet": [
           {
            "colorbar": {
             "outlinewidth": 0,
             "ticks": ""
            },
            "type": "contourcarpet"
           }
          ],
          "heatmap": [
           {
            "colorbar": {
             "outlinewidth": 0,
             "ticks": ""
            },
            "colorscale": [
             [
              0,
              "#0d0887"
             ],
             [
              0.1111111111111111,
              "#46039f"
             ],
             [
              0.2222222222222222,
              "#7201a8"
             ],
             [
              0.3333333333333333,
              "#9c179e"
             ],
             [
              0.4444444444444444,
              "#bd3786"
             ],
             [
              0.5555555555555556,
              "#d8576b"
             ],
             [
              0.6666666666666666,
              "#ed7953"
             ],
             [
              0.7777777777777778,
              "#fb9f3a"
             ],
             [
              0.8888888888888888,
              "#fdca26"
             ],
             [
              1,
              "#f0f921"
             ]
            ],
            "type": "heatmap"
           }
          ],
          "heatmapgl": [
           {
            "colorbar": {
             "outlinewidth": 0,
             "ticks": ""
            },
            "colorscale": [
             [
              0,
              "#0d0887"
             ],
             [
              0.1111111111111111,
              "#46039f"
             ],
             [
              0.2222222222222222,
              "#7201a8"
             ],
             [
              0.3333333333333333,
              "#9c179e"
             ],
             [
              0.4444444444444444,
              "#bd3786"
             ],
             [
              0.5555555555555556,
              "#d8576b"
             ],
             [
              0.6666666666666666,
              "#ed7953"
             ],
             [
              0.7777777777777778,
              "#fb9f3a"
             ],
             [
              0.8888888888888888,
              "#fdca26"
             ],
             [
              1,
              "#f0f921"
             ]
            ],
            "type": "heatmapgl"
           }
          ],
          "histogram": [
           {
            "marker": {
             "pattern": {
              "fillmode": "overlay",
              "size": 10,
              "solidity": 0.2
             }
            },
            "type": "histogram"
           }
          ],
          "histogram2d": [
           {
            "colorbar": {
             "outlinewidth": 0,
             "ticks": ""
            },
            "colorscale": [
             [
              0,
              "#0d0887"
             ],
             [
              0.1111111111111111,
              "#46039f"
             ],
             [
              0.2222222222222222,
              "#7201a8"
             ],
             [
              0.3333333333333333,
              "#9c179e"
             ],
             [
              0.4444444444444444,
              "#bd3786"
             ],
             [
              0.5555555555555556,
              "#d8576b"
             ],
             [
              0.6666666666666666,
              "#ed7953"
             ],
             [
              0.7777777777777778,
              "#fb9f3a"
             ],
             [
              0.8888888888888888,
              "#fdca26"
             ],
             [
              1,
              "#f0f921"
             ]
            ],
            "type": "histogram2d"
           }
          ],
          "histogram2dcontour": [
           {
            "colorbar": {
             "outlinewidth": 0,
             "ticks": ""
            },
            "colorscale": [
             [
              0,
              "#0d0887"
             ],
             [
              0.1111111111111111,
              "#46039f"
             ],
             [
              0.2222222222222222,
              "#7201a8"
             ],
             [
              0.3333333333333333,
              "#9c179e"
             ],
             [
              0.4444444444444444,
              "#bd3786"
             ],
             [
              0.5555555555555556,
              "#d8576b"
             ],
             [
              0.6666666666666666,
              "#ed7953"
             ],
             [
              0.7777777777777778,
              "#fb9f3a"
             ],
             [
              0.8888888888888888,
              "#fdca26"
             ],
             [
              1,
              "#f0f921"
             ]
            ],
            "type": "histogram2dcontour"
           }
          ],
          "mesh3d": [
           {
            "colorbar": {
             "outlinewidth": 0,
             "ticks": ""
            },
            "type": "mesh3d"
           }
          ],
          "parcoords": [
           {
            "line": {
             "colorbar": {
              "outlinewidth": 0,
              "ticks": ""
             }
            },
            "type": "parcoords"
           }
          ],
          "pie": [
           {
            "automargin": true,
            "type": "pie"
           }
          ],
          "scatter": [
           {
            "fillpattern": {
             "fillmode": "overlay",
             "size": 10,
             "solidity": 0.2
            },
            "type": "scatter"
           }
          ],
          "scatter3d": [
           {
            "line": {
             "colorbar": {
              "outlinewidth": 0,
              "ticks": ""
             }
            },
            "marker": {
             "colorbar": {
              "outlinewidth": 0,
              "ticks": ""
             }
            },
            "type": "scatter3d"
           }
          ],
          "scattercarpet": [
           {
            "marker": {
             "colorbar": {
              "outlinewidth": 0,
              "ticks": ""
             }
            },
            "type": "scattercarpet"
           }
          ],
          "scattergeo": [
           {
            "marker": {
             "colorbar": {
              "outlinewidth": 0,
              "ticks": ""
             }
            },
            "type": "scattergeo"
           }
          ],
          "scattergl": [
           {
            "marker": {
             "colorbar": {
              "outlinewidth": 0,
              "ticks": ""
             }
            },
            "type": "scattergl"
           }
          ],
          "scattermapbox": [
           {
            "marker": {
             "colorbar": {
              "outlinewidth": 0,
              "ticks": ""
             }
            },
            "type": "scattermapbox"
           }
          ],
          "scatterpolar": [
           {
            "marker": {
             "colorbar": {
              "outlinewidth": 0,
              "ticks": ""
             }
            },
            "type": "scatterpolar"
           }
          ],
          "scatterpolargl": [
           {
            "marker": {
             "colorbar": {
              "outlinewidth": 0,
              "ticks": ""
             }
            },
            "type": "scatterpolargl"
           }
          ],
          "scatterternary": [
           {
            "marker": {
             "colorbar": {
              "outlinewidth": 0,
              "ticks": ""
             }
            },
            "type": "scatterternary"
           }
          ],
          "surface": [
           {
            "colorbar": {
             "outlinewidth": 0,
             "ticks": ""
            },
            "colorscale": [
             [
              0,
              "#0d0887"
             ],
             [
              0.1111111111111111,
              "#46039f"
             ],
             [
              0.2222222222222222,
              "#7201a8"
             ],
             [
              0.3333333333333333,
              "#9c179e"
             ],
             [
              0.4444444444444444,
              "#bd3786"
             ],
             [
              0.5555555555555556,
              "#d8576b"
             ],
             [
              0.6666666666666666,
              "#ed7953"
             ],
             [
              0.7777777777777778,
              "#fb9f3a"
             ],
             [
              0.8888888888888888,
              "#fdca26"
             ],
             [
              1,
              "#f0f921"
             ]
            ],
            "type": "surface"
           }
          ],
          "table": [
           {
            "cells": {
             "fill": {
              "color": "#EBF0F8"
             },
             "line": {
              "color": "white"
             }
            },
            "header": {
             "fill": {
              "color": "#C8D4E3"
             },
             "line": {
              "color": "white"
             }
            },
            "type": "table"
           }
          ]
         },
         "layout": {
          "annotationdefaults": {
           "arrowcolor": "#2a3f5f",
           "arrowhead": 0,
           "arrowwidth": 1
          },
          "autotypenumbers": "strict",
          "coloraxis": {
           "colorbar": {
            "outlinewidth": 0,
            "ticks": ""
           }
          },
          "colorscale": {
           "diverging": [
            [
             0,
             "#8e0152"
            ],
            [
             0.1,
             "#c51b7d"
            ],
            [
             0.2,
             "#de77ae"
            ],
            [
             0.3,
             "#f1b6da"
            ],
            [
             0.4,
             "#fde0ef"
            ],
            [
             0.5,
             "#f7f7f7"
            ],
            [
             0.6,
             "#e6f5d0"
            ],
            [
             0.7,
             "#b8e186"
            ],
            [
             0.8,
             "#7fbc41"
            ],
            [
             0.9,
             "#4d9221"
            ],
            [
             1,
             "#276419"
            ]
           ],
           "sequential": [
            [
             0,
             "#0d0887"
            ],
            [
             0.1111111111111111,
             "#46039f"
            ],
            [
             0.2222222222222222,
             "#7201a8"
            ],
            [
             0.3333333333333333,
             "#9c179e"
            ],
            [
             0.4444444444444444,
             "#bd3786"
            ],
            [
             0.5555555555555556,
             "#d8576b"
            ],
            [
             0.6666666666666666,
             "#ed7953"
            ],
            [
             0.7777777777777778,
             "#fb9f3a"
            ],
            [
             0.8888888888888888,
             "#fdca26"
            ],
            [
             1,
             "#f0f921"
            ]
           ],
           "sequentialminus": [
            [
             0,
             "#0d0887"
            ],
            [
             0.1111111111111111,
             "#46039f"
            ],
            [
             0.2222222222222222,
             "#7201a8"
            ],
            [
             0.3333333333333333,
             "#9c179e"
            ],
            [
             0.4444444444444444,
             "#bd3786"
            ],
            [
             0.5555555555555556,
             "#d8576b"
            ],
            [
             0.6666666666666666,
             "#ed7953"
            ],
            [
             0.7777777777777778,
             "#fb9f3a"
            ],
            [
             0.8888888888888888,
             "#fdca26"
            ],
            [
             1,
             "#f0f921"
            ]
           ]
          },
          "colorway": [
           "#636efa",
           "#EF553B",
           "#00cc96",
           "#ab63fa",
           "#FFA15A",
           "#19d3f3",
           "#FF6692",
           "#B6E880",
           "#FF97FF",
           "#FECB52"
          ],
          "font": {
           "color": "#2a3f5f"
          },
          "geo": {
           "bgcolor": "white",
           "lakecolor": "white",
           "landcolor": "#E5ECF6",
           "showlakes": true,
           "showland": true,
           "subunitcolor": "white"
          },
          "hoverlabel": {
           "align": "left"
          },
          "hovermode": "closest",
          "mapbox": {
           "style": "light"
          },
          "paper_bgcolor": "white",
          "plot_bgcolor": "#E5ECF6",
          "polar": {
           "angularaxis": {
            "gridcolor": "white",
            "linecolor": "white",
            "ticks": ""
           },
           "bgcolor": "#E5ECF6",
           "radialaxis": {
            "gridcolor": "white",
            "linecolor": "white",
            "ticks": ""
           }
          },
          "scene": {
           "xaxis": {
            "backgroundcolor": "#E5ECF6",
            "gridcolor": "white",
            "gridwidth": 2,
            "linecolor": "white",
            "showbackground": true,
            "ticks": "",
            "zerolinecolor": "white"
           },
           "yaxis": {
            "backgroundcolor": "#E5ECF6",
            "gridcolor": "white",
            "gridwidth": 2,
            "linecolor": "white",
            "showbackground": true,
            "ticks": "",
            "zerolinecolor": "white"
           },
           "zaxis": {
            "backgroundcolor": "#E5ECF6",
            "gridcolor": "white",
            "gridwidth": 2,
            "linecolor": "white",
            "showbackground": true,
            "ticks": "",
            "zerolinecolor": "white"
           }
          },
          "shapedefaults": {
           "line": {
            "color": "#2a3f5f"
           }
          },
          "ternary": {
           "aaxis": {
            "gridcolor": "white",
            "linecolor": "white",
            "ticks": ""
           },
           "baxis": {
            "gridcolor": "white",
            "linecolor": "white",
            "ticks": ""
           },
           "bgcolor": "#E5ECF6",
           "caxis": {
            "gridcolor": "white",
            "linecolor": "white",
            "ticks": ""
           }
          },
          "title": {
           "x": 0.05
          },
          "xaxis": {
           "automargin": true,
           "gridcolor": "white",
           "linecolor": "white",
           "ticks": "",
           "title": {
            "standoff": 15
           },
           "zerolinecolor": "white",
           "zerolinewidth": 2
          },
          "yaxis": {
           "automargin": true,
           "gridcolor": "white",
           "linecolor": "white",
           "ticks": "",
           "title": {
            "standoff": 15
           },
           "zerolinecolor": "white",
           "zerolinewidth": 2
          }
         }
        },
        "title": {
         "text": "Bar Chart of facility_location"
        },
        "xaxis": {
         "anchor": "y",
         "domain": [
          0,
          1
         ],
         "title": {
          "text": "item"
         }
        },
        "yaxis": {
         "anchor": "x",
         "domain": [
          0,
          1
         ],
         "title": {
          "text": "count"
         }
        }
       }
      },
      "text/html": [
       "<div>                            <div id=\"8c7db9da-9a06-43c5-8fb1-fbed0c85e347\" class=\"plotly-graph-div\" style=\"height:525px; width:100%;\"></div>            <script type=\"text/javascript\">                require([\"plotly\"], function(Plotly) {                    window.PLOTLYENV=window.PLOTLYENV || {};                                    if (document.getElementById(\"8c7db9da-9a06-43c5-8fb1-fbed0c85e347\")) {                    Plotly.newPlot(                        \"8c7db9da-9a06-43c5-8fb1-fbed0c85e347\",                        [{\"alignmentgroup\":\"True\",\"hovertemplate\":\"item=%{x}<br>count=%{y}<extra></extra>\",\"legendgroup\":\"\",\"marker\":{\"color\":\"#636efa\",\"pattern\":{\"shape\":\"\"}},\"name\":\"\",\"offsetgroup\":\"\",\"orientation\":\"v\",\"showlegend\":false,\"textposition\":\"auto\",\"x\":[\"San Francisco, CA\",\"Boston, MA\",\"Houston, TX\",\"Stanford, CA\",\"Chicago, IL\",\"Marina del Rey, CA\",\"Portland, OR\",\"Los Angeles, CA\",\"Cincinnati, OH\",\"Lebanon, NH\",\"Pittsburgh, PA\",\"Baltimore, MD\",\"Durham, NC\",\"Philadelphia, PA\",\"Evanston, IL\",\"New York, NY\",\"Memphis, TN\",\"Indianapolis, IN\",\"Columbus, OH\",\"Seattle, WA\",\"Dallas, TX\",\"Hershey, PA\",\"New Haven, CT\",\"Phoenix, AZ\",\"Cleveland, OH\",\"Nashville, TN\",\"Atlanta, GA\",\"Birmingham, AL\",\"St. Louis, MO\",\"Aurora, CO\",\"Rochester, MN\",\"Ann Arbor, MI\",\"Iowa City, IA\",\"Salt Lake City, UT\",\"San Diego, CA\",\"Madison, WI\",\"Danville, PA\",\"Winston-Salem, NC\",\"Cleveland, Ohio\"],\"xaxis\":\"x\",\"y\":[12,22,20,9,16,6,18,21,12,12,7,16,3,13,8,28,10,8,8,6,8,9,12,6,16,9,11,14,7,7,6,3,5,5,7,11,5,4,5],\"yaxis\":\"y\",\"type\":\"bar\"}],                        {\"template\":{\"data\":{\"histogram2dcontour\":[{\"type\":\"histogram2dcontour\",\"colorbar\":{\"outlinewidth\":0,\"ticks\":\"\"},\"colorscale\":[[0.0,\"#0d0887\"],[0.1111111111111111,\"#46039f\"],[0.2222222222222222,\"#7201a8\"],[0.3333333333333333,\"#9c179e\"],[0.4444444444444444,\"#bd3786\"],[0.5555555555555556,\"#d8576b\"],[0.6666666666666666,\"#ed7953\"],[0.7777777777777778,\"#fb9f3a\"],[0.8888888888888888,\"#fdca26\"],[1.0,\"#f0f921\"]]}],\"choropleth\":[{\"type\":\"choropleth\",\"colorbar\":{\"outlinewidth\":0,\"ticks\":\"\"}}],\"histogram2d\":[{\"type\":\"histogram2d\",\"colorbar\":{\"outlinewidth\":0,\"ticks\":\"\"},\"colorscale\":[[0.0,\"#0d0887\"],[0.1111111111111111,\"#46039f\"],[0.2222222222222222,\"#7201a8\"],[0.3333333333333333,\"#9c179e\"],[0.4444444444444444,\"#bd3786\"],[0.5555555555555556,\"#d8576b\"],[0.6666666666666666,\"#ed7953\"],[0.7777777777777778,\"#fb9f3a\"],[0.8888888888888888,\"#fdca26\"],[1.0,\"#f0f921\"]]}],\"heatmap\":[{\"type\":\"heatmap\",\"colorbar\":{\"outlinewidth\":0,\"ticks\":\"\"},\"colorscale\":[[0.0,\"#0d0887\"],[0.1111111111111111,\"#46039f\"],[0.2222222222222222,\"#7201a8\"],[0.3333333333333333,\"#9c179e\"],[0.4444444444444444,\"#bd3786\"],[0.5555555555555556,\"#d8576b\"],[0.6666666666666666,\"#ed7953\"],[0.7777777777777778,\"#fb9f3a\"],[0.8888888888888888,\"#fdca26\"],[1.0,\"#f0f921\"]]}],\"heatmapgl\":[{\"type\":\"heatmapgl\",\"colorbar\":{\"outlinewidth\":0,\"ticks\":\"\"},\"colorscale\":[[0.0,\"#0d0887\"],[0.1111111111111111,\"#46039f\"],[0.2222222222222222,\"#7201a8\"],[0.3333333333333333,\"#9c179e\"],[0.4444444444444444,\"#bd3786\"],[0.5555555555555556,\"#d8576b\"],[0.6666666666666666,\"#ed7953\"],[0.7777777777777778,\"#fb9f3a\"],[0.8888888888888888,\"#fdca26\"],[1.0,\"#f0f921\"]]}],\"contourcarpet\":[{\"type\":\"contourcarpet\",\"colorbar\":{\"outlinewidth\":0,\"ticks\":\"\"}}],\"contour\":[{\"type\":\"contour\",\"colorbar\":{\"outlinewidth\":0,\"ticks\":\"\"},\"colorscale\":[[0.0,\"#0d0887\"],[0.1111111111111111,\"#46039f\"],[0.2222222222222222,\"#7201a8\"],[0.3333333333333333,\"#9c179e\"],[0.4444444444444444,\"#bd3786\"],[0.5555555555555556,\"#d8576b\"],[0.6666666666666666,\"#ed7953\"],[0.7777777777777778,\"#fb9f3a\"],[0.8888888888888888,\"#fdca26\"],[1.0,\"#f0f921\"]]}],\"surface\":[{\"type\":\"surface\",\"colorbar\":{\"outlinewidth\":0,\"ticks\":\"\"},\"colorscale\":[[0.0,\"#0d0887\"],[0.1111111111111111,\"#46039f\"],[0.2222222222222222,\"#7201a8\"],[0.3333333333333333,\"#9c179e\"],[0.4444444444444444,\"#bd3786\"],[0.5555555555555556,\"#d8576b\"],[0.6666666666666666,\"#ed7953\"],[0.7777777777777778,\"#fb9f3a\"],[0.8888888888888888,\"#fdca26\"],[1.0,\"#f0f921\"]]}],\"mesh3d\":[{\"type\":\"mesh3d\",\"colorbar\":{\"outlinewidth\":0,\"ticks\":\"\"}}],\"scatter\":[{\"fillpattern\":{\"fillmode\":\"overlay\",\"size\":10,\"solidity\":0.2},\"type\":\"scatter\"}],\"parcoords\":[{\"type\":\"parcoords\",\"line\":{\"colorbar\":{\"outlinewidth\":0,\"ticks\":\"\"}}}],\"scatterpolargl\":[{\"type\":\"scatterpolargl\",\"marker\":{\"colorbar\":{\"outlinewidth\":0,\"ticks\":\"\"}}}],\"bar\":[{\"error_x\":{\"color\":\"#2a3f5f\"},\"error_y\":{\"color\":\"#2a3f5f\"},\"marker\":{\"line\":{\"color\":\"#E5ECF6\",\"width\":0.5},\"pattern\":{\"fillmode\":\"overlay\",\"size\":10,\"solidity\":0.2}},\"type\":\"bar\"}],\"scattergeo\":[{\"type\":\"scattergeo\",\"marker\":{\"colorbar\":{\"outlinewidth\":0,\"ticks\":\"\"}}}],\"scatterpolar\":[{\"type\":\"scatterpolar\",\"marker\":{\"colorbar\":{\"outlinewidth\":0,\"ticks\":\"\"}}}],\"histogram\":[{\"marker\":{\"pattern\":{\"fillmode\":\"overlay\",\"size\":10,\"solidity\":0.2}},\"type\":\"histogram\"}],\"scattergl\":[{\"type\":\"scattergl\",\"marker\":{\"colorbar\":{\"outlinewidth\":0,\"ticks\":\"\"}}}],\"scatter3d\":[{\"type\":\"scatter3d\",\"line\":{\"colorbar\":{\"outlinewidth\":0,\"ticks\":\"\"}},\"marker\":{\"colorbar\":{\"outlinewidth\":0,\"ticks\":\"\"}}}],\"scattermapbox\":[{\"type\":\"scattermapbox\",\"marker\":{\"colorbar\":{\"outlinewidth\":0,\"ticks\":\"\"}}}],\"scatterternary\":[{\"type\":\"scatterternary\",\"marker\":{\"colorbar\":{\"outlinewidth\":0,\"ticks\":\"\"}}}],\"scattercarpet\":[{\"type\":\"scattercarpet\",\"marker\":{\"colorbar\":{\"outlinewidth\":0,\"ticks\":\"\"}}}],\"carpet\":[{\"aaxis\":{\"endlinecolor\":\"#2a3f5f\",\"gridcolor\":\"white\",\"linecolor\":\"white\",\"minorgridcolor\":\"white\",\"startlinecolor\":\"#2a3f5f\"},\"baxis\":{\"endlinecolor\":\"#2a3f5f\",\"gridcolor\":\"white\",\"linecolor\":\"white\",\"minorgridcolor\":\"white\",\"startlinecolor\":\"#2a3f5f\"},\"type\":\"carpet\"}],\"table\":[{\"cells\":{\"fill\":{\"color\":\"#EBF0F8\"},\"line\":{\"color\":\"white\"}},\"header\":{\"fill\":{\"color\":\"#C8D4E3\"},\"line\":{\"color\":\"white\"}},\"type\":\"table\"}],\"barpolar\":[{\"marker\":{\"line\":{\"color\":\"#E5ECF6\",\"width\":0.5},\"pattern\":{\"fillmode\":\"overlay\",\"size\":10,\"solidity\":0.2}},\"type\":\"barpolar\"}],\"pie\":[{\"automargin\":true,\"type\":\"pie\"}]},\"layout\":{\"autotypenumbers\":\"strict\",\"colorway\":[\"#636efa\",\"#EF553B\",\"#00cc96\",\"#ab63fa\",\"#FFA15A\",\"#19d3f3\",\"#FF6692\",\"#B6E880\",\"#FF97FF\",\"#FECB52\"],\"font\":{\"color\":\"#2a3f5f\"},\"hovermode\":\"closest\",\"hoverlabel\":{\"align\":\"left\"},\"paper_bgcolor\":\"white\",\"plot_bgcolor\":\"#E5ECF6\",\"polar\":{\"bgcolor\":\"#E5ECF6\",\"angularaxis\":{\"gridcolor\":\"white\",\"linecolor\":\"white\",\"ticks\":\"\"},\"radialaxis\":{\"gridcolor\":\"white\",\"linecolor\":\"white\",\"ticks\":\"\"}},\"ternary\":{\"bgcolor\":\"#E5ECF6\",\"aaxis\":{\"gridcolor\":\"white\",\"linecolor\":\"white\",\"ticks\":\"\"},\"baxis\":{\"gridcolor\":\"white\",\"linecolor\":\"white\",\"ticks\":\"\"},\"caxis\":{\"gridcolor\":\"white\",\"linecolor\":\"white\",\"ticks\":\"\"}},\"coloraxis\":{\"colorbar\":{\"outlinewidth\":0,\"ticks\":\"\"}},\"colorscale\":{\"sequential\":[[0.0,\"#0d0887\"],[0.1111111111111111,\"#46039f\"],[0.2222222222222222,\"#7201a8\"],[0.3333333333333333,\"#9c179e\"],[0.4444444444444444,\"#bd3786\"],[0.5555555555555556,\"#d8576b\"],[0.6666666666666666,\"#ed7953\"],[0.7777777777777778,\"#fb9f3a\"],[0.8888888888888888,\"#fdca26\"],[1.0,\"#f0f921\"]],\"sequentialminus\":[[0.0,\"#0d0887\"],[0.1111111111111111,\"#46039f\"],[0.2222222222222222,\"#7201a8\"],[0.3333333333333333,\"#9c179e\"],[0.4444444444444444,\"#bd3786\"],[0.5555555555555556,\"#d8576b\"],[0.6666666666666666,\"#ed7953\"],[0.7777777777777778,\"#fb9f3a\"],[0.8888888888888888,\"#fdca26\"],[1.0,\"#f0f921\"]],\"diverging\":[[0,\"#8e0152\"],[0.1,\"#c51b7d\"],[0.2,\"#de77ae\"],[0.3,\"#f1b6da\"],[0.4,\"#fde0ef\"],[0.5,\"#f7f7f7\"],[0.6,\"#e6f5d0\"],[0.7,\"#b8e186\"],[0.8,\"#7fbc41\"],[0.9,\"#4d9221\"],[1,\"#276419\"]]},\"xaxis\":{\"gridcolor\":\"white\",\"linecolor\":\"white\",\"ticks\":\"\",\"title\":{\"standoff\":15},\"zerolinecolor\":\"white\",\"automargin\":true,\"zerolinewidth\":2},\"yaxis\":{\"gridcolor\":\"white\",\"linecolor\":\"white\",\"ticks\":\"\",\"title\":{\"standoff\":15},\"zerolinecolor\":\"white\",\"automargin\":true,\"zerolinewidth\":2},\"scene\":{\"xaxis\":{\"backgroundcolor\":\"#E5ECF6\",\"gridcolor\":\"white\",\"linecolor\":\"white\",\"showbackground\":true,\"ticks\":\"\",\"zerolinecolor\":\"white\",\"gridwidth\":2},\"yaxis\":{\"backgroundcolor\":\"#E5ECF6\",\"gridcolor\":\"white\",\"linecolor\":\"white\",\"showbackground\":true,\"ticks\":\"\",\"zerolinecolor\":\"white\",\"gridwidth\":2},\"zaxis\":{\"backgroundcolor\":\"#E5ECF6\",\"gridcolor\":\"white\",\"linecolor\":\"white\",\"showbackground\":true,\"ticks\":\"\",\"zerolinecolor\":\"white\",\"gridwidth\":2}},\"shapedefaults\":{\"line\":{\"color\":\"#2a3f5f\"}},\"annotationdefaults\":{\"arrowcolor\":\"#2a3f5f\",\"arrowhead\":0,\"arrowwidth\":1},\"geo\":{\"bgcolor\":\"white\",\"landcolor\":\"#E5ECF6\",\"subunitcolor\":\"white\",\"showland\":true,\"showlakes\":true,\"lakecolor\":\"white\"},\"title\":{\"x\":0.05},\"mapbox\":{\"style\":\"light\"}}},\"xaxis\":{\"anchor\":\"y\",\"domain\":[0.0,1.0],\"title\":{\"text\":\"item\"}},\"yaxis\":{\"anchor\":\"x\",\"domain\":[0.0,1.0],\"title\":{\"text\":\"count\"}},\"legend\":{\"tracegroupgap\":0},\"title\":{\"text\":\"Bar Chart of facility_location\"},\"barmode\":\"relative\"},                        {\"responsive\": true}                    ).then(function(){\n",
       "                            \n",
       "var gd = document.getElementById('8c7db9da-9a06-43c5-8fb1-fbed0c85e347');\n",
       "var x = new MutationObserver(function (mutations, observer) {{\n",
       "        var display = window.getComputedStyle(gd).display;\n",
       "        if (!display || display === 'none') {{\n",
       "            console.log([gd, 'removed!']);\n",
       "            Plotly.purge(gd);\n",
       "            observer.disconnect();\n",
       "        }}\n",
       "}});\n",
       "\n",
       "// Listen for the removal of the full notebook cells\n",
       "var notebookContainer = gd.closest('#notebook-container');\n",
       "if (notebookContainer) {{\n",
       "    x.observe(notebookContainer, {childList: true});\n",
       "}}\n",
       "\n",
       "// Listen for the clearing of the current output cell\n",
       "var outputEl = gd.closest('.output');\n",
       "if (outputEl) {{\n",
       "    x.observe(outputEl, {childList: true});\n",
       "}}\n",
       "\n",
       "                        })                };                });            </script>        </div>"
      ]
     },
     "metadata": {},
     "output_type": "display_data"
    },
    {
     "data": {
      "application/vnd.plotly.v1+json": {
       "config": {
        "plotlyServerURL": "https://plot.ly"
       },
       "data": [
        {
         "alignmentgroup": "True",
         "hovertemplate": "item=%{x}<br>count=%{y}<extra></extra>",
         "legendgroup": "",
         "marker": {
          "color": "#636efa",
          "pattern": {
           "shape": ""
          }
         },
         "name": "",
         "offsetgroup": "",
         "orientation": "v",
         "showlegend": false,
         "textposition": "auto",
         "type": "bar",
         "x": [
          "S27.0XXA",
          "S72.202A",
          "S92.401A",
          "S52.502A",
          "S52.301A",
          "S72.001A",
          "S72.201A",
          "S52.501A",
          "S52.521A",
          "S22.309A",
          "S93.402A",
          "S92.402A",
          "S82.401A",
          "S72.309A",
          "S06.0X0A",
          "S93.401A",
          "S12.9XXA",
          "S42.001A",
          "S32.301A",
          "S05.9X0A",
          "S07.0XXA",
          "S06.1X0A",
          "S20.00XA",
          "S15.00XA",
          "S23.2XXA",
          "S06.9X0A",
          "S00.0XXA",
          "S25.0XXA",
          "S10.7XXA",
          "S30.00XA",
          "S27.9XXA",
          "S09.8XXA",
          "S01.00XA",
          "S12.0XXA",
          "S27.2XXA",
          "S02.0XXA",
          "S09.90XA",
          "S10.3XXA",
          "G44.001",
          "G44.401",
          "G44.201",
          "G44.209",
          "G44.84",
          "G43.909",
          "G44.819",
          "G44.801",
          "G44.83",
          "G44.40",
          "G44.811",
          "G44.82",
          "I25.10",
          "T81.4",
          "J18.9",
          "T82.82",
          "I48.0"
         ],
         "xaxis": "x",
         "y": [
          11,
          4,
          5,
          10,
          4,
          12,
          11,
          3,
          6,
          4,
          10,
          6,
          3,
          9,
          8,
          4,
          4,
          3,
          2,
          7,
          7,
          12,
          10,
          6,
          17,
          4,
          9,
          10,
          10,
          11,
          9,
          9,
          10,
          16,
          9,
          12,
          7,
          6,
          12,
          7,
          8,
          12,
          11,
          7,
          9,
          10,
          6,
          5,
          7,
          6,
          1,
          1,
          1,
          1,
          1
         ],
         "yaxis": "y"
        }
       ],
       "layout": {
        "barmode": "relative",
        "legend": {
         "tracegroupgap": 0
        },
        "template": {
         "data": {
          "bar": [
           {
            "error_x": {
             "color": "#2a3f5f"
            },
            "error_y": {
             "color": "#2a3f5f"
            },
            "marker": {
             "line": {
              "color": "#E5ECF6",
              "width": 0.5
             },
             "pattern": {
              "fillmode": "overlay",
              "size": 10,
              "solidity": 0.2
             }
            },
            "type": "bar"
           }
          ],
          "barpolar": [
           {
            "marker": {
             "line": {
              "color": "#E5ECF6",
              "width": 0.5
             },
             "pattern": {
              "fillmode": "overlay",
              "size": 10,
              "solidity": 0.2
             }
            },
            "type": "barpolar"
           }
          ],
          "carpet": [
           {
            "aaxis": {
             "endlinecolor": "#2a3f5f",
             "gridcolor": "white",
             "linecolor": "white",
             "minorgridcolor": "white",
             "startlinecolor": "#2a3f5f"
            },
            "baxis": {
             "endlinecolor": "#2a3f5f",
             "gridcolor": "white",
             "linecolor": "white",
             "minorgridcolor": "white",
             "startlinecolor": "#2a3f5f"
            },
            "type": "carpet"
           }
          ],
          "choropleth": [
           {
            "colorbar": {
             "outlinewidth": 0,
             "ticks": ""
            },
            "type": "choropleth"
           }
          ],
          "contour": [
           {
            "colorbar": {
             "outlinewidth": 0,
             "ticks": ""
            },
            "colorscale": [
             [
              0,
              "#0d0887"
             ],
             [
              0.1111111111111111,
              "#46039f"
             ],
             [
              0.2222222222222222,
              "#7201a8"
             ],
             [
              0.3333333333333333,
              "#9c179e"
             ],
             [
              0.4444444444444444,
              "#bd3786"
             ],
             [
              0.5555555555555556,
              "#d8576b"
             ],
             [
              0.6666666666666666,
              "#ed7953"
             ],
             [
              0.7777777777777778,
              "#fb9f3a"
             ],
             [
              0.8888888888888888,
              "#fdca26"
             ],
             [
              1,
              "#f0f921"
             ]
            ],
            "type": "contour"
           }
          ],
          "contourcarpet": [
           {
            "colorbar": {
             "outlinewidth": 0,
             "ticks": ""
            },
            "type": "contourcarpet"
           }
          ],
          "heatmap": [
           {
            "colorbar": {
             "outlinewidth": 0,
             "ticks": ""
            },
            "colorscale": [
             [
              0,
              "#0d0887"
             ],
             [
              0.1111111111111111,
              "#46039f"
             ],
             [
              0.2222222222222222,
              "#7201a8"
             ],
             [
              0.3333333333333333,
              "#9c179e"
             ],
             [
              0.4444444444444444,
              "#bd3786"
             ],
             [
              0.5555555555555556,
              "#d8576b"
             ],
             [
              0.6666666666666666,
              "#ed7953"
             ],
             [
              0.7777777777777778,
              "#fb9f3a"
             ],
             [
              0.8888888888888888,
              "#fdca26"
             ],
             [
              1,
              "#f0f921"
             ]
            ],
            "type": "heatmap"
           }
          ],
          "heatmapgl": [
           {
            "colorbar": {
             "outlinewidth": 0,
             "ticks": ""
            },
            "colorscale": [
             [
              0,
              "#0d0887"
             ],
             [
              0.1111111111111111,
              "#46039f"
             ],
             [
              0.2222222222222222,
              "#7201a8"
             ],
             [
              0.3333333333333333,
              "#9c179e"
             ],
             [
              0.4444444444444444,
              "#bd3786"
             ],
             [
              0.5555555555555556,
              "#d8576b"
             ],
             [
              0.6666666666666666,
              "#ed7953"
             ],
             [
              0.7777777777777778,
              "#fb9f3a"
             ],
             [
              0.8888888888888888,
              "#fdca26"
             ],
             [
              1,
              "#f0f921"
             ]
            ],
            "type": "heatmapgl"
           }
          ],
          "histogram": [
           {
            "marker": {
             "pattern": {
              "fillmode": "overlay",
              "size": 10,
              "solidity": 0.2
             }
            },
            "type": "histogram"
           }
          ],
          "histogram2d": [
           {
            "colorbar": {
             "outlinewidth": 0,
             "ticks": ""
            },
            "colorscale": [
             [
              0,
              "#0d0887"
             ],
             [
              0.1111111111111111,
              "#46039f"
             ],
             [
              0.2222222222222222,
              "#7201a8"
             ],
             [
              0.3333333333333333,
              "#9c179e"
             ],
             [
              0.4444444444444444,
              "#bd3786"
             ],
             [
              0.5555555555555556,
              "#d8576b"
             ],
             [
              0.6666666666666666,
              "#ed7953"
             ],
             [
              0.7777777777777778,
              "#fb9f3a"
             ],
             [
              0.8888888888888888,
              "#fdca26"
             ],
             [
              1,
              "#f0f921"
             ]
            ],
            "type": "histogram2d"
           }
          ],
          "histogram2dcontour": [
           {
            "colorbar": {
             "outlinewidth": 0,
             "ticks": ""
            },
            "colorscale": [
             [
              0,
              "#0d0887"
             ],
             [
              0.1111111111111111,
              "#46039f"
             ],
             [
              0.2222222222222222,
              "#7201a8"
             ],
             [
              0.3333333333333333,
              "#9c179e"
             ],
             [
              0.4444444444444444,
              "#bd3786"
             ],
             [
              0.5555555555555556,
              "#d8576b"
             ],
             [
              0.6666666666666666,
              "#ed7953"
             ],
             [
              0.7777777777777778,
              "#fb9f3a"
             ],
             [
              0.8888888888888888,
              "#fdca26"
             ],
             [
              1,
              "#f0f921"
             ]
            ],
            "type": "histogram2dcontour"
           }
          ],
          "mesh3d": [
           {
            "colorbar": {
             "outlinewidth": 0,
             "ticks": ""
            },
            "type": "mesh3d"
           }
          ],
          "parcoords": [
           {
            "line": {
             "colorbar": {
              "outlinewidth": 0,
              "ticks": ""
             }
            },
            "type": "parcoords"
           }
          ],
          "pie": [
           {
            "automargin": true,
            "type": "pie"
           }
          ],
          "scatter": [
           {
            "fillpattern": {
             "fillmode": "overlay",
             "size": 10,
             "solidity": 0.2
            },
            "type": "scatter"
           }
          ],
          "scatter3d": [
           {
            "line": {
             "colorbar": {
              "outlinewidth": 0,
              "ticks": ""
             }
            },
            "marker": {
             "colorbar": {
              "outlinewidth": 0,
              "ticks": ""
             }
            },
            "type": "scatter3d"
           }
          ],
          "scattercarpet": [
           {
            "marker": {
             "colorbar": {
              "outlinewidth": 0,
              "ticks": ""
             }
            },
            "type": "scattercarpet"
           }
          ],
          "scattergeo": [
           {
            "marker": {
             "colorbar": {
              "outlinewidth": 0,
              "ticks": ""
             }
            },
            "type": "scattergeo"
           }
          ],
          "scattergl": [
           {
            "marker": {
             "colorbar": {
              "outlinewidth": 0,
              "ticks": ""
             }
            },
            "type": "scattergl"
           }
          ],
          "scattermapbox": [
           {
            "marker": {
             "colorbar": {
              "outlinewidth": 0,
              "ticks": ""
             }
            },
            "type": "scattermapbox"
           }
          ],
          "scatterpolar": [
           {
            "marker": {
             "colorbar": {
              "outlinewidth": 0,
              "ticks": ""
             }
            },
            "type": "scatterpolar"
           }
          ],
          "scatterpolargl": [
           {
            "marker": {
             "colorbar": {
              "outlinewidth": 0,
              "ticks": ""
             }
            },
            "type": "scatterpolargl"
           }
          ],
          "scatterternary": [
           {
            "marker": {
             "colorbar": {
              "outlinewidth": 0,
              "ticks": ""
             }
            },
            "type": "scatterternary"
           }
          ],
          "surface": [
           {
            "colorbar": {
             "outlinewidth": 0,
             "ticks": ""
            },
            "colorscale": [
             [
              0,
              "#0d0887"
             ],
             [
              0.1111111111111111,
              "#46039f"
             ],
             [
              0.2222222222222222,
              "#7201a8"
             ],
             [
              0.3333333333333333,
              "#9c179e"
             ],
             [
              0.4444444444444444,
              "#bd3786"
             ],
             [
              0.5555555555555556,
              "#d8576b"
             ],
             [
              0.6666666666666666,
              "#ed7953"
             ],
             [
              0.7777777777777778,
              "#fb9f3a"
             ],
             [
              0.8888888888888888,
              "#fdca26"
             ],
             [
              1,
              "#f0f921"
             ]
            ],
            "type": "surface"
           }
          ],
          "table": [
           {
            "cells": {
             "fill": {
              "color": "#EBF0F8"
             },
             "line": {
              "color": "white"
             }
            },
            "header": {
             "fill": {
              "color": "#C8D4E3"
             },
             "line": {
              "color": "white"
             }
            },
            "type": "table"
           }
          ]
         },
         "layout": {
          "annotationdefaults": {
           "arrowcolor": "#2a3f5f",
           "arrowhead": 0,
           "arrowwidth": 1
          },
          "autotypenumbers": "strict",
          "coloraxis": {
           "colorbar": {
            "outlinewidth": 0,
            "ticks": ""
           }
          },
          "colorscale": {
           "diverging": [
            [
             0,
             "#8e0152"
            ],
            [
             0.1,
             "#c51b7d"
            ],
            [
             0.2,
             "#de77ae"
            ],
            [
             0.3,
             "#f1b6da"
            ],
            [
             0.4,
             "#fde0ef"
            ],
            [
             0.5,
             "#f7f7f7"
            ],
            [
             0.6,
             "#e6f5d0"
            ],
            [
             0.7,
             "#b8e186"
            ],
            [
             0.8,
             "#7fbc41"
            ],
            [
             0.9,
             "#4d9221"
            ],
            [
             1,
             "#276419"
            ]
           ],
           "sequential": [
            [
             0,
             "#0d0887"
            ],
            [
             0.1111111111111111,
             "#46039f"
            ],
            [
             0.2222222222222222,
             "#7201a8"
            ],
            [
             0.3333333333333333,
             "#9c179e"
            ],
            [
             0.4444444444444444,
             "#bd3786"
            ],
            [
             0.5555555555555556,
             "#d8576b"
            ],
            [
             0.6666666666666666,
             "#ed7953"
            ],
            [
             0.7777777777777778,
             "#fb9f3a"
            ],
            [
             0.8888888888888888,
             "#fdca26"
            ],
            [
             1,
             "#f0f921"
            ]
           ],
           "sequentialminus": [
            [
             0,
             "#0d0887"
            ],
            [
             0.1111111111111111,
             "#46039f"
            ],
            [
             0.2222222222222222,
             "#7201a8"
            ],
            [
             0.3333333333333333,
             "#9c179e"
            ],
            [
             0.4444444444444444,
             "#bd3786"
            ],
            [
             0.5555555555555556,
             "#d8576b"
            ],
            [
             0.6666666666666666,
             "#ed7953"
            ],
            [
             0.7777777777777778,
             "#fb9f3a"
            ],
            [
             0.8888888888888888,
             "#fdca26"
            ],
            [
             1,
             "#f0f921"
            ]
           ]
          },
          "colorway": [
           "#636efa",
           "#EF553B",
           "#00cc96",
           "#ab63fa",
           "#FFA15A",
           "#19d3f3",
           "#FF6692",
           "#B6E880",
           "#FF97FF",
           "#FECB52"
          ],
          "font": {
           "color": "#2a3f5f"
          },
          "geo": {
           "bgcolor": "white",
           "lakecolor": "white",
           "landcolor": "#E5ECF6",
           "showlakes": true,
           "showland": true,
           "subunitcolor": "white"
          },
          "hoverlabel": {
           "align": "left"
          },
          "hovermode": "closest",
          "mapbox": {
           "style": "light"
          },
          "paper_bgcolor": "white",
          "plot_bgcolor": "#E5ECF6",
          "polar": {
           "angularaxis": {
            "gridcolor": "white",
            "linecolor": "white",
            "ticks": ""
           },
           "bgcolor": "#E5ECF6",
           "radialaxis": {
            "gridcolor": "white",
            "linecolor": "white",
            "ticks": ""
           }
          },
          "scene": {
           "xaxis": {
            "backgroundcolor": "#E5ECF6",
            "gridcolor": "white",
            "gridwidth": 2,
            "linecolor": "white",
            "showbackground": true,
            "ticks": "",
            "zerolinecolor": "white"
           },
           "yaxis": {
            "backgroundcolor": "#E5ECF6",
            "gridcolor": "white",
            "gridwidth": 2,
            "linecolor": "white",
            "showbackground": true,
            "ticks": "",
            "zerolinecolor": "white"
           },
           "zaxis": {
            "backgroundcolor": "#E5ECF6",
            "gridcolor": "white",
            "gridwidth": 2,
            "linecolor": "white",
            "showbackground": true,
            "ticks": "",
            "zerolinecolor": "white"
           }
          },
          "shapedefaults": {
           "line": {
            "color": "#2a3f5f"
           }
          },
          "ternary": {
           "aaxis": {
            "gridcolor": "white",
            "linecolor": "white",
            "ticks": ""
           },
           "baxis": {
            "gridcolor": "white",
            "linecolor": "white",
            "ticks": ""
           },
           "bgcolor": "#E5ECF6",
           "caxis": {
            "gridcolor": "white",
            "linecolor": "white",
            "ticks": ""
           }
          },
          "title": {
           "x": 0.05
          },
          "xaxis": {
           "automargin": true,
           "gridcolor": "white",
           "linecolor": "white",
           "ticks": "",
           "title": {
            "standoff": 15
           },
           "zerolinecolor": "white",
           "zerolinewidth": 2
          },
          "yaxis": {
           "automargin": true,
           "gridcolor": "white",
           "linecolor": "white",
           "ticks": "",
           "title": {
            "standoff": 15
           },
           "zerolinecolor": "white",
           "zerolinewidth": 2
          }
         }
        },
        "title": {
         "text": "Bar Chart of diagnosis_code"
        },
        "xaxis": {
         "anchor": "y",
         "domain": [
          0,
          1
         ],
         "title": {
          "text": "item"
         }
        },
        "yaxis": {
         "anchor": "x",
         "domain": [
          0,
          1
         ],
         "title": {
          "text": "count"
         }
        }
       }
      },
      "text/html": [
       "<div>                            <div id=\"0bcb79bd-78c1-4621-8e8d-0dbc1c3535ec\" class=\"plotly-graph-div\" style=\"height:525px; width:100%;\"></div>            <script type=\"text/javascript\">                require([\"plotly\"], function(Plotly) {                    window.PLOTLYENV=window.PLOTLYENV || {};                                    if (document.getElementById(\"0bcb79bd-78c1-4621-8e8d-0dbc1c3535ec\")) {                    Plotly.newPlot(                        \"0bcb79bd-78c1-4621-8e8d-0dbc1c3535ec\",                        [{\"alignmentgroup\":\"True\",\"hovertemplate\":\"item=%{x}<br>count=%{y}<extra></extra>\",\"legendgroup\":\"\",\"marker\":{\"color\":\"#636efa\",\"pattern\":{\"shape\":\"\"}},\"name\":\"\",\"offsetgroup\":\"\",\"orientation\":\"v\",\"showlegend\":false,\"textposition\":\"auto\",\"x\":[\"S27.0XXA\",\"S72.202A\",\"S92.401A\",\"S52.502A\",\"S52.301A\",\"S72.001A\",\"S72.201A\",\"S52.501A\",\"S52.521A\",\"S22.309A\",\"S93.402A\",\"S92.402A\",\"S82.401A\",\"S72.309A\",\"S06.0X0A\",\"S93.401A\",\"S12.9XXA\",\"S42.001A\",\"S32.301A\",\"S05.9X0A\",\"S07.0XXA\",\"S06.1X0A\",\"S20.00XA\",\"S15.00XA\",\"S23.2XXA\",\"S06.9X0A\",\"S00.0XXA\",\"S25.0XXA\",\"S10.7XXA\",\"S30.00XA\",\"S27.9XXA\",\"S09.8XXA\",\"S01.00XA\",\"S12.0XXA\",\"S27.2XXA\",\"S02.0XXA\",\"S09.90XA\",\"S10.3XXA\",\"G44.001\",\"G44.401\",\"G44.201\",\"G44.209\",\"G44.84\",\"G43.909\",\"G44.819\",\"G44.801\",\"G44.83\",\"G44.40\",\"G44.811\",\"G44.82\",\"I25.10\",\"T81.4\",\"J18.9\",\"T82.82\",\"I48.0\"],\"xaxis\":\"x\",\"y\":[11,4,5,10,4,12,11,3,6,4,10,6,3,9,8,4,4,3,2,7,7,12,10,6,17,4,9,10,10,11,9,9,10,16,9,12,7,6,12,7,8,12,11,7,9,10,6,5,7,6,1,1,1,1,1],\"yaxis\":\"y\",\"type\":\"bar\"}],                        {\"template\":{\"data\":{\"histogram2dcontour\":[{\"type\":\"histogram2dcontour\",\"colorbar\":{\"outlinewidth\":0,\"ticks\":\"\"},\"colorscale\":[[0.0,\"#0d0887\"],[0.1111111111111111,\"#46039f\"],[0.2222222222222222,\"#7201a8\"],[0.3333333333333333,\"#9c179e\"],[0.4444444444444444,\"#bd3786\"],[0.5555555555555556,\"#d8576b\"],[0.6666666666666666,\"#ed7953\"],[0.7777777777777778,\"#fb9f3a\"],[0.8888888888888888,\"#fdca26\"],[1.0,\"#f0f921\"]]}],\"choropleth\":[{\"type\":\"choropleth\",\"colorbar\":{\"outlinewidth\":0,\"ticks\":\"\"}}],\"histogram2d\":[{\"type\":\"histogram2d\",\"colorbar\":{\"outlinewidth\":0,\"ticks\":\"\"},\"colorscale\":[[0.0,\"#0d0887\"],[0.1111111111111111,\"#46039f\"],[0.2222222222222222,\"#7201a8\"],[0.3333333333333333,\"#9c179e\"],[0.4444444444444444,\"#bd3786\"],[0.5555555555555556,\"#d8576b\"],[0.6666666666666666,\"#ed7953\"],[0.7777777777777778,\"#fb9f3a\"],[0.8888888888888888,\"#fdca26\"],[1.0,\"#f0f921\"]]}],\"heatmap\":[{\"type\":\"heatmap\",\"colorbar\":{\"outlinewidth\":0,\"ticks\":\"\"},\"colorscale\":[[0.0,\"#0d0887\"],[0.1111111111111111,\"#46039f\"],[0.2222222222222222,\"#7201a8\"],[0.3333333333333333,\"#9c179e\"],[0.4444444444444444,\"#bd3786\"],[0.5555555555555556,\"#d8576b\"],[0.6666666666666666,\"#ed7953\"],[0.7777777777777778,\"#fb9f3a\"],[0.8888888888888888,\"#fdca26\"],[1.0,\"#f0f921\"]]}],\"heatmapgl\":[{\"type\":\"heatmapgl\",\"colorbar\":{\"outlinewidth\":0,\"ticks\":\"\"},\"colorscale\":[[0.0,\"#0d0887\"],[0.1111111111111111,\"#46039f\"],[0.2222222222222222,\"#7201a8\"],[0.3333333333333333,\"#9c179e\"],[0.4444444444444444,\"#bd3786\"],[0.5555555555555556,\"#d8576b\"],[0.6666666666666666,\"#ed7953\"],[0.7777777777777778,\"#fb9f3a\"],[0.8888888888888888,\"#fdca26\"],[1.0,\"#f0f921\"]]}],\"contourcarpet\":[{\"type\":\"contourcarpet\",\"colorbar\":{\"outlinewidth\":0,\"ticks\":\"\"}}],\"contour\":[{\"type\":\"contour\",\"colorbar\":{\"outlinewidth\":0,\"ticks\":\"\"},\"colorscale\":[[0.0,\"#0d0887\"],[0.1111111111111111,\"#46039f\"],[0.2222222222222222,\"#7201a8\"],[0.3333333333333333,\"#9c179e\"],[0.4444444444444444,\"#bd3786\"],[0.5555555555555556,\"#d8576b\"],[0.6666666666666666,\"#ed7953\"],[0.7777777777777778,\"#fb9f3a\"],[0.8888888888888888,\"#fdca26\"],[1.0,\"#f0f921\"]]}],\"surface\":[{\"type\":\"surface\",\"colorbar\":{\"outlinewidth\":0,\"ticks\":\"\"},\"colorscale\":[[0.0,\"#0d0887\"],[0.1111111111111111,\"#46039f\"],[0.2222222222222222,\"#7201a8\"],[0.3333333333333333,\"#9c179e\"],[0.4444444444444444,\"#bd3786\"],[0.5555555555555556,\"#d8576b\"],[0.6666666666666666,\"#ed7953\"],[0.7777777777777778,\"#fb9f3a\"],[0.8888888888888888,\"#fdca26\"],[1.0,\"#f0f921\"]]}],\"mesh3d\":[{\"type\":\"mesh3d\",\"colorbar\":{\"outlinewidth\":0,\"ticks\":\"\"}}],\"scatter\":[{\"fillpattern\":{\"fillmode\":\"overlay\",\"size\":10,\"solidity\":0.2},\"type\":\"scatter\"}],\"parcoords\":[{\"type\":\"parcoords\",\"line\":{\"colorbar\":{\"outlinewidth\":0,\"ticks\":\"\"}}}],\"scatterpolargl\":[{\"type\":\"scatterpolargl\",\"marker\":{\"colorbar\":{\"outlinewidth\":0,\"ticks\":\"\"}}}],\"bar\":[{\"error_x\":{\"color\":\"#2a3f5f\"},\"error_y\":{\"color\":\"#2a3f5f\"},\"marker\":{\"line\":{\"color\":\"#E5ECF6\",\"width\":0.5},\"pattern\":{\"fillmode\":\"overlay\",\"size\":10,\"solidity\":0.2}},\"type\":\"bar\"}],\"scattergeo\":[{\"type\":\"scattergeo\",\"marker\":{\"colorbar\":{\"outlinewidth\":0,\"ticks\":\"\"}}}],\"scatterpolar\":[{\"type\":\"scatterpolar\",\"marker\":{\"colorbar\":{\"outlinewidth\":0,\"ticks\":\"\"}}}],\"histogram\":[{\"marker\":{\"pattern\":{\"fillmode\":\"overlay\",\"size\":10,\"solidity\":0.2}},\"type\":\"histogram\"}],\"scattergl\":[{\"type\":\"scattergl\",\"marker\":{\"colorbar\":{\"outlinewidth\":0,\"ticks\":\"\"}}}],\"scatter3d\":[{\"type\":\"scatter3d\",\"line\":{\"colorbar\":{\"outlinewidth\":0,\"ticks\":\"\"}},\"marker\":{\"colorbar\":{\"outlinewidth\":0,\"ticks\":\"\"}}}],\"scattermapbox\":[{\"type\":\"scattermapbox\",\"marker\":{\"colorbar\":{\"outlinewidth\":0,\"ticks\":\"\"}}}],\"scatterternary\":[{\"type\":\"scatterternary\",\"marker\":{\"colorbar\":{\"outlinewidth\":0,\"ticks\":\"\"}}}],\"scattercarpet\":[{\"type\":\"scattercarpet\",\"marker\":{\"colorbar\":{\"outlinewidth\":0,\"ticks\":\"\"}}}],\"carpet\":[{\"aaxis\":{\"endlinecolor\":\"#2a3f5f\",\"gridcolor\":\"white\",\"linecolor\":\"white\",\"minorgridcolor\":\"white\",\"startlinecolor\":\"#2a3f5f\"},\"baxis\":{\"endlinecolor\":\"#2a3f5f\",\"gridcolor\":\"white\",\"linecolor\":\"white\",\"minorgridcolor\":\"white\",\"startlinecolor\":\"#2a3f5f\"},\"type\":\"carpet\"}],\"table\":[{\"cells\":{\"fill\":{\"color\":\"#EBF0F8\"},\"line\":{\"color\":\"white\"}},\"header\":{\"fill\":{\"color\":\"#C8D4E3\"},\"line\":{\"color\":\"white\"}},\"type\":\"table\"}],\"barpolar\":[{\"marker\":{\"line\":{\"color\":\"#E5ECF6\",\"width\":0.5},\"pattern\":{\"fillmode\":\"overlay\",\"size\":10,\"solidity\":0.2}},\"type\":\"barpolar\"}],\"pie\":[{\"automargin\":true,\"type\":\"pie\"}]},\"layout\":{\"autotypenumbers\":\"strict\",\"colorway\":[\"#636efa\",\"#EF553B\",\"#00cc96\",\"#ab63fa\",\"#FFA15A\",\"#19d3f3\",\"#FF6692\",\"#B6E880\",\"#FF97FF\",\"#FECB52\"],\"font\":{\"color\":\"#2a3f5f\"},\"hovermode\":\"closest\",\"hoverlabel\":{\"align\":\"left\"},\"paper_bgcolor\":\"white\",\"plot_bgcolor\":\"#E5ECF6\",\"polar\":{\"bgcolor\":\"#E5ECF6\",\"angularaxis\":{\"gridcolor\":\"white\",\"linecolor\":\"white\",\"ticks\":\"\"},\"radialaxis\":{\"gridcolor\":\"white\",\"linecolor\":\"white\",\"ticks\":\"\"}},\"ternary\":{\"bgcolor\":\"#E5ECF6\",\"aaxis\":{\"gridcolor\":\"white\",\"linecolor\":\"white\",\"ticks\":\"\"},\"baxis\":{\"gridcolor\":\"white\",\"linecolor\":\"white\",\"ticks\":\"\"},\"caxis\":{\"gridcolor\":\"white\",\"linecolor\":\"white\",\"ticks\":\"\"}},\"coloraxis\":{\"colorbar\":{\"outlinewidth\":0,\"ticks\":\"\"}},\"colorscale\":{\"sequential\":[[0.0,\"#0d0887\"],[0.1111111111111111,\"#46039f\"],[0.2222222222222222,\"#7201a8\"],[0.3333333333333333,\"#9c179e\"],[0.4444444444444444,\"#bd3786\"],[0.5555555555555556,\"#d8576b\"],[0.6666666666666666,\"#ed7953\"],[0.7777777777777778,\"#fb9f3a\"],[0.8888888888888888,\"#fdca26\"],[1.0,\"#f0f921\"]],\"sequentialminus\":[[0.0,\"#0d0887\"],[0.1111111111111111,\"#46039f\"],[0.2222222222222222,\"#7201a8\"],[0.3333333333333333,\"#9c179e\"],[0.4444444444444444,\"#bd3786\"],[0.5555555555555556,\"#d8576b\"],[0.6666666666666666,\"#ed7953\"],[0.7777777777777778,\"#fb9f3a\"],[0.8888888888888888,\"#fdca26\"],[1.0,\"#f0f921\"]],\"diverging\":[[0,\"#8e0152\"],[0.1,\"#c51b7d\"],[0.2,\"#de77ae\"],[0.3,\"#f1b6da\"],[0.4,\"#fde0ef\"],[0.5,\"#f7f7f7\"],[0.6,\"#e6f5d0\"],[0.7,\"#b8e186\"],[0.8,\"#7fbc41\"],[0.9,\"#4d9221\"],[1,\"#276419\"]]},\"xaxis\":{\"gridcolor\":\"white\",\"linecolor\":\"white\",\"ticks\":\"\",\"title\":{\"standoff\":15},\"zerolinecolor\":\"white\",\"automargin\":true,\"zerolinewidth\":2},\"yaxis\":{\"gridcolor\":\"white\",\"linecolor\":\"white\",\"ticks\":\"\",\"title\":{\"standoff\":15},\"zerolinecolor\":\"white\",\"automargin\":true,\"zerolinewidth\":2},\"scene\":{\"xaxis\":{\"backgroundcolor\":\"#E5ECF6\",\"gridcolor\":\"white\",\"linecolor\":\"white\",\"showbackground\":true,\"ticks\":\"\",\"zerolinecolor\":\"white\",\"gridwidth\":2},\"yaxis\":{\"backgroundcolor\":\"#E5ECF6\",\"gridcolor\":\"white\",\"linecolor\":\"white\",\"showbackground\":true,\"ticks\":\"\",\"zerolinecolor\":\"white\",\"gridwidth\":2},\"zaxis\":{\"backgroundcolor\":\"#E5ECF6\",\"gridcolor\":\"white\",\"linecolor\":\"white\",\"showbackground\":true,\"ticks\":\"\",\"zerolinecolor\":\"white\",\"gridwidth\":2}},\"shapedefaults\":{\"line\":{\"color\":\"#2a3f5f\"}},\"annotationdefaults\":{\"arrowcolor\":\"#2a3f5f\",\"arrowhead\":0,\"arrowwidth\":1},\"geo\":{\"bgcolor\":\"white\",\"landcolor\":\"#E5ECF6\",\"subunitcolor\":\"white\",\"showland\":true,\"showlakes\":true,\"lakecolor\":\"white\"},\"title\":{\"x\":0.05},\"mapbox\":{\"style\":\"light\"}}},\"xaxis\":{\"anchor\":\"y\",\"domain\":[0.0,1.0],\"title\":{\"text\":\"item\"}},\"yaxis\":{\"anchor\":\"x\",\"domain\":[0.0,1.0],\"title\":{\"text\":\"count\"}},\"legend\":{\"tracegroupgap\":0},\"title\":{\"text\":\"Bar Chart of diagnosis_code\"},\"barmode\":\"relative\"},                        {\"responsive\": true}                    ).then(function(){\n",
       "                            \n",
       "var gd = document.getElementById('0bcb79bd-78c1-4621-8e8d-0dbc1c3535ec');\n",
       "var x = new MutationObserver(function (mutations, observer) {{\n",
       "        var display = window.getComputedStyle(gd).display;\n",
       "        if (!display || display === 'none') {{\n",
       "            console.log([gd, 'removed!']);\n",
       "            Plotly.purge(gd);\n",
       "            observer.disconnect();\n",
       "        }}\n",
       "}});\n",
       "\n",
       "// Listen for the removal of the full notebook cells\n",
       "var notebookContainer = gd.closest('#notebook-container');\n",
       "if (notebookContainer) {{\n",
       "    x.observe(notebookContainer, {childList: true});\n",
       "}}\n",
       "\n",
       "// Listen for the clearing of the current output cell\n",
       "var outputEl = gd.closest('.output');\n",
       "if (outputEl) {{\n",
       "    x.observe(outputEl, {childList: true});\n",
       "}}\n",
       "\n",
       "                        })                };                });            </script>        </div>"
      ]
     },
     "metadata": {},
     "output_type": "display_data"
    }
   ],
   "source": [
    "def get_barchart(column):\n",
    "    data_counter = Counter(df[column])\n",
    "    data_dict = {'item': list(data_counter.keys()), 'count': list(data_counter.values())}\n",
    "    fig = px.bar(data_dict, x='item', y='count', title=f'Bar Chart of {column}')\n",
    "    fig.show()\n",
    "get_barchart('facility_location')\n",
    "get_barchart('diagnosis_code')\n"
   ]
  },
  {
   "cell_type": "code",
   "execution_count": 31,
   "id": "e52050d2",
   "metadata": {},
   "outputs": [],
   "source": [
    "patient_count = df['patient_id'].value_counts().reset_index()\n",
    "patient_count.columns = ['patient_id', 'count']\n",
    "patient_count.sort_values('count', ascending = False, inplace= True)\n",
    "patient_count.reset_index(inplace= True)\n",
    "del patient_count['index']"
   ]
  },
  {
   "cell_type": "code",
   "execution_count": 32,
   "id": "5e5ec3f0",
   "metadata": {},
   "outputs": [
    {
     "data": {
      "text/html": [
       "<div>\n",
       "<style scoped>\n",
       "    .dataframe tbody tr th:only-of-type {\n",
       "        vertical-align: middle;\n",
       "    }\n",
       "\n",
       "    .dataframe tbody tr th {\n",
       "        vertical-align: top;\n",
       "    }\n",
       "\n",
       "    .dataframe thead th {\n",
       "        text-align: right;\n",
       "    }\n",
       "</style>\n",
       "<table border=\"1\" class=\"dataframe\">\n",
       "  <thead>\n",
       "    <tr style=\"text-align: right;\">\n",
       "      <th></th>\n",
       "      <th>patient_id</th>\n",
       "      <th>count</th>\n",
       "    </tr>\n",
       "  </thead>\n",
       "  <tbody>\n",
       "    <tr>\n",
       "      <th>0</th>\n",
       "      <td>HOSP123-405</td>\n",
       "      <td>5</td>\n",
       "    </tr>\n",
       "    <tr>\n",
       "      <th>1</th>\n",
       "      <td>HOSP123-013</td>\n",
       "      <td>1</td>\n",
       "    </tr>\n",
       "    <tr>\n",
       "      <th>2</th>\n",
       "      <td>HOSP123-003</td>\n",
       "      <td>1</td>\n",
       "    </tr>\n",
       "    <tr>\n",
       "      <th>3</th>\n",
       "      <td>HOSP123-004</td>\n",
       "      <td>1</td>\n",
       "    </tr>\n",
       "    <tr>\n",
       "      <th>4</th>\n",
       "      <td>HOSP123-005</td>\n",
       "      <td>1</td>\n",
       "    </tr>\n",
       "    <tr>\n",
       "      <th>...</th>\n",
       "      <td>...</td>\n",
       "      <td>...</td>\n",
       "    </tr>\n",
       "    <tr>\n",
       "      <th>396</th>\n",
       "      <td>HOSP123-397</td>\n",
       "      <td>1</td>\n",
       "    </tr>\n",
       "    <tr>\n",
       "      <th>397</th>\n",
       "      <td>HOSP123-398</td>\n",
       "      <td>1</td>\n",
       "    </tr>\n",
       "    <tr>\n",
       "      <th>398</th>\n",
       "      <td>HOSP123-399</td>\n",
       "      <td>1</td>\n",
       "    </tr>\n",
       "    <tr>\n",
       "      <th>399</th>\n",
       "      <td>HOSP123-400</td>\n",
       "      <td>1</td>\n",
       "    </tr>\n",
       "    <tr>\n",
       "      <th>400</th>\n",
       "      <td>HOSP123-201</td>\n",
       "      <td>1</td>\n",
       "    </tr>\n",
       "  </tbody>\n",
       "</table>\n",
       "<p>401 rows × 2 columns</p>\n",
       "</div>"
      ],
      "text/plain": [
       "      patient_id  count\n",
       "0    HOSP123-405      5\n",
       "1    HOSP123-013      1\n",
       "2    HOSP123-003      1\n",
       "3    HOSP123-004      1\n",
       "4    HOSP123-005      1\n",
       "..           ...    ...\n",
       "396  HOSP123-397      1\n",
       "397  HOSP123-398      1\n",
       "398  HOSP123-399      1\n",
       "399  HOSP123-400      1\n",
       "400  HOSP123-201      1\n",
       "\n",
       "[401 rows x 2 columns]"
      ]
     },
     "execution_count": 32,
     "metadata": {},
     "output_type": "execute_result"
    }
   ],
   "source": [
    "patient_count"
   ]
  },
  {
   "cell_type": "code",
   "execution_count": 33,
   "id": "f5058f2c",
   "metadata": {},
   "outputs": [
    {
     "data": {
      "text/plain": [
       "'HOSP123-405'"
      ]
     },
     "execution_count": 33,
     "metadata": {},
     "output_type": "execute_result"
    }
   ],
   "source": [
    "readamitted_id = patient_count['patient_id'].iloc[0]\n",
    "readamitted_id"
   ]
  },
  {
   "cell_type": "code",
   "execution_count": 34,
   "id": "31e0d86a",
   "metadata": {},
   "outputs": [
    {
     "data": {
      "text/html": [
       "<div>\n",
       "<style scoped>\n",
       "    .dataframe tbody tr th:only-of-type {\n",
       "        vertical-align: middle;\n",
       "    }\n",
       "\n",
       "    .dataframe tbody tr th {\n",
       "        vertical-align: top;\n",
       "    }\n",
       "\n",
       "    .dataframe thead th {\n",
       "        text-align: right;\n",
       "    }\n",
       "</style>\n",
       "<table border=\"1\" class=\"dataframe\">\n",
       "  <thead>\n",
       "    <tr style=\"text-align: right;\">\n",
       "      <th></th>\n",
       "      <th>patient_id</th>\n",
       "      <th>gender</th>\n",
       "      <th>date_of_birth</th>\n",
       "      <th>insurance_id</th>\n",
       "      <th>insurance_provider</th>\n",
       "      <th>policy_effective_date</th>\n",
       "      <th>policy_expiration_date</th>\n",
       "      <th>service_date</th>\n",
       "      <th>total_billed_amount</th>\n",
       "      <th>insurance_covered_amount</th>\n",
       "      <th>patient_responsibility_amount</th>\n",
       "      <th>payment_status</th>\n",
       "      <th>diagnosis</th>\n",
       "      <th>diagnosis_code</th>\n",
       "      <th>procedure</th>\n",
       "      <th>facility_name</th>\n",
       "      <th>facility_location</th>\n",
       "      <th>cpt_code</th>\n",
       "      <th>patient_name</th>\n",
       "    </tr>\n",
       "  </thead>\n",
       "  <tbody>\n",
       "    <tr>\n",
       "      <th>400</th>\n",
       "      <td>HOSP123-405</td>\n",
       "      <td>Male</td>\n",
       "      <td>1968-09-30</td>\n",
       "      <td>83138751</td>\n",
       "      <td>Aetna</td>\n",
       "      <td>2023-05-10</td>\n",
       "      <td>2024-05-10</td>\n",
       "      <td>2022-10-15</td>\n",
       "      <td>60000.0</td>\n",
       "      <td>55000.0</td>\n",
       "      <td>5000.0</td>\n",
       "      <td>Paid</td>\n",
       "      <td>Coronary Artery Disease</td>\n",
       "      <td>I25.10</td>\n",
       "      <td>Coronary artery bypass, vein only; single vein...</td>\n",
       "      <td>Cleveland Clinic</td>\n",
       "      <td>Cleveland, Ohio</td>\n",
       "      <td>33510</td>\n",
       "      <td>Manuel Gentry</td>\n",
       "    </tr>\n",
       "    <tr>\n",
       "      <th>401</th>\n",
       "      <td>HOSP123-405</td>\n",
       "      <td>Male</td>\n",
       "      <td>1968-09-30</td>\n",
       "      <td>83138751</td>\n",
       "      <td>Aetna</td>\n",
       "      <td>2023-05-10</td>\n",
       "      <td>2024-05-10</td>\n",
       "      <td>2023-01-10</td>\n",
       "      <td>850.0</td>\n",
       "      <td>765.0</td>\n",
       "      <td>85.0</td>\n",
       "      <td>Paid</td>\n",
       "      <td>Surgical Site Infection</td>\n",
       "      <td>T81.4</td>\n",
       "      <td>Therapeutic, prophylactic, or diagnostic injec...</td>\n",
       "      <td>Cleveland Clinic</td>\n",
       "      <td>Cleveland, Ohio</td>\n",
       "      <td>96374</td>\n",
       "      <td>Manuel Gentry</td>\n",
       "    </tr>\n",
       "    <tr>\n",
       "      <th>402</th>\n",
       "      <td>HOSP123-405</td>\n",
       "      <td>Male</td>\n",
       "      <td>1968-09-30</td>\n",
       "      <td>83138751</td>\n",
       "      <td>Aetna</td>\n",
       "      <td>2023-05-10</td>\n",
       "      <td>2024-05-10</td>\n",
       "      <td>2023-03-20</td>\n",
       "      <td>1200.0</td>\n",
       "      <td>1092.0</td>\n",
       "      <td>108.0</td>\n",
       "      <td>Paid</td>\n",
       "      <td>Pneumonia</td>\n",
       "      <td>J18.9</td>\n",
       "      <td>Pressurized or nonpressurized inhalation treat...</td>\n",
       "      <td>Cleveland Clinic</td>\n",
       "      <td>Cleveland, Ohio</td>\n",
       "      <td>94640</td>\n",
       "      <td>Manuel Gentry</td>\n",
       "    </tr>\n",
       "    <tr>\n",
       "      <th>403</th>\n",
       "      <td>HOSP123-405</td>\n",
       "      <td>Male</td>\n",
       "      <td>1968-09-30</td>\n",
       "      <td>83138751</td>\n",
       "      <td>Aetna</td>\n",
       "      <td>2023-05-10</td>\n",
       "      <td>2024-05-10</td>\n",
       "      <td>2023-05-15</td>\n",
       "      <td>10000.0</td>\n",
       "      <td>9200.0</td>\n",
       "      <td>800.0</td>\n",
       "      <td>Paid</td>\n",
       "      <td>Graft Failure</td>\n",
       "      <td>T82.82</td>\n",
       "      <td>Coronary angiography including coronary artery...</td>\n",
       "      <td>Cleveland Clinic</td>\n",
       "      <td>Cleveland, Ohio</td>\n",
       "      <td>93458</td>\n",
       "      <td>Manuel Gentry</td>\n",
       "    </tr>\n",
       "    <tr>\n",
       "      <th>404</th>\n",
       "      <td>HOSP123-405</td>\n",
       "      <td>Male</td>\n",
       "      <td>1968-09-30</td>\n",
       "      <td>83138751</td>\n",
       "      <td>Aetna</td>\n",
       "      <td>2023-05-10</td>\n",
       "      <td>2024-05-10</td>\n",
       "      <td>2023-07-10</td>\n",
       "      <td>8500.0</td>\n",
       "      <td>7905.0</td>\n",
       "      <td>595.0</td>\n",
       "      <td>Paid</td>\n",
       "      <td>Atrial Fibrillation</td>\n",
       "      <td>I48.0</td>\n",
       "      <td>Electrophysiologic evaluation of single or dua...</td>\n",
       "      <td>Cleveland Clinic</td>\n",
       "      <td>Cleveland, Ohio</td>\n",
       "      <td>93620</td>\n",
       "      <td>Manuel Gentry</td>\n",
       "    </tr>\n",
       "  </tbody>\n",
       "</table>\n",
       "</div>"
      ],
      "text/plain": [
       "      patient_id gender date_of_birth  insurance_id insurance_provider  \\\n",
       "400  HOSP123-405   Male    1968-09-30      83138751              Aetna   \n",
       "401  HOSP123-405   Male    1968-09-30      83138751              Aetna   \n",
       "402  HOSP123-405   Male    1968-09-30      83138751              Aetna   \n",
       "403  HOSP123-405   Male    1968-09-30      83138751              Aetna   \n",
       "404  HOSP123-405   Male    1968-09-30      83138751              Aetna   \n",
       "\n",
       "    policy_effective_date policy_expiration_date service_date  \\\n",
       "400            2023-05-10             2024-05-10   2022-10-15   \n",
       "401            2023-05-10             2024-05-10   2023-01-10   \n",
       "402            2023-05-10             2024-05-10   2023-03-20   \n",
       "403            2023-05-10             2024-05-10   2023-05-15   \n",
       "404            2023-05-10             2024-05-10   2023-07-10   \n",
       "\n",
       "     total_billed_amount  insurance_covered_amount  \\\n",
       "400              60000.0                   55000.0   \n",
       "401                850.0                     765.0   \n",
       "402               1200.0                    1092.0   \n",
       "403              10000.0                    9200.0   \n",
       "404               8500.0                    7905.0   \n",
       "\n",
       "     patient_responsibility_amount payment_status                diagnosis  \\\n",
       "400                         5000.0           Paid  Coronary Artery Disease   \n",
       "401                           85.0           Paid  Surgical Site Infection   \n",
       "402                          108.0           Paid                Pneumonia   \n",
       "403                          800.0           Paid            Graft Failure   \n",
       "404                          595.0           Paid      Atrial Fibrillation   \n",
       "\n",
       "    diagnosis_code                                          procedure  \\\n",
       "400         I25.10  Coronary artery bypass, vein only; single vein...   \n",
       "401          T81.4  Therapeutic, prophylactic, or diagnostic injec...   \n",
       "402          J18.9  Pressurized or nonpressurized inhalation treat...   \n",
       "403         T82.82  Coronary angiography including coronary artery...   \n",
       "404          I48.0  Electrophysiologic evaluation of single or dua...   \n",
       "\n",
       "        facility_name facility_location  cpt_code   patient_name  \n",
       "400  Cleveland Clinic   Cleveland, Ohio     33510  Manuel Gentry  \n",
       "401  Cleveland Clinic   Cleveland, Ohio     96374  Manuel Gentry  \n",
       "402  Cleveland Clinic   Cleveland, Ohio     94640  Manuel Gentry  \n",
       "403  Cleveland Clinic   Cleveland, Ohio     93458  Manuel Gentry  \n",
       "404  Cleveland Clinic   Cleveland, Ohio     93620  Manuel Gentry  "
      ]
     },
     "execution_count": 34,
     "metadata": {},
     "output_type": "execute_result"
    }
   ],
   "source": [
    "df_readmit = df[df['patient_id'] == readamitted_id]\n",
    "df_readmit"
   ]
  },
  {
   "cell_type": "code",
   "execution_count": 35,
   "id": "d6a21eed",
   "metadata": {},
   "outputs": [
    {
     "data": {
      "text/html": [
       "<div>\n",
       "<style scoped>\n",
       "    .dataframe tbody tr th:only-of-type {\n",
       "        vertical-align: middle;\n",
       "    }\n",
       "\n",
       "    .dataframe tbody tr th {\n",
       "        vertical-align: top;\n",
       "    }\n",
       "\n",
       "    .dataframe thead th {\n",
       "        text-align: right;\n",
       "    }\n",
       "</style>\n",
       "<table border=\"1\" class=\"dataframe\">\n",
       "  <thead>\n",
       "    <tr style=\"text-align: right;\">\n",
       "      <th></th>\n",
       "      <th>insurance_provider</th>\n",
       "      <th>total_billed_amount</th>\n",
       "      <th>insurance_covered_amount</th>\n",
       "      <th>patient_responsibility_amount</th>\n",
       "      <th>diagnosis</th>\n",
       "      <th>diagnosis_code</th>\n",
       "      <th>procedure</th>\n",
       "      <th>cpt_code</th>\n",
       "    </tr>\n",
       "  </thead>\n",
       "  <tbody>\n",
       "    <tr>\n",
       "      <th>400</th>\n",
       "      <td>Aetna</td>\n",
       "      <td>60000.0</td>\n",
       "      <td>55000.0</td>\n",
       "      <td>5000.0</td>\n",
       "      <td>Coronary Artery Disease</td>\n",
       "      <td>I25.10</td>\n",
       "      <td>Coronary artery bypass, vein only; single vein...</td>\n",
       "      <td>33510</td>\n",
       "    </tr>\n",
       "    <tr>\n",
       "      <th>401</th>\n",
       "      <td>Aetna</td>\n",
       "      <td>850.0</td>\n",
       "      <td>765.0</td>\n",
       "      <td>85.0</td>\n",
       "      <td>Surgical Site Infection</td>\n",
       "      <td>T81.4</td>\n",
       "      <td>Therapeutic, prophylactic, or diagnostic injec...</td>\n",
       "      <td>96374</td>\n",
       "    </tr>\n",
       "    <tr>\n",
       "      <th>402</th>\n",
       "      <td>Aetna</td>\n",
       "      <td>1200.0</td>\n",
       "      <td>1092.0</td>\n",
       "      <td>108.0</td>\n",
       "      <td>Pneumonia</td>\n",
       "      <td>J18.9</td>\n",
       "      <td>Pressurized or nonpressurized inhalation treat...</td>\n",
       "      <td>94640</td>\n",
       "    </tr>\n",
       "    <tr>\n",
       "      <th>403</th>\n",
       "      <td>Aetna</td>\n",
       "      <td>10000.0</td>\n",
       "      <td>9200.0</td>\n",
       "      <td>800.0</td>\n",
       "      <td>Graft Failure</td>\n",
       "      <td>T82.82</td>\n",
       "      <td>Coronary angiography including coronary artery...</td>\n",
       "      <td>93458</td>\n",
       "    </tr>\n",
       "    <tr>\n",
       "      <th>404</th>\n",
       "      <td>Aetna</td>\n",
       "      <td>8500.0</td>\n",
       "      <td>7905.0</td>\n",
       "      <td>595.0</td>\n",
       "      <td>Atrial Fibrillation</td>\n",
       "      <td>I48.0</td>\n",
       "      <td>Electrophysiologic evaluation of single or dua...</td>\n",
       "      <td>93620</td>\n",
       "    </tr>\n",
       "  </tbody>\n",
       "</table>\n",
       "</div>"
      ],
      "text/plain": [
       "    insurance_provider  total_billed_amount  insurance_covered_amount  \\\n",
       "400              Aetna              60000.0                   55000.0   \n",
       "401              Aetna                850.0                     765.0   \n",
       "402              Aetna               1200.0                    1092.0   \n",
       "403              Aetna              10000.0                    9200.0   \n",
       "404              Aetna               8500.0                    7905.0   \n",
       "\n",
       "     patient_responsibility_amount                diagnosis diagnosis_code  \\\n",
       "400                         5000.0  Coronary Artery Disease         I25.10   \n",
       "401                           85.0  Surgical Site Infection          T81.4   \n",
       "402                          108.0                Pneumonia          J18.9   \n",
       "403                          800.0            Graft Failure         T82.82   \n",
       "404                          595.0      Atrial Fibrillation          I48.0   \n",
       "\n",
       "                                             procedure  cpt_code  \n",
       "400  Coronary artery bypass, vein only; single vein...     33510  \n",
       "401  Therapeutic, prophylactic, or diagnostic injec...     96374  \n",
       "402  Pressurized or nonpressurized inhalation treat...     94640  \n",
       "403  Coronary angiography including coronary artery...     93458  \n",
       "404  Electrophysiologic evaluation of single or dua...     93620  "
      ]
     },
     "execution_count": 35,
     "metadata": {},
     "output_type": "execute_result"
    }
   ],
   "source": [
    "df_readmit = df_readmit[['insurance_provider', 'total_billed_amount', \n",
    "                         'insurance_covered_amount', 'patient_responsibility_amount', \n",
    "                         'diagnosis', 'diagnosis_code', 'procedure', 'cpt_code']]\n",
    "\n",
    "df_readmit"
   ]
  },
  {
   "cell_type": "code",
   "execution_count": 43,
   "id": "3b8ef09d",
   "metadata": {},
   "outputs": [
    {
     "data": {
      "text/plain": [
       "{'Coronary Artery Disease': 'Coronary artery bypass, vein only; single vein graft',\n",
       " 'Surgical Site Infection': 'Therapeutic, prophylactic, or diagnostic injection (specify substance or drug); intravenous push, single or initial substance/drug',\n",
       " 'Pneumonia': 'Pressurized or nonpressurized inhalation treatment for acute airway obstruction or for sputum induction for diagnostic purposes (eg, with an aerosol generator, nebulizer, metered dose inhaler or intermittent positive pressure breathing [IPPB] device).',\n",
       " 'Graft Failure': 'Coronary angiography including coronary artery(s), bypass graft(s) (when present), and imaging of the aorta, when performed; including intraprocedural injection(s) for bypass graft angiography, image documentation, and report.',\n",
       " 'Atrial Fibrillation': 'Electrophysiologic evaluation of single or dual chamber pacing cardioverter-defibrillator leads including defibrillation threshold evaluation, induction of arrhythmia with pacing or isoproterenol or other infusion (List separately in addition to code for primary procedure).'}"
      ]
     },
     "execution_count": 43,
     "metadata": {},
     "output_type": "execute_result"
    }
   ],
   "source": [
    "dict(zip(list(df_readmit['diagnosis']), list(df_readmit['procedure'])))"
   ]
  },
  {
   "cell_type": "code",
   "execution_count": 44,
   "id": "65f80ece",
   "metadata": {},
   "outputs": [
    {
     "name": "stdout",
     "output_type": "stream",
     "text": [
      "total_billed_amount:  80550.0\n"
     ]
    }
   ],
   "source": [
    "print(\"total_billed_amount: \", df_readmit['total_billed_amount'].sum())"
   ]
  },
  {
   "cell_type": "code",
   "execution_count": null,
   "id": "bb4c7aed",
   "metadata": {},
   "outputs": [],
   "source": []
  }
 ],
 "metadata": {
  "kernelspec": {
   "display_name": "Python 3 (ipykernel)",
   "language": "python",
   "name": "python3"
  },
  "language_info": {
   "codemirror_mode": {
    "name": "ipython",
    "version": 3
   },
   "file_extension": ".py",
   "mimetype": "text/x-python",
   "name": "python",
   "nbconvert_exporter": "python",
   "pygments_lexer": "ipython3",
   "version": "3.9.13"
  }
 },
 "nbformat": 4,
 "nbformat_minor": 5
}
